{
 "cells": [
  {
   "cell_type": "code",
   "execution_count": 4,
   "id": "4b631d19",
   "metadata": {},
   "outputs": [],
   "source": [
    "import pandas as pd"
   ]
  },
  {
   "cell_type": "code",
   "execution_count": 5,
   "id": "66d76d80",
   "metadata": {},
   "outputs": [],
   "source": [
    "df = pd.read_csv('SDG_Score.csv')"
   ]
  },
  {
   "cell_type": "code",
   "execution_count": 7,
   "id": "97e3e431",
   "metadata": {},
   "outputs": [],
   "source": [
    "df = df.sort_values(by = 'Overall SDG Score', ascending=False)"
   ]
  },
  {
   "cell_type": "code",
   "execution_count": 28,
   "id": "8dd55ee0",
   "metadata": {},
   "outputs": [
    {
     "data": {
      "text/plain": [
       "District/Area/Building Group    (Kowloon Tong) Jumbo Cour...(Kowloon Tong) Jum...\n",
       "Building                                                         Clifford Mansion\n",
       "lat                                                                     23.114887\n",
       "lon                                                                    113.313525\n",
       "Region                                                                    Kowloon\n",
       "District                                                              KowloonCity\n",
       "SDG1                                                                         0.38\n",
       "SDG2                                                                         1.91\n",
       "SDG3                                                                         0.12\n",
       "SDG4                                                                         0.07\n",
       "SDG5                                                                         0.27\n",
       "SDG6                                                                         0.03\n",
       "SDG7                                                                         10.0\n",
       "SDG8                                                                          0.8\n",
       "SDG9                                                                          1.2\n",
       "SDG10                                                                        2.57\n",
       "SDG11                                                                        6.27\n",
       "SDG12                                                                        8.57\n",
       "SDG13                                                                        0.03\n",
       "SDG14                                                                        6.76\n",
       "SDG15                                                                        6.76\n",
       "SDG16                                                                        0.03\n",
       "SDG17                                                                        0.03\n",
       "Overall SDG Score                                                            3.57\n",
       "Name: 5609, dtype: object"
      ]
     },
     "execution_count": 28,
     "metadata": {},
     "output_type": "execute_result"
    }
   ],
   "source": [
    "df.iloc[22]"
   ]
  },
  {
   "cell_type": "code",
   "execution_count": null,
   "id": "57c80ab6",
   "metadata": {},
   "outputs": [],
   "source": []
  }
 ],
 "metadata": {
  "kernelspec": {
   "display_name": "Python 3 (ipykernel)",
   "language": "python",
   "name": "python3"
  },
  "language_info": {
   "codemirror_mode": {
    "name": "ipython",
    "version": 3
   },
   "file_extension": ".py",
   "mimetype": "text/x-python",
   "name": "python",
   "nbconvert_exporter": "python",
   "pygments_lexer": "ipython3",
   "version": "3.11.5"
  }
 },
 "nbformat": 4,
 "nbformat_minor": 5
}
