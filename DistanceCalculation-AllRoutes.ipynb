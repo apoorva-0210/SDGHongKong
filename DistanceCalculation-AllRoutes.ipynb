{
 "cells": [
  {
   "cell_type": "code",
   "execution_count": 1,
   "id": "78b5ad82",
   "metadata": {},
   "outputs": [],
   "source": [
    "import pandas as pd\n",
    "#from math import radians, cos, sin, asin, sqrt\n",
    "#from numpy import cos, sin, arcsin, sqrt\n",
    "from ast import literal_eval\n",
    "#from haversine import haversine\n",
    "#from sklearn.metrics.pairwise import haversine_distances\n",
    "from tqdm import tqdm\n",
    "import requests\n",
    "import json\n",
    "import networkx as nx\n",
    "import osmnx as ox"
   ]
  },
  {
   "cell_type": "code",
   "execution_count": 2,
   "id": "d6fcb0ac",
   "metadata": {},
   "outputs": [],
   "source": [
    "import warnings\n",
    "warnings.filterwarnings(\"ignore\")"
   ]
  },
  {
   "cell_type": "code",
   "execution_count": 3,
   "id": "6a0cec3d",
   "metadata": {},
   "outputs": [],
   "source": [
    "df = pd.read_csv('CentamapNotNullGeocoded.csv')"
   ]
  },
  {
   "cell_type": "code",
   "execution_count": 4,
   "id": "c57e749f",
   "metadata": {},
   "outputs": [],
   "source": [
    "df_score = pd.read_csv('ScoreModellingRevised.csv')\n",
    "#df_score['Building'] = df['Division']"
   ]
  },
  {
   "cell_type": "code",
   "execution_count": 5,
   "id": "b377be58",
   "metadata": {},
   "outputs": [],
   "source": [
    "df['geocode'].fillna('[]', inplace=True)\n",
    "\n",
    "#df.info()"
   ]
  },
  {
   "cell_type": "code",
   "execution_count": 6,
   "id": "450e3e37",
   "metadata": {},
   "outputs": [],
   "source": [
    "try:\n",
    "    df['geocode'] = df['geocode'].apply(literal_eval)\n",
    "except:\n",
    "    df['geocode'] = None"
   ]
  },
  {
   "cell_type": "code",
   "execution_count": 7,
   "id": "a85e13ca",
   "metadata": {},
   "outputs": [],
   "source": [
    "df.replace('(@) - Figures of individual items...(@) - Figures of individual items are suppressed to ensure data confidentiality.',\n",
    "          '', inplace = True)"
   ]
  },
  {
   "cell_type": "code",
   "execution_count": 8,
   "id": "f9418c9a",
   "metadata": {},
   "outputs": [],
   "source": [
    "#df_score['geocode'] = df['geocode']"
   ]
  },
  {
   "cell_type": "code",
   "execution_count": 9,
   "id": "925c9f3a",
   "metadata": {},
   "outputs": [],
   "source": [
    "#df_score"
   ]
  },
  {
   "cell_type": "code",
   "execution_count": 10,
   "id": "d4156550",
   "metadata": {},
   "outputs": [],
   "source": [
    "df_facilities = pd.read_csv('Facilities.csv')"
   ]
  },
  {
   "cell_type": "code",
   "execution_count": 11,
   "id": "488c1d2f",
   "metadata": {},
   "outputs": [],
   "source": [
    "df_facilities = df_facilities[~df_facilities['latitude'].isnull()]"
   ]
  },
  {
   "cell_type": "code",
   "execution_count": 12,
   "id": "3e84452c",
   "metadata": {},
   "outputs": [],
   "source": [
    "df_facilities = df_facilities.reset_index()"
   ]
  },
  {
   "cell_type": "code",
   "execution_count": 13,
   "id": "60ae0d2f",
   "metadata": {},
   "outputs": [],
   "source": [
    "df_facilities.drop(columns= ['index'], inplace = True)"
   ]
  },
  {
   "cell_type": "code",
   "execution_count": 14,
   "id": "1cc49207",
   "metadata": {},
   "outputs": [
    {
     "ename": "SyntaxError",
     "evalue": "invalid syntax (<ipython-input-14-c2f01464fc99>, line 3)",
     "output_type": "error",
     "traceback": [
      "\u001b[1;36m  File \u001b[1;32m\"<ipython-input-14-c2f01464fc99>\"\u001b[1;36m, line \u001b[1;32m3\u001b[0m\n\u001b[1;33m    Home Dept\u001b[0m\n\u001b[1;37m         ^\u001b[0m\n\u001b[1;31mSyntaxError\u001b[0m\u001b[1;31m:\u001b[0m invalid syntax\n"
     ]
    }
   ],
   "source": [
    "Leisure\n",
    "Schools\n",
    "Home Dept\n",
    "Hospitals\n",
    "Acitvity Area\n",
    "Food \n",
    "Electrical/Mechanical\n",
    "Waste Management \n",
    "Open Area for Public \n",
    "Post Office\n",
    "Wifi\n",
    "Transport\n",
    "Police\n",
    "Environmental\n",
    "Job"
   ]
  },
  {
   "cell_type": "code",
   "execution_count": null,
   "id": "be7a3cd1",
   "metadata": {},
   "outputs": [],
   "source": []
  },
  {
   "cell_type": "code",
   "execution_count": 14,
   "id": "984488a0",
   "metadata": {},
   "outputs": [
    {
     "data": {
      "text/plain": [
       "Leisure                  800\n",
       "Social Welfare           760\n",
       "Schools                  534\n",
       "Home Dept                257\n",
       "Hospitals                177\n",
       "Acitvity Area            119\n",
       "Food                     101\n",
       "Electrical/Mechanical     84\n",
       "Waste Management          55\n",
       "Open Area for Public      48\n",
       "Police                    42\n",
       "Wifi                      40\n",
       "Transport                 39\n",
       "Post Office               36\n",
       "Environmental             19\n",
       "Job                       16\n",
       "Marriage                   4\n",
       "Name: DataSetValue, dtype: int64"
      ]
     },
     "execution_count": 14,
     "metadata": {},
     "output_type": "execute_result"
    }
   ],
   "source": [
    "df_facilities['DataSetValue'].value_counts()"
   ]
  },
  {
   "cell_type": "code",
   "execution_count": 22,
   "id": "f164262c",
   "metadata": {},
   "outputs": [],
   "source": [
    "df_school = df_facilities[df_facilities['DataSetValue'] == 'Home Dept']"
   ]
  },
  {
   "cell_type": "code",
   "execution_count": 23,
   "id": "cab280ac",
   "metadata": {},
   "outputs": [
    {
     "data": {
      "text/plain": [
       "Holiday Flats (Licensed)                       45\n",
       "List of community halls / community centres    42\n",
       "Hotels (Licensed)                              41\n",
       "List of licensed club-houses                   37\n",
       "Holiday Camps (Licensed)                       34\n",
       "Guesthouses (Licensed)                         33\n",
       "District Offices and Sub-offices               25\n",
       "Name: Dataset, dtype: int64"
      ]
     },
     "execution_count": 23,
     "metadata": {},
     "output_type": "execute_result"
    }
   ],
   "source": [
    "df_school['Dataset'].value_counts()"
   ]
  },
  {
   "cell_type": "code",
   "execution_count": 24,
   "id": "a6c0f8cc",
   "metadata": {},
   "outputs": [],
   "source": [
    "df_school = df_school[df_school['Dataset'] == 'Marine Parks']"
   ]
  },
  {
   "cell_type": "code",
   "execution_count": 25,
   "id": "2fe81571",
   "metadata": {},
   "outputs": [
    {
     "data": {
      "text/plain": [
       "Marine Parks    5\n",
       "Name: Dataset, dtype: int64"
      ]
     },
     "execution_count": 25,
     "metadata": {},
     "output_type": "execute_result"
    }
   ],
   "source": [
    "df_school['Dataset'].value_counts()"
   ]
  },
  {
   "cell_type": "code",
   "execution_count": null,
   "id": "8d7664f2",
   "metadata": {},
   "outputs": [],
   "source": [
    "lst_fac = ['Occasional Child Care Service', 'Long Stay Care Home', 'Residential Special Child Care Centre',\n",
    "          'Aided Standalone Child Care Centre', 'Mutual Help Child Care Centre',\n",
    "          'Private and Non-profit making standalone Child Care Centre', 'Special Child Care Centre']"
   ]
  },
  {
   "cell_type": "code",
   "execution_count": null,
   "id": "20f75e3c",
   "metadata": {},
   "outputs": [],
   "source": [
    "df_school = df_school[df_school['Dataset'].isin(lst_fac)]"
   ]
  },
  {
   "cell_type": "code",
   "execution_count": 26,
   "id": "56f28f51",
   "metadata": {},
   "outputs": [
    {
     "data": {
      "text/plain": [
       "(5, 118)"
      ]
     },
     "execution_count": 26,
     "metadata": {},
     "output_type": "execute_result"
    }
   ],
   "source": [
    "df_school.shape"
   ]
  },
  {
   "cell_type": "code",
   "execution_count": 27,
   "id": "e71f6f0c",
   "metadata": {},
   "outputs": [],
   "source": [
    "df_school = df_school.reset_index()"
   ]
  },
  {
   "cell_type": "code",
   "execution_count": 28,
   "id": "aca97653",
   "metadata": {},
   "outputs": [],
   "source": [
    "df_school.drop(columns=['index'], inplace = True)"
   ]
  },
  {
   "cell_type": "code",
   "execution_count": 29,
   "id": "160a00a0",
   "metadata": {},
   "outputs": [
    {
     "data": {
      "text/html": [
       "<div>\n",
       "<style scoped>\n",
       "    .dataframe tbody tr th:only-of-type {\n",
       "        vertical-align: middle;\n",
       "    }\n",
       "\n",
       "    .dataframe tbody tr th {\n",
       "        vertical-align: top;\n",
       "    }\n",
       "\n",
       "    .dataframe thead th {\n",
       "        text-align: right;\n",
       "    }\n",
       "</style>\n",
       "<table border=\"1\" class=\"dataframe\">\n",
       "  <thead>\n",
       "    <tr style=\"text-align: right;\">\n",
       "      <th></th>\n",
       "      <th>Dataset</th>\n",
       "      <th>Facility Name</th>\n",
       "      <th>Address</th>\n",
       "      <th>Name of Recycling Organisations</th>\n",
       "      <th>Types of Material Collection</th>\n",
       "      <th>District</th>\n",
       "      <th>Others</th>\n",
       "      <th>Opening Hours</th>\n",
       "      <th>Telephone</th>\n",
       "      <th>Fax Number  / 傳真號碼</th>\n",
       "      <th>...</th>\n",
       "      <th>Country Park</th>\n",
       "      <th>Number of BBQ Pit</th>\n",
       "      <th>Display Barbecue Sites</th>\n",
       "      <th>Country Park/Special Area</th>\n",
       "      <th>Source of water</th>\n",
       "      <th>Tent space  / 營位數目</th>\n",
       "      <th>Facilities</th>\n",
       "      <th>geocode</th>\n",
       "      <th>latitude</th>\n",
       "      <th>longitude</th>\n",
       "    </tr>\n",
       "  </thead>\n",
       "  <tbody>\n",
       "    <tr>\n",
       "      <th>0</th>\n",
       "      <td>Marine Parks</td>\n",
       "      <td>Hoi Ha Wan Marine Park</td>\n",
       "      <td>Hoi Ha Wan</td>\n",
       "      <td>NaN</td>\n",
       "      <td>NaN</td>\n",
       "      <td>NaN</td>\n",
       "      <td>NaN</td>\n",
       "      <td>N.A.</td>\n",
       "      <td>NaN</td>\n",
       "      <td>N.A.</td>\n",
       "      <td>...</td>\n",
       "      <td>NaN</td>\n",
       "      <td>NaN</td>\n",
       "      <td>NaN</td>\n",
       "      <td>NaN</td>\n",
       "      <td>NaN</td>\n",
       "      <td>NaN</td>\n",
       "      <td>NaN</td>\n",
       "      <td>{'address_components': [{'long_name': 'Hoi Ha ...</td>\n",
       "      <td>22.470897</td>\n",
       "      <td>114.335629</td>\n",
       "    </tr>\n",
       "    <tr>\n",
       "      <th>1</th>\n",
       "      <td>Marine Parks</td>\n",
       "      <td>Sha Chau &amp; Lung Kwu Chau Marine Park</td>\n",
       "      <td>Sha Chau &amp; Lung Kwu Chau</td>\n",
       "      <td>NaN</td>\n",
       "      <td>NaN</td>\n",
       "      <td>NaN</td>\n",
       "      <td>NaN</td>\n",
       "      <td>N.A.</td>\n",
       "      <td>NaN</td>\n",
       "      <td>N.A.</td>\n",
       "      <td>...</td>\n",
       "      <td>NaN</td>\n",
       "      <td>NaN</td>\n",
       "      <td>NaN</td>\n",
       "      <td>NaN</td>\n",
       "      <td>NaN</td>\n",
       "      <td>NaN</td>\n",
       "      <td>NaN</td>\n",
       "      <td>{'address_components': [{'long_name': 'Sha Cha...</td>\n",
       "      <td>22.379017</td>\n",
       "      <td>113.882486</td>\n",
       "    </tr>\n",
       "  </tbody>\n",
       "</table>\n",
       "<p>2 rows × 118 columns</p>\n",
       "</div>"
      ],
      "text/plain": [
       "        Dataset                         Facility Name  \\\n",
       "0  Marine Parks                Hoi Ha Wan Marine Park   \n",
       "1  Marine Parks  Sha Chau & Lung Kwu Chau Marine Park   \n",
       "\n",
       "                    Address Name of Recycling Organisations  \\\n",
       "0                Hoi Ha Wan                             NaN   \n",
       "1  Sha Chau & Lung Kwu Chau                             NaN   \n",
       "\n",
       "  Types of Material Collection District Others Opening Hours Telephone  \\\n",
       "0                          NaN      NaN    NaN          N.A.       NaN   \n",
       "1                          NaN      NaN    NaN          N.A.       NaN   \n",
       "\n",
       "  Fax Number  / 傳真號碼  ... Country Park Number of BBQ Pit  \\\n",
       "0               N.A.  ...          NaN               NaN   \n",
       "1               N.A.  ...          NaN               NaN   \n",
       "\n",
       "  Display Barbecue Sites Country Park/Special Area Source of water  \\\n",
       "0                    NaN                       NaN             NaN   \n",
       "1                    NaN                       NaN             NaN   \n",
       "\n",
       "  Tent space  / 營位數目 Facilities  \\\n",
       "0                NaN        NaN   \n",
       "1                NaN        NaN   \n",
       "\n",
       "                                             geocode   latitude   longitude  \n",
       "0  {'address_components': [{'long_name': 'Hoi Ha ...  22.470897  114.335629  \n",
       "1  {'address_components': [{'long_name': 'Sha Cha...  22.379017  113.882486  \n",
       "\n",
       "[2 rows x 118 columns]"
      ]
     },
     "execution_count": 29,
     "metadata": {},
     "output_type": "execute_result"
    }
   ],
   "source": [
    "df_school.head(2)"
   ]
  },
  {
   "cell_type": "code",
   "execution_count": 30,
   "id": "225eeb77",
   "metadata": {},
   "outputs": [],
   "source": [
    "df_sch = pd.DataFrame()\n",
    "df_sch['building'] = df['Division']\n",
    "df_sch['geocode'] = df['geocode']\n",
    "df_sch['lat'] = df['latitude']\n",
    "df_sch['lon'] = df['longitude']"
   ]
  },
  {
   "cell_type": "code",
   "execution_count": 31,
   "id": "7e1f111f",
   "metadata": {},
   "outputs": [],
   "source": [
    "#df_school.drop_duplicates(subset='Facility Name', inplace = True)"
   ]
  },
  {
   "cell_type": "code",
   "execution_count": 32,
   "id": "ec68b6cf",
   "metadata": {},
   "outputs": [
    {
     "data": {
      "text/html": [
       "<div>\n",
       "<style scoped>\n",
       "    .dataframe tbody tr th:only-of-type {\n",
       "        vertical-align: middle;\n",
       "    }\n",
       "\n",
       "    .dataframe tbody tr th {\n",
       "        vertical-align: top;\n",
       "    }\n",
       "\n",
       "    .dataframe thead th {\n",
       "        text-align: right;\n",
       "    }\n",
       "</style>\n",
       "<table border=\"1\" class=\"dataframe\">\n",
       "  <thead>\n",
       "    <tr style=\"text-align: right;\">\n",
       "      <th></th>\n",
       "      <th>Dataset</th>\n",
       "      <th>Facility Name</th>\n",
       "      <th>Address</th>\n",
       "      <th>Name of Recycling Organisations</th>\n",
       "      <th>Types of Material Collection</th>\n",
       "      <th>District</th>\n",
       "      <th>Others</th>\n",
       "      <th>Opening Hours</th>\n",
       "      <th>Telephone</th>\n",
       "      <th>Fax Number  / 傳真號碼</th>\n",
       "      <th>...</th>\n",
       "      <th>Country Park</th>\n",
       "      <th>Number of BBQ Pit</th>\n",
       "      <th>Display Barbecue Sites</th>\n",
       "      <th>Country Park/Special Area</th>\n",
       "      <th>Source of water</th>\n",
       "      <th>Tent space  / 營位數目</th>\n",
       "      <th>Facilities</th>\n",
       "      <th>geocode</th>\n",
       "      <th>latitude</th>\n",
       "      <th>longitude</th>\n",
       "    </tr>\n",
       "  </thead>\n",
       "  <tbody>\n",
       "    <tr>\n",
       "      <th>0</th>\n",
       "      <td>Marine Parks</td>\n",
       "      <td>Hoi Ha Wan Marine Park</td>\n",
       "      <td>Hoi Ha Wan</td>\n",
       "      <td>NaN</td>\n",
       "      <td>NaN</td>\n",
       "      <td>NaN</td>\n",
       "      <td>NaN</td>\n",
       "      <td>N.A.</td>\n",
       "      <td>NaN</td>\n",
       "      <td>N.A.</td>\n",
       "      <td>...</td>\n",
       "      <td>NaN</td>\n",
       "      <td>NaN</td>\n",
       "      <td>NaN</td>\n",
       "      <td>NaN</td>\n",
       "      <td>NaN</td>\n",
       "      <td>NaN</td>\n",
       "      <td>NaN</td>\n",
       "      <td>{'address_components': [{'long_name': 'Hoi Ha ...</td>\n",
       "      <td>22.470897</td>\n",
       "      <td>114.335629</td>\n",
       "    </tr>\n",
       "    <tr>\n",
       "      <th>1</th>\n",
       "      <td>Marine Parks</td>\n",
       "      <td>Sha Chau &amp; Lung Kwu Chau Marine Park</td>\n",
       "      <td>Sha Chau &amp; Lung Kwu Chau</td>\n",
       "      <td>NaN</td>\n",
       "      <td>NaN</td>\n",
       "      <td>NaN</td>\n",
       "      <td>NaN</td>\n",
       "      <td>N.A.</td>\n",
       "      <td>NaN</td>\n",
       "      <td>N.A.</td>\n",
       "      <td>...</td>\n",
       "      <td>NaN</td>\n",
       "      <td>NaN</td>\n",
       "      <td>NaN</td>\n",
       "      <td>NaN</td>\n",
       "      <td>NaN</td>\n",
       "      <td>NaN</td>\n",
       "      <td>NaN</td>\n",
       "      <td>{'address_components': [{'long_name': 'Sha Cha...</td>\n",
       "      <td>22.379017</td>\n",
       "      <td>113.882486</td>\n",
       "    </tr>\n",
       "    <tr>\n",
       "      <th>2</th>\n",
       "      <td>Marine Parks</td>\n",
       "      <td>Southwest Lantau Marine Park</td>\n",
       "      <td>The Southwestern waters of Lantau</td>\n",
       "      <td>NaN</td>\n",
       "      <td>NaN</td>\n",
       "      <td>NaN</td>\n",
       "      <td>NaN</td>\n",
       "      <td>N.A.</td>\n",
       "      <td>NaN</td>\n",
       "      <td>N.A.</td>\n",
       "      <td>...</td>\n",
       "      <td>NaN</td>\n",
       "      <td>NaN</td>\n",
       "      <td>NaN</td>\n",
       "      <td>NaN</td>\n",
       "      <td>NaN</td>\n",
       "      <td>NaN</td>\n",
       "      <td>NaN</td>\n",
       "      <td>{'address_components': [{'long_name': 'Lantau ...</td>\n",
       "      <td>22.266498</td>\n",
       "      <td>113.941751</td>\n",
       "    </tr>\n",
       "  </tbody>\n",
       "</table>\n",
       "<p>3 rows × 118 columns</p>\n",
       "</div>"
      ],
      "text/plain": [
       "        Dataset                         Facility Name  \\\n",
       "0  Marine Parks                Hoi Ha Wan Marine Park   \n",
       "1  Marine Parks  Sha Chau & Lung Kwu Chau Marine Park   \n",
       "2  Marine Parks          Southwest Lantau Marine Park   \n",
       "\n",
       "                             Address Name of Recycling Organisations  \\\n",
       "0                         Hoi Ha Wan                             NaN   \n",
       "1           Sha Chau & Lung Kwu Chau                             NaN   \n",
       "2  The Southwestern waters of Lantau                             NaN   \n",
       "\n",
       "  Types of Material Collection District Others Opening Hours Telephone  \\\n",
       "0                          NaN      NaN    NaN          N.A.       NaN   \n",
       "1                          NaN      NaN    NaN          N.A.       NaN   \n",
       "2                          NaN      NaN    NaN          N.A.       NaN   \n",
       "\n",
       "  Fax Number  / 傳真號碼  ... Country Park Number of BBQ Pit  \\\n",
       "0               N.A.  ...          NaN               NaN   \n",
       "1               N.A.  ...          NaN               NaN   \n",
       "2               N.A.  ...          NaN               NaN   \n",
       "\n",
       "  Display Barbecue Sites Country Park/Special Area Source of water  \\\n",
       "0                    NaN                       NaN             NaN   \n",
       "1                    NaN                       NaN             NaN   \n",
       "2                    NaN                       NaN             NaN   \n",
       "\n",
       "  Tent space  / 營位數目 Facilities  \\\n",
       "0                NaN        NaN   \n",
       "1                NaN        NaN   \n",
       "2                NaN        NaN   \n",
       "\n",
       "                                             geocode   latitude   longitude  \n",
       "0  {'address_components': [{'long_name': 'Hoi Ha ...  22.470897  114.335629  \n",
       "1  {'address_components': [{'long_name': 'Sha Cha...  22.379017  113.882486  \n",
       "2  {'address_components': [{'long_name': 'Lantau ...  22.266498  113.941751  \n",
       "\n",
       "[3 rows x 118 columns]"
      ]
     },
     "execution_count": 32,
     "metadata": {},
     "output_type": "execute_result"
    }
   ],
   "source": [
    "df_school.head(3)"
   ]
  },
  {
   "cell_type": "code",
   "execution_count": 33,
   "id": "2376ff28",
   "metadata": {},
   "outputs": [],
   "source": [
    "a = df_school.shape[0]"
   ]
  },
  {
   "cell_type": "code",
   "execution_count": 34,
   "id": "5ae54de9",
   "metadata": {},
   "outputs": [],
   "source": [
    "for i in range(0,a):\n",
    "    col = df_school['Facility Name'].iloc[i]\n",
    "    df_sch[col] = None"
   ]
  },
  {
   "cell_type": "code",
   "execution_count": 35,
   "id": "c991335c",
   "metadata": {},
   "outputs": [
    {
     "name": "stdout",
     "output_type": "stream",
     "text": [
      "Error\n",
      "Error\n"
     ]
    }
   ],
   "source": [
    "for i in df_sch.columns:\n",
    "    try:\n",
    "        df_sch[i] = df_sch[i].astype(float)\n",
    "    except:\n",
    "        print('Error')"
   ]
  },
  {
   "cell_type": "code",
   "execution_count": 36,
   "id": "70a91890",
   "metadata": {},
   "outputs": [],
   "source": [
    "G = ox.graph_from_place('Hong Kong', network_type = \"all\")\n",
    "#G1 = ox.graph_from_place('Hong Kong SAR, China', network_type = \"all\")"
   ]
  },
  {
   "cell_type": "code",
   "execution_count": 37,
   "id": "e6a9dcb4",
   "metadata": {},
   "outputs": [
    {
     "data": {
      "text/plain": [
       "\"lat_1 = df_sch['lat'].iloc[10]\\nlon_1 = df_sch['lon'].iloc[10]\\nlat_2 = df_school['latitude'].iloc[10]\\nlon_2 = df_school['longitude'].iloc[10]\""
      ]
     },
     "execution_count": 37,
     "metadata": {},
     "output_type": "execute_result"
    }
   ],
   "source": [
    "'''lat_1 = df_sch['lat'].iloc[10]\n",
    "lon_1 = df_sch['lon'].iloc[10]\n",
    "lat_2 = df_school['latitude'].iloc[10]\n",
    "lon_2 = df_school['longitude'].iloc[10]'''"
   ]
  },
  {
   "cell_type": "code",
   "execution_count": 38,
   "id": "3878bc08",
   "metadata": {},
   "outputs": [
    {
     "data": {
      "text/plain": [
       "'orig_node = ox.nearest_nodes(G, lon_1,  lat_1)\\ndest_node = ox.nearest_nodes(G, lon_2,  lat_2)'"
      ]
     },
     "execution_count": 38,
     "metadata": {},
     "output_type": "execute_result"
    }
   ],
   "source": [
    "'''orig_node = ox.nearest_nodes(G, lon_1,  lat_1)\n",
    "dest_node = ox.nearest_nodes(G, lon_2,  lat_2)'''"
   ]
  },
  {
   "cell_type": "code",
   "execution_count": 39,
   "id": "3dc40d45",
   "metadata": {},
   "outputs": [],
   "source": [
    "#nx.shortest_path_length(G, orig_node, dest_node, weight='length')"
   ]
  },
  {
   "cell_type": "code",
   "execution_count": 40,
   "id": "7407d32d",
   "metadata": {},
   "outputs": [],
   "source": [
    "#df_sch.iloc[10]"
   ]
  },
  {
   "cell_type": "code",
   "execution_count": 41,
   "id": "06ab0392",
   "metadata": {},
   "outputs": [],
   "source": [
    "#df_school.iloc[10]"
   ]
  },
  {
   "cell_type": "code",
   "execution_count": 42,
   "id": "c4d39f74",
   "metadata": {},
   "outputs": [],
   "source": [
    "#df_school = df_school.reset_index()"
   ]
  },
  {
   "cell_type": "code",
   "execution_count": 43,
   "id": "a3c5eaf5",
   "metadata": {},
   "outputs": [
    {
     "data": {
      "text/plain": [
       "'%%time  \\nfor i in tqdm(range(0,df_sch.shape[0])):\\n    lat_1 = df_sch[\\'lat\\'].iloc[i]\\n    lon_1 = df_sch[\\'lon\\'].iloc[i]\\n    try:\\n        for j in range(0,df_sch.shape[1]):\\n            sch_dis = df_sch.columns[j]\\n            #print(sch_dis)\\n            for k in range(0,df_school.shape[0]):\\n                if (df_school[\\'Facility Name\\'].iloc[k]==sch_dis):\\n                    lat_2 = df_school[\\'latitude\\'].iloc[k]\\n                    lon_2 = df_school[\\'longitude\\'].iloc[k]\\n                    r = requests.get(f\"http://router.project-osrm.org/route/v1/all/{lon_1},{lat_1};{lon_2},{lat_2}?overview=false\"\"\")\\n                    json_text = r.json()\\n                    json_text = json_text[\\'routes\\'][0][\\'distance\\']\\n                    df_sch[sch_dis].iloc[i] = json_text/1000\\n    except:\\n        df_sch[sch_dis].iloc[i] = None'"
      ]
     },
     "execution_count": 43,
     "metadata": {},
     "output_type": "execute_result"
    }
   ],
   "source": [
    "'''%%time  \n",
    "for i in tqdm(range(0,df_sch.shape[0])):\n",
    "    lat_1 = df_sch['lat'].iloc[i]\n",
    "    lon_1 = df_sch['lon'].iloc[i]\n",
    "    try:\n",
    "        for j in range(0,df_sch.shape[1]):\n",
    "            sch_dis = df_sch.columns[j]\n",
    "            #print(sch_dis)\n",
    "            for k in range(0,df_school.shape[0]):\n",
    "                if (df_school['Facility Name'].iloc[k]==sch_dis):\n",
    "                    lat_2 = df_school['latitude'].iloc[k]\n",
    "                    lon_2 = df_school['longitude'].iloc[k]\n",
    "                    r = requests.get(f\"http://router.project-osrm.org/route/v1/all/{lon_1},{lat_1};{lon_2},{lat_2}?overview=false\"\"\")\n",
    "                    json_text = r.json()\n",
    "                    json_text = json_text['routes'][0]['distance']\n",
    "                    df_sch[sch_dis].iloc[i] = json_text/1000\n",
    "    except:\n",
    "        df_sch[sch_dis].iloc[i] = None'''"
   ]
  },
  {
   "cell_type": "code",
   "execution_count": 44,
   "id": "3067300c",
   "metadata": {},
   "outputs": [
    {
     "name": "stderr",
     "output_type": "stream",
     "text": [
      "100%|████████████████████████████████████████████████████████████████████████████| 5465/5465 [2:00:35<00:00,  1.32s/it]"
     ]
    },
    {
     "name": "stdout",
     "output_type": "stream",
     "text": [
      "Wall time: 2h 35s\n"
     ]
    },
    {
     "name": "stderr",
     "output_type": "stream",
     "text": [
      "\n"
     ]
    }
   ],
   "source": [
    "%%time  \n",
    "for i in tqdm(range(0, df_sch.shape[0])):\n",
    "    lat_1 = df_sch['lat'].iloc[i]\n",
    "    lon_1 = df_sch['lon'].iloc[i]\n",
    "    orig_node = ox.nearest_nodes(G, lon_1,  lat_1)\n",
    "    for j in range(0,df_sch.shape[1]):\n",
    "        sch_dis = df_sch.columns[j]\n",
    "        #print(sch_dis)\n",
    "        for k in range(0,df_school.shape[0]):\n",
    "            #print(k)\n",
    "            if (df_school['Facility Name'].iloc[k]==sch_dis):\n",
    "                lat_2 = df_school['latitude'].iloc[k]\n",
    "                lon_2 = df_school['longitude'].iloc[k]\n",
    "                #print(lat_2)\n",
    "                try:\n",
    "                    orig_node = ox.nearest_nodes(G, lon_1,  lat_1)\n",
    "                    dest_node = ox.nearest_nodes(G, lon_2,  lat_2)\n",
    "                    json_text = nx.shortest_path_length(G, orig_node, dest_node, weight='distance')\n",
    "                    df_sch[sch_dis].iloc[i] = json_text\n",
    "                except:\n",
    "                    df_sch[sch_dis].iloc[i] = None"
   ]
  },
  {
   "cell_type": "code",
   "execution_count": 45,
   "id": "a46c978a",
   "metadata": {},
   "outputs": [
    {
     "data": {
      "text/html": [
       "<div>\n",
       "<style scoped>\n",
       "    .dataframe tbody tr th:only-of-type {\n",
       "        vertical-align: middle;\n",
       "    }\n",
       "\n",
       "    .dataframe tbody tr th {\n",
       "        vertical-align: top;\n",
       "    }\n",
       "\n",
       "    .dataframe thead th {\n",
       "        text-align: right;\n",
       "    }\n",
       "</style>\n",
       "<table border=\"1\" class=\"dataframe\">\n",
       "  <thead>\n",
       "    <tr style=\"text-align: right;\">\n",
       "      <th></th>\n",
       "      <th>building</th>\n",
       "      <th>geocode</th>\n",
       "      <th>lat</th>\n",
       "      <th>lon</th>\n",
       "      <th>Hoi Ha Wan Marine Park</th>\n",
       "      <th>Sha Chau &amp; Lung Kwu Chau Marine Park</th>\n",
       "      <th>Southwest Lantau Marine Park</th>\n",
       "      <th>The Brothers Marine Park</th>\n",
       "      <th>Tung Ping Chau Marine Park</th>\n",
       "    </tr>\n",
       "  </thead>\n",
       "  <tbody>\n",
       "    <tr>\n",
       "      <th>0</th>\n",
       "      <td>Providence Peak</td>\n",
       "      <td>{'address_components': [{'long_name': 'tower 3...</td>\n",
       "      <td>22.432130</td>\n",
       "      <td>114.202489</td>\n",
       "      <td>44.0</td>\n",
       "      <td>56.0</td>\n",
       "      <td>56.0</td>\n",
       "      <td>56.0</td>\n",
       "      <td>44.0</td>\n",
       "    </tr>\n",
       "    <tr>\n",
       "      <th>1</th>\n",
       "      <td>(Sha Tau Kok) residential buildings</td>\n",
       "      <td>{'address_components': [{'long_name': 'Sha Tau...</td>\n",
       "      <td>22.531577</td>\n",
       "      <td>114.203240</td>\n",
       "      <td>44.0</td>\n",
       "      <td>56.0</td>\n",
       "      <td>56.0</td>\n",
       "      <td>56.0</td>\n",
       "      <td>44.0</td>\n",
       "    </tr>\n",
       "    <tr>\n",
       "      <th>2</th>\n",
       "      <td>(Yuen Long Southeast) Tower 1-5, The Reach (Sh...</td>\n",
       "      <td>{'address_components': [{'long_name': 'Shap Pa...</td>\n",
       "      <td>22.437429</td>\n",
       "      <td>114.027660</td>\n",
       "      <td>49.0</td>\n",
       "      <td>36.0</td>\n",
       "      <td>36.0</td>\n",
       "      <td>36.0</td>\n",
       "      <td>49.0</td>\n",
       "    </tr>\n",
       "    <tr>\n",
       "      <th>3</th>\n",
       "      <td>(Yuen Long Southeast) Tower 10-13, The Reach (...</td>\n",
       "      <td>{'address_components': [{'long_name': 'Shap Pa...</td>\n",
       "      <td>22.437429</td>\n",
       "      <td>114.027660</td>\n",
       "      <td>49.0</td>\n",
       "      <td>36.0</td>\n",
       "      <td>36.0</td>\n",
       "      <td>36.0</td>\n",
       "      <td>49.0</td>\n",
       "    </tr>\n",
       "    <tr>\n",
       "      <th>4</th>\n",
       "      <td>(Yuen Long Southeast) Grand Del Sol (Fung Cheu...</td>\n",
       "      <td>{'address_components': [{'long_name': 'Fung Ch...</td>\n",
       "      <td>22.440560</td>\n",
       "      <td>114.032987</td>\n",
       "      <td>49.0</td>\n",
       "      <td>36.0</td>\n",
       "      <td>36.0</td>\n",
       "      <td>36.0</td>\n",
       "      <td>49.0</td>\n",
       "    </tr>\n",
       "  </tbody>\n",
       "</table>\n",
       "</div>"
      ],
      "text/plain": [
       "                                            building  \\\n",
       "0                                   Providence Peak    \n",
       "1               (Sha Tau Kok) residential buildings    \n",
       "2  (Yuen Long Southeast) Tower 1-5, The Reach (Sh...   \n",
       "3  (Yuen Long Southeast) Tower 10-13, The Reach (...   \n",
       "4  (Yuen Long Southeast) Grand Del Sol (Fung Cheu...   \n",
       "\n",
       "                                             geocode        lat         lon  \\\n",
       "0  {'address_components': [{'long_name': 'tower 3...  22.432130  114.202489   \n",
       "1  {'address_components': [{'long_name': 'Sha Tau...  22.531577  114.203240   \n",
       "2  {'address_components': [{'long_name': 'Shap Pa...  22.437429  114.027660   \n",
       "3  {'address_components': [{'long_name': 'Shap Pa...  22.437429  114.027660   \n",
       "4  {'address_components': [{'long_name': 'Fung Ch...  22.440560  114.032987   \n",
       "\n",
       "   Hoi Ha Wan Marine Park  Sha Chau & Lung Kwu Chau Marine Park  \\\n",
       "0                    44.0                                  56.0   \n",
       "1                    44.0                                  56.0   \n",
       "2                    49.0                                  36.0   \n",
       "3                    49.0                                  36.0   \n",
       "4                    49.0                                  36.0   \n",
       "\n",
       "   Southwest Lantau Marine Park  The Brothers Marine Park  \\\n",
       "0                          56.0                      56.0   \n",
       "1                          56.0                      56.0   \n",
       "2                          36.0                      36.0   \n",
       "3                          36.0                      36.0   \n",
       "4                          36.0                      36.0   \n",
       "\n",
       "   Tung Ping Chau Marine Park  \n",
       "0                        44.0  \n",
       "1                        44.0  \n",
       "2                        49.0  \n",
       "3                        49.0  \n",
       "4                        49.0  "
      ]
     },
     "execution_count": 45,
     "metadata": {},
     "output_type": "execute_result"
    }
   ],
   "source": [
    "df_sch.head(5)"
   ]
  },
  {
   "cell_type": "code",
   "execution_count": 46,
   "id": "02e177bc",
   "metadata": {},
   "outputs": [],
   "source": [
    "df_sch.to_csv('DistancesMatrixBackup.csv', index = False)"
   ]
  },
  {
   "cell_type": "code",
   "execution_count": 47,
   "id": "6cc26e52",
   "metadata": {},
   "outputs": [],
   "source": [
    "df_sch['Top5'] = None"
   ]
  },
  {
   "cell_type": "code",
   "execution_count": 48,
   "id": "51a4e366",
   "metadata": {},
   "outputs": [
    {
     "data": {
      "text/html": [
       "<div>\n",
       "<style scoped>\n",
       "    .dataframe tbody tr th:only-of-type {\n",
       "        vertical-align: middle;\n",
       "    }\n",
       "\n",
       "    .dataframe tbody tr th {\n",
       "        vertical-align: top;\n",
       "    }\n",
       "\n",
       "    .dataframe thead th {\n",
       "        text-align: right;\n",
       "    }\n",
       "</style>\n",
       "<table border=\"1\" class=\"dataframe\">\n",
       "  <thead>\n",
       "    <tr style=\"text-align: right;\">\n",
       "      <th></th>\n",
       "      <th>building</th>\n",
       "      <th>geocode</th>\n",
       "      <th>lat</th>\n",
       "      <th>lon</th>\n",
       "      <th>Hoi Ha Wan Marine Park</th>\n",
       "      <th>Sha Chau &amp; Lung Kwu Chau Marine Park</th>\n",
       "      <th>Southwest Lantau Marine Park</th>\n",
       "      <th>The Brothers Marine Park</th>\n",
       "      <th>Tung Ping Chau Marine Park</th>\n",
       "      <th>Top5</th>\n",
       "    </tr>\n",
       "  </thead>\n",
       "  <tbody>\n",
       "    <tr>\n",
       "      <th>0</th>\n",
       "      <td>Providence Peak</td>\n",
       "      <td>{'address_components': [{'long_name': 'tower 3...</td>\n",
       "      <td>22.432130</td>\n",
       "      <td>114.202489</td>\n",
       "      <td>44.0</td>\n",
       "      <td>56.0</td>\n",
       "      <td>56.0</td>\n",
       "      <td>56.0</td>\n",
       "      <td>44.0</td>\n",
       "      <td>None</td>\n",
       "    </tr>\n",
       "    <tr>\n",
       "      <th>1</th>\n",
       "      <td>(Sha Tau Kok) residential buildings</td>\n",
       "      <td>{'address_components': [{'long_name': 'Sha Tau...</td>\n",
       "      <td>22.531577</td>\n",
       "      <td>114.203240</td>\n",
       "      <td>44.0</td>\n",
       "      <td>56.0</td>\n",
       "      <td>56.0</td>\n",
       "      <td>56.0</td>\n",
       "      <td>44.0</td>\n",
       "      <td>None</td>\n",
       "    </tr>\n",
       "  </tbody>\n",
       "</table>\n",
       "</div>"
      ],
      "text/plain": [
       "                               building  \\\n",
       "0                      Providence Peak    \n",
       "1  (Sha Tau Kok) residential buildings    \n",
       "\n",
       "                                             geocode        lat         lon  \\\n",
       "0  {'address_components': [{'long_name': 'tower 3...  22.432130  114.202489   \n",
       "1  {'address_components': [{'long_name': 'Sha Tau...  22.531577  114.203240   \n",
       "\n",
       "   Hoi Ha Wan Marine Park  Sha Chau & Lung Kwu Chau Marine Park  \\\n",
       "0                    44.0                                  56.0   \n",
       "1                    44.0                                  56.0   \n",
       "\n",
       "   Southwest Lantau Marine Park  The Brothers Marine Park  \\\n",
       "0                          56.0                      56.0   \n",
       "1                          56.0                      56.0   \n",
       "\n",
       "   Tung Ping Chau Marine Park  Top5  \n",
       "0                        44.0  None  \n",
       "1                        44.0  None  "
      ]
     },
     "execution_count": 48,
     "metadata": {},
     "output_type": "execute_result"
    }
   ],
   "source": [
    "df_sch.head(2)"
   ]
  },
  {
   "cell_type": "code",
   "execution_count": 49,
   "id": "82a3be2a",
   "metadata": {},
   "outputs": [
    {
     "name": "stdout",
     "output_type": "stream",
     "text": [
      "Error\n"
     ]
    }
   ],
   "source": [
    "for i in range(4, df_sch.shape[1]):\n",
    "    try:\n",
    "        col = df_sch.columns[i]\n",
    "        #print(col)\n",
    "        df_sch[col] = round(df_sch[col], 2)\n",
    "    except:\n",
    "        print('Error')"
   ]
  },
  {
   "cell_type": "code",
   "execution_count": 50,
   "id": "599116c1",
   "metadata": {},
   "outputs": [],
   "source": [
    "for i in df_sch.index:\n",
    "    df_sch['Top5'].iloc[i] = df_sch.iloc[i].values.tolist()\n",
    "    df_sch['Top5'].iloc[i] = df_sch['Top5'][i][4:]\n",
    "    #df_sch['Top5'][i].sort()"
   ]
  },
  {
   "cell_type": "code",
   "execution_count": 51,
   "id": "03497957",
   "metadata": {},
   "outputs": [
    {
     "data": {
      "text/html": [
       "<div>\n",
       "<style scoped>\n",
       "    .dataframe tbody tr th:only-of-type {\n",
       "        vertical-align: middle;\n",
       "    }\n",
       "\n",
       "    .dataframe tbody tr th {\n",
       "        vertical-align: top;\n",
       "    }\n",
       "\n",
       "    .dataframe thead th {\n",
       "        text-align: right;\n",
       "    }\n",
       "</style>\n",
       "<table border=\"1\" class=\"dataframe\">\n",
       "  <thead>\n",
       "    <tr style=\"text-align: right;\">\n",
       "      <th></th>\n",
       "      <th>building</th>\n",
       "      <th>geocode</th>\n",
       "      <th>lat</th>\n",
       "      <th>lon</th>\n",
       "      <th>Hoi Ha Wan Marine Park</th>\n",
       "      <th>Sha Chau &amp; Lung Kwu Chau Marine Park</th>\n",
       "      <th>Southwest Lantau Marine Park</th>\n",
       "      <th>The Brothers Marine Park</th>\n",
       "      <th>Tung Ping Chau Marine Park</th>\n",
       "      <th>Top5</th>\n",
       "    </tr>\n",
       "  </thead>\n",
       "  <tbody>\n",
       "    <tr>\n",
       "      <th>0</th>\n",
       "      <td>Providence Peak</td>\n",
       "      <td>{'address_components': [{'long_name': 'tower 3...</td>\n",
       "      <td>22.432130</td>\n",
       "      <td>114.202489</td>\n",
       "      <td>44.0</td>\n",
       "      <td>56.0</td>\n",
       "      <td>56.0</td>\n",
       "      <td>56.0</td>\n",
       "      <td>44.0</td>\n",
       "      <td>[44.0, 56.0, 56.0, 56.0, 44.0, None]</td>\n",
       "    </tr>\n",
       "    <tr>\n",
       "      <th>1</th>\n",
       "      <td>(Sha Tau Kok) residential buildings</td>\n",
       "      <td>{'address_components': [{'long_name': 'Sha Tau...</td>\n",
       "      <td>22.531577</td>\n",
       "      <td>114.203240</td>\n",
       "      <td>44.0</td>\n",
       "      <td>56.0</td>\n",
       "      <td>56.0</td>\n",
       "      <td>56.0</td>\n",
       "      <td>44.0</td>\n",
       "      <td>[44.0, 56.0, 56.0, 56.0, 44.0, None]</td>\n",
       "    </tr>\n",
       "  </tbody>\n",
       "</table>\n",
       "</div>"
      ],
      "text/plain": [
       "                               building  \\\n",
       "0                      Providence Peak    \n",
       "1  (Sha Tau Kok) residential buildings    \n",
       "\n",
       "                                             geocode        lat         lon  \\\n",
       "0  {'address_components': [{'long_name': 'tower 3...  22.432130  114.202489   \n",
       "1  {'address_components': [{'long_name': 'Sha Tau...  22.531577  114.203240   \n",
       "\n",
       "   Hoi Ha Wan Marine Park  Sha Chau & Lung Kwu Chau Marine Park  \\\n",
       "0                    44.0                                  56.0   \n",
       "1                    44.0                                  56.0   \n",
       "\n",
       "   Southwest Lantau Marine Park  The Brothers Marine Park  \\\n",
       "0                          56.0                      56.0   \n",
       "1                          56.0                      56.0   \n",
       "\n",
       "   Tung Ping Chau Marine Park                                  Top5  \n",
       "0                        44.0  [44.0, 56.0, 56.0, 56.0, 44.0, None]  \n",
       "1                        44.0  [44.0, 56.0, 56.0, 56.0, 44.0, None]  "
      ]
     },
     "execution_count": 51,
     "metadata": {},
     "output_type": "execute_result"
    }
   ],
   "source": [
    "df_sch.head(2)"
   ]
  },
  {
   "cell_type": "code",
   "execution_count": 52,
   "id": "5a8ceaa2",
   "metadata": {},
   "outputs": [],
   "source": [
    "for i in df_sch.index:\n",
    "    df_sch['Top5'][i] = list(filter(None,df_sch['Top5'][i]))\n",
    "    df_sch['Top5'][i].sort()\n",
    "    #df_sch['Top5'].iloc[i] = df_sch['Top5'][i][: 5]"
   ]
  },
  {
   "cell_type": "code",
   "execution_count": 53,
   "id": "13298433",
   "metadata": {},
   "outputs": [],
   "source": [
    "df_sch['Top5_1km'] = None\n",
    "df_sch['Top5_4km'] = None"
   ]
  },
  {
   "cell_type": "code",
   "execution_count": 54,
   "id": "0d3dde53",
   "metadata": {},
   "outputs": [],
   "source": [
    "for i in df_sch.index:\n",
    "    df_sch['Top5_1km'].iloc[i] = [number for number in df_sch['Top5'].iloc[i] if number <= 1]\n",
    "    df_sch['Top5_4km'].iloc[i] = [number for number in df_sch['Top5'].iloc[i] if number <= 4]\n",
    "    df_sch['Top5_1km'][i].sort()\n",
    "    df_sch['Top5_4km'][i].sort()"
   ]
  },
  {
   "cell_type": "code",
   "execution_count": 55,
   "id": "ebf44586",
   "metadata": {},
   "outputs": [],
   "source": [
    "#df_sch['length'] = df_sch['Top5_1m'].apply(len)"
   ]
  },
  {
   "cell_type": "code",
   "execution_count": 56,
   "id": "f4f176f4",
   "metadata": {},
   "outputs": [],
   "source": [
    "for i in df_sch.index:\n",
    "    df_sch['Top5_1km'].iloc[i] = [1 - x for x in df_sch['Top5_1km'].iloc[i]]\n",
    "    df_sch['Top5_1km'].iloc[i] =  [round(x,2) for x in df_sch['Top5_1km'].iloc[i]] \n",
    "    df_sch['Top5_4km'].iloc[i] = [4 - x for x in df_sch['Top5_4km'].iloc[i]]\n",
    "    df_sch['Top5_4km'].iloc[i] =  [round(x,2) for x in df_sch['Top5_4km'].iloc[i]] "
   ]
  },
  {
   "cell_type": "code",
   "execution_count": 57,
   "id": "b818d1b3",
   "metadata": {},
   "outputs": [],
   "source": [
    "df_sch['fisheries_score_1km'] = None\n",
    "df_sch['fisheries_score_4km'] = None"
   ]
  },
  {
   "cell_type": "code",
   "execution_count": 58,
   "id": "f721f9e2",
   "metadata": {},
   "outputs": [
    {
     "data": {
      "text/html": [
       "<div>\n",
       "<style scoped>\n",
       "    .dataframe tbody tr th:only-of-type {\n",
       "        vertical-align: middle;\n",
       "    }\n",
       "\n",
       "    .dataframe tbody tr th {\n",
       "        vertical-align: top;\n",
       "    }\n",
       "\n",
       "    .dataframe thead th {\n",
       "        text-align: right;\n",
       "    }\n",
       "</style>\n",
       "<table border=\"1\" class=\"dataframe\">\n",
       "  <thead>\n",
       "    <tr style=\"text-align: right;\">\n",
       "      <th></th>\n",
       "      <th>building</th>\n",
       "      <th>geocode</th>\n",
       "      <th>lat</th>\n",
       "      <th>lon</th>\n",
       "      <th>Hoi Ha Wan Marine Park</th>\n",
       "      <th>Sha Chau &amp; Lung Kwu Chau Marine Park</th>\n",
       "      <th>Southwest Lantau Marine Park</th>\n",
       "      <th>The Brothers Marine Park</th>\n",
       "      <th>Tung Ping Chau Marine Park</th>\n",
       "      <th>Top5</th>\n",
       "      <th>Top5_1km</th>\n",
       "      <th>Top5_4km</th>\n",
       "      <th>fisheries_score_1km</th>\n",
       "      <th>fisheries_score_4km</th>\n",
       "    </tr>\n",
       "  </thead>\n",
       "  <tbody>\n",
       "    <tr>\n",
       "      <th>0</th>\n",
       "      <td>Providence Peak</td>\n",
       "      <td>{'address_components': [{'long_name': 'tower 3...</td>\n",
       "      <td>22.432130</td>\n",
       "      <td>114.202489</td>\n",
       "      <td>44.0</td>\n",
       "      <td>56.0</td>\n",
       "      <td>56.0</td>\n",
       "      <td>56.0</td>\n",
       "      <td>44.0</td>\n",
       "      <td>[44.0, 44.0, 56.0, 56.0, 56.0]</td>\n",
       "      <td>[]</td>\n",
       "      <td>[]</td>\n",
       "      <td>None</td>\n",
       "      <td>None</td>\n",
       "    </tr>\n",
       "    <tr>\n",
       "      <th>1</th>\n",
       "      <td>(Sha Tau Kok) residential buildings</td>\n",
       "      <td>{'address_components': [{'long_name': 'Sha Tau...</td>\n",
       "      <td>22.531577</td>\n",
       "      <td>114.203240</td>\n",
       "      <td>44.0</td>\n",
       "      <td>56.0</td>\n",
       "      <td>56.0</td>\n",
       "      <td>56.0</td>\n",
       "      <td>44.0</td>\n",
       "      <td>[44.0, 44.0, 56.0, 56.0, 56.0]</td>\n",
       "      <td>[]</td>\n",
       "      <td>[]</td>\n",
       "      <td>None</td>\n",
       "      <td>None</td>\n",
       "    </tr>\n",
       "  </tbody>\n",
       "</table>\n",
       "</div>"
      ],
      "text/plain": [
       "                               building  \\\n",
       "0                      Providence Peak    \n",
       "1  (Sha Tau Kok) residential buildings    \n",
       "\n",
       "                                             geocode        lat         lon  \\\n",
       "0  {'address_components': [{'long_name': 'tower 3...  22.432130  114.202489   \n",
       "1  {'address_components': [{'long_name': 'Sha Tau...  22.531577  114.203240   \n",
       "\n",
       "   Hoi Ha Wan Marine Park  Sha Chau & Lung Kwu Chau Marine Park  \\\n",
       "0                    44.0                                  56.0   \n",
       "1                    44.0                                  56.0   \n",
       "\n",
       "   Southwest Lantau Marine Park  The Brothers Marine Park  \\\n",
       "0                          56.0                      56.0   \n",
       "1                          56.0                      56.0   \n",
       "\n",
       "   Tung Ping Chau Marine Park                            Top5 Top5_1km  \\\n",
       "0                        44.0  [44.0, 44.0, 56.0, 56.0, 56.0]       []   \n",
       "1                        44.0  [44.0, 44.0, 56.0, 56.0, 56.0]       []   \n",
       "\n",
       "  Top5_4km fisheries_score_1km fisheries_score_4km  \n",
       "0       []                None                None  \n",
       "1       []                None                None  "
      ]
     },
     "execution_count": 58,
     "metadata": {},
     "output_type": "execute_result"
    }
   ],
   "source": [
    "df_sch.head(2)"
   ]
  },
  {
   "cell_type": "code",
   "execution_count": 59,
   "id": "5bc438a9",
   "metadata": {},
   "outputs": [],
   "source": [
    "for i in df_sch.index:\n",
    "    df_sch['fisheries_score_1km'].iloc[i] = sum(df_sch['Top5_1km'][i])\n",
    "    df_sch['fisheries_score_4km'].iloc[i] = sum(df_sch['Top5_4km'][i])"
   ]
  },
  {
   "cell_type": "code",
   "execution_count": 60,
   "id": "8de9d34c",
   "metadata": {},
   "outputs": [],
   "source": [
    "df_score['fisheries_score_1km'] = df_sch['fisheries_score_1km']\n",
    "df_score['fisheries_score_4km'] = df_sch['fisheries_score_4km']\n",
    "df_score['fisheries_Distance'] = df_sch['Top5']"
   ]
  },
  {
   "cell_type": "code",
   "execution_count": 61,
   "id": "f5cb7248",
   "metadata": {},
   "outputs": [
    {
     "data": {
      "text/plain": [
       "0    5465\n",
       "Name: fisheries_score_1km, dtype: int64"
      ]
     },
     "execution_count": 61,
     "metadata": {},
     "output_type": "execute_result"
    }
   ],
   "source": [
    "df_score['fisheries_score_1km'].value_counts()"
   ]
  },
  {
   "cell_type": "code",
   "execution_count": 62,
   "id": "680e12ac",
   "metadata": {},
   "outputs": [
    {
     "data": {
      "text/plain": [
       "0.0    5303\n",
       "4.0     119\n",
       "6.0      43\n",
       "Name: fisheries_score_4km, dtype: int64"
      ]
     },
     "execution_count": 62,
     "metadata": {},
     "output_type": "execute_result"
    }
   ],
   "source": [
    "df_score['fisheries_score_4km'].value_counts()"
   ]
  },
  {
   "cell_type": "code",
   "execution_count": 63,
   "id": "c71511ca",
   "metadata": {},
   "outputs": [],
   "source": [
    "#Inequality knowledge"
   ]
  },
  {
   "cell_type": "code",
   "execution_count": 64,
   "id": "c2646ba1",
   "metadata": {},
   "outputs": [
    {
     "ename": "NameError",
     "evalue": "name 'population' is not defined",
     "output_type": "error",
     "traceback": [
      "\u001b[1;31m---------------------------------------------------------------------------\u001b[0m",
      "\u001b[1;31mNameError\u001b[0m                                 Traceback (most recent call last)",
      "\u001b[1;32m<ipython-input-64-01742274f406>\u001b[0m in \u001b[0;36m<module>\u001b[1;34m\u001b[0m\n\u001b[1;32m----> 1\u001b[1;33m \u001b[0mpopulation\u001b[0m\u001b[1;33m\u001b[0m\u001b[1;33m\u001b[0m\u001b[0m\n\u001b[0m",
      "\u001b[1;31mNameError\u001b[0m: name 'population' is not defined"
     ]
    }
   ],
   "source": [
    "population"
   ]
  },
  {
   "cell_type": "code",
   "execution_count": 65,
   "id": "6e7edceb",
   "metadata": {},
   "outputs": [],
   "source": [
    "df_score['lat'] = df_sch['lat']\n",
    "df_score['lon'] = df_sch['lon']"
   ]
  },
  {
   "cell_type": "code",
   "execution_count": 66,
   "id": "5fa0558c",
   "metadata": {},
   "outputs": [
    {
     "data": {
      "text/plain": [
       "0.0    5303\n",
       "4.0     119\n",
       "6.0      43\n",
       "Name: fisheries_score_4km, dtype: int64"
      ]
     },
     "execution_count": 66,
     "metadata": {},
     "output_type": "execute_result"
    }
   ],
   "source": [
    "df_score['fisheries_score_4km'].value_counts()"
   ]
  },
  {
   "cell_type": "code",
   "execution_count": 67,
   "id": "e7dd4829",
   "metadata": {},
   "outputs": [],
   "source": [
    "df_score.to_csv('ScoreModellingRevised.csv', index = False)"
   ]
  },
  {
   "cell_type": "code",
   "execution_count": null,
   "id": "6a32b385",
   "metadata": {},
   "outputs": [],
   "source": []
  }
 ],
 "metadata": {
  "kernelspec": {
   "display_name": "Python 3",
   "language": "python",
   "name": "python3"
  },
  "language_info": {
   "codemirror_mode": {
    "name": "ipython",
    "version": 3
   },
   "file_extension": ".py",
   "mimetype": "text/x-python",
   "name": "python",
   "nbconvert_exporter": "python",
   "pygments_lexer": "ipython3",
   "version": "3.8.8"
  }
 },
 "nbformat": 4,
 "nbformat_minor": 5
}
