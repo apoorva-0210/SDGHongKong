{
 "cells": [
  {
   "cell_type": "code",
   "execution_count": 1,
   "id": "b528f778",
   "metadata": {},
   "outputs": [],
   "source": [
    "import numpy as np\n",
    "import pandas as pd\n",
    "import warnings\n",
    "warnings.filterwarnings(\"ignore\")\n",
    "from sklearn.metrics import mean_squared_error"
   ]
  },
  {
   "cell_type": "code",
   "execution_count": 2,
   "id": "a0bf8488",
   "metadata": {},
   "outputs": [],
   "source": [
    "df = pd.read_csv('SDGforRobustness.csv')"
   ]
  },
  {
   "cell_type": "code",
   "execution_count": 3,
   "id": "1e42edf6",
   "metadata": {},
   "outputs": [],
   "source": [
    "df = df[['District/Area/Building Group', 'Building', 'SDG1', 'SDG2', 'SDG3', 'SDG4', 'SDG5', 'SDG6', 'SDG7',\n",
    "       'SDG8', 'SDG9', 'SDG10', 'SDG11', 'SDG12', 'SDG13', 'SDG14', 'SDG15',\n",
    "       'SDG16', 'SDG17', 'Overall SDG Score']]"
   ]
  },
  {
   "cell_type": "code",
   "execution_count": 4,
   "id": "9bbf3613",
   "metadata": {},
   "outputs": [
    {
     "data": {
      "text/plain": [
       "Index(['District/Area/Building Group', 'Building', 'SDG1', 'SDG2', 'SDG3',\n",
       "       'SDG4', 'SDG5', 'SDG6', 'SDG7', 'SDG8', 'SDG9', 'SDG10', 'SDG11',\n",
       "       'SDG12', 'SDG13', 'SDG14', 'SDG15', 'SDG16', 'SDG17',\n",
       "       'Overall SDG Score'],\n",
       "      dtype='object')"
      ]
     },
     "execution_count": 4,
     "metadata": {},
     "output_type": "execute_result"
    }
   ],
   "source": [
    "df.columns"
   ]
  },
  {
   "cell_type": "code",
   "execution_count": 5,
   "id": "a4f39577",
   "metadata": {},
   "outputs": [],
   "source": [
    "df1 = pd.DataFrame()"
   ]
  },
  {
   "cell_type": "code",
   "execution_count": 6,
   "id": "e4d812ce",
   "metadata": {},
   "outputs": [],
   "source": [
    "df1['SDG'] = ['SDG1', 'SDG2', 'SDG3', 'SDG4', 'SDG5', 'SDG6', 'SDG7',\n",
    "       'SDG8', 'SDG9', 'SDG10', 'SDG11', 'SDG12', 'SDG13', 'SDG14', 'SDG15',\n",
    "       'SDG16', 'SDG17']"
   ]
  },
  {
   "cell_type": "code",
   "execution_count": 7,
   "id": "763997bf",
   "metadata": {},
   "outputs": [],
   "source": [
    "lst = []"
   ]
  },
  {
   "cell_type": "code",
   "execution_count": 8,
   "id": "c27eb10d",
   "metadata": {},
   "outputs": [],
   "source": [
    "for i in range(2,19):\n",
    "    col = df.columns[i]\n",
    "    a = df[col].mean()\n",
    "    lst.append(a)"
   ]
  },
  {
   "cell_type": "code",
   "execution_count": 9,
   "id": "098b53a5",
   "metadata": {},
   "outputs": [],
   "source": [
    "df1['CalculatedScore'] = lst"
   ]
  },
  {
   "cell_type": "code",
   "execution_count": 10,
   "id": "c85e986f",
   "metadata": {},
   "outputs": [
    {
     "data": {
      "text/html": [
       "<div>\n",
       "<style scoped>\n",
       "    .dataframe tbody tr th:only-of-type {\n",
       "        vertical-align: middle;\n",
       "    }\n",
       "\n",
       "    .dataframe tbody tr th {\n",
       "        vertical-align: top;\n",
       "    }\n",
       "\n",
       "    .dataframe thead th {\n",
       "        text-align: right;\n",
       "    }\n",
       "</style>\n",
       "<table border=\"1\" class=\"dataframe\">\n",
       "  <thead>\n",
       "    <tr style=\"text-align: right;\">\n",
       "      <th></th>\n",
       "      <th>SDG</th>\n",
       "      <th>CalculatedScore</th>\n",
       "    </tr>\n",
       "  </thead>\n",
       "  <tbody>\n",
       "    <tr>\n",
       "      <th>0</th>\n",
       "      <td>SDG1</td>\n",
       "      <td>5.561580</td>\n",
       "    </tr>\n",
       "    <tr>\n",
       "      <th>1</th>\n",
       "      <td>SDG2</td>\n",
       "      <td>0.768304</td>\n",
       "    </tr>\n",
       "  </tbody>\n",
       "</table>\n",
       "</div>"
      ],
      "text/plain": [
       "    SDG  CalculatedScore\n",
       "0  SDG1         5.561580\n",
       "1  SDG2         0.768304"
      ]
     },
     "execution_count": 10,
     "metadata": {},
     "output_type": "execute_result"
    }
   ],
   "source": [
    "df1.head(2)"
   ]
  },
  {
   "cell_type": "code",
   "execution_count": 11,
   "id": "5e330b28",
   "metadata": {},
   "outputs": [
    {
     "name": "stdout",
     "output_type": "stream",
     "text": [
      "Error\n"
     ]
    }
   ],
   "source": [
    "for i in df1.columns:\n",
    "    try:\n",
    "        df1[i] = df1[i].astype(float)\n",
    "    except:\n",
    "        print('Error')"
   ]
  },
  {
   "cell_type": "code",
   "execution_count": 12,
   "id": "0825197b",
   "metadata": {},
   "outputs": [],
   "source": [
    "df1['CalculatedScore'] = round(df1['CalculatedScore'], 2)"
   ]
  },
  {
   "cell_type": "code",
   "execution_count": 13,
   "id": "a2af5504",
   "metadata": {},
   "outputs": [],
   "source": [
    "df2 = pd.read_excel('HongKongActualSDGScore.xlsx')"
   ]
  },
  {
   "cell_type": "code",
   "execution_count": 14,
   "id": "6fedeeff",
   "metadata": {},
   "outputs": [],
   "source": [
    "df2 = df2[['SDG', 'Score']]"
   ]
  },
  {
   "cell_type": "code",
   "execution_count": 15,
   "id": "3674e726",
   "metadata": {},
   "outputs": [],
   "source": [
    "df_final = df2.merge(df1, on = 'SDG')"
   ]
  },
  {
   "cell_type": "code",
   "execution_count": 16,
   "id": "3310ca06",
   "metadata": {},
   "outputs": [
    {
     "data": {
      "text/html": [
       "<div>\n",
       "<style scoped>\n",
       "    .dataframe tbody tr th:only-of-type {\n",
       "        vertical-align: middle;\n",
       "    }\n",
       "\n",
       "    .dataframe tbody tr th {\n",
       "        vertical-align: top;\n",
       "    }\n",
       "\n",
       "    .dataframe thead th {\n",
       "        text-align: right;\n",
       "    }\n",
       "</style>\n",
       "<table border=\"1\" class=\"dataframe\">\n",
       "  <thead>\n",
       "    <tr style=\"text-align: right;\">\n",
       "      <th></th>\n",
       "      <th>SDG</th>\n",
       "      <th>Score</th>\n",
       "      <th>CalculatedScore</th>\n",
       "    </tr>\n",
       "  </thead>\n",
       "  <tbody>\n",
       "    <tr>\n",
       "      <th>0</th>\n",
       "      <td>SDG1</td>\n",
       "      <td>6.56</td>\n",
       "      <td>5.56</td>\n",
       "    </tr>\n",
       "    <tr>\n",
       "      <th>1</th>\n",
       "      <td>SDG2</td>\n",
       "      <td>0.25</td>\n",
       "      <td>0.77</td>\n",
       "    </tr>\n",
       "  </tbody>\n",
       "</table>\n",
       "</div>"
      ],
      "text/plain": [
       "    SDG  Score  CalculatedScore\n",
       "0  SDG1   6.56             5.56\n",
       "1  SDG2   0.25             0.77"
      ]
     },
     "execution_count": 16,
     "metadata": {},
     "output_type": "execute_result"
    }
   ],
   "source": [
    "df_final.head(2)"
   ]
  },
  {
   "cell_type": "code",
   "execution_count": 17,
   "id": "522bb380",
   "metadata": {},
   "outputs": [
    {
     "data": {
      "text/plain": [
       "7.743581941176471"
      ]
     },
     "execution_count": 17,
     "metadata": {},
     "output_type": "execute_result"
    }
   ],
   "source": [
    "mean_squared_error(df_final['Score'], df_final['CalculatedScore'])"
   ]
  },
  {
   "cell_type": "code",
   "execution_count": 18,
   "id": "47653b1d",
   "metadata": {},
   "outputs": [],
   "source": [
    "c = [abs(i-j)/i*100 if i != 0 else None for i,j in zip(df_final['CalculatedScore'], df_final['Score'])]\n",
    "#print(c)"
   ]
  },
  {
   "cell_type": "code",
   "execution_count": 19,
   "id": "a7254be3",
   "metadata": {},
   "outputs": [],
   "source": [
    "df_final['PercentageError'] = c"
   ]
  },
  {
   "cell_type": "code",
   "execution_count": 20,
   "id": "2b87eed9",
   "metadata": {},
   "outputs": [],
   "source": [
    "df_final['Difference'] = None"
   ]
  },
  {
   "cell_type": "code",
   "execution_count": 21,
   "id": "287bc449",
   "metadata": {},
   "outputs": [],
   "source": [
    "for i in df_final.index:\n",
    "    df_final['Difference'].iloc[i] = abs(df_final['CalculatedScore'].iloc[i] - df_final['Score'].iloc[i])"
   ]
  },
  {
   "cell_type": "code",
   "execution_count": 23,
   "id": "bfe7303f",
   "metadata": {},
   "outputs": [
    {
     "data": {
      "text/html": [
       "<div>\n",
       "<style scoped>\n",
       "    .dataframe tbody tr th:only-of-type {\n",
       "        vertical-align: middle;\n",
       "    }\n",
       "\n",
       "    .dataframe tbody tr th {\n",
       "        vertical-align: top;\n",
       "    }\n",
       "\n",
       "    .dataframe thead th {\n",
       "        text-align: right;\n",
       "    }\n",
       "</style>\n",
       "<table border=\"1\" class=\"dataframe\">\n",
       "  <thead>\n",
       "    <tr style=\"text-align: right;\">\n",
       "      <th></th>\n",
       "      <th>SDG</th>\n",
       "      <th>Score</th>\n",
       "      <th>CalculatedScore</th>\n",
       "      <th>PercentageError</th>\n",
       "      <th>Difference</th>\n",
       "    </tr>\n",
       "  </thead>\n",
       "  <tbody>\n",
       "    <tr>\n",
       "      <th>0</th>\n",
       "      <td>SDG1</td>\n",
       "      <td>6.560</td>\n",
       "      <td>5.56</td>\n",
       "      <td>17.985612</td>\n",
       "      <td>1.0</td>\n",
       "    </tr>\n",
       "    <tr>\n",
       "      <th>1</th>\n",
       "      <td>SDG2</td>\n",
       "      <td>0.250</td>\n",
       "      <td>0.77</td>\n",
       "      <td>67.532468</td>\n",
       "      <td>0.52</td>\n",
       "    </tr>\n",
       "    <tr>\n",
       "      <th>2</th>\n",
       "      <td>SDG3</td>\n",
       "      <td>0.277</td>\n",
       "      <td>0.87</td>\n",
       "      <td>68.160920</td>\n",
       "      <td>0.593</td>\n",
       "    </tr>\n",
       "    <tr>\n",
       "      <th>3</th>\n",
       "      <td>SDG4</td>\n",
       "      <td>8.990</td>\n",
       "      <td>0.52</td>\n",
       "      <td>1628.846154</td>\n",
       "      <td>8.47</td>\n",
       "    </tr>\n",
       "    <tr>\n",
       "      <th>4</th>\n",
       "      <td>SDG5</td>\n",
       "      <td>2.940</td>\n",
       "      <td>1.84</td>\n",
       "      <td>59.782609</td>\n",
       "      <td>1.1</td>\n",
       "    </tr>\n",
       "    <tr>\n",
       "      <th>5</th>\n",
       "      <td>SDG6</td>\n",
       "      <td>4.338</td>\n",
       "      <td>5.20</td>\n",
       "      <td>16.576923</td>\n",
       "      <td>0.862</td>\n",
       "    </tr>\n",
       "    <tr>\n",
       "      <th>6</th>\n",
       "      <td>SDG7</td>\n",
       "      <td>5.040</td>\n",
       "      <td>10.00</td>\n",
       "      <td>49.600000</td>\n",
       "      <td>4.96</td>\n",
       "    </tr>\n",
       "    <tr>\n",
       "      <th>7</th>\n",
       "      <td>SDG8</td>\n",
       "      <td>1.720</td>\n",
       "      <td>1.84</td>\n",
       "      <td>6.521739</td>\n",
       "      <td>0.12</td>\n",
       "    </tr>\n",
       "    <tr>\n",
       "      <th>8</th>\n",
       "      <td>SDG9</td>\n",
       "      <td>5.610</td>\n",
       "      <td>2.14</td>\n",
       "      <td>162.149533</td>\n",
       "      <td>3.47</td>\n",
       "    </tr>\n",
       "    <tr>\n",
       "      <th>9</th>\n",
       "      <td>SDG10</td>\n",
       "      <td>4.130</td>\n",
       "      <td>5.09</td>\n",
       "      <td>18.860511</td>\n",
       "      <td>0.96</td>\n",
       "    </tr>\n",
       "    <tr>\n",
       "      <th>10</th>\n",
       "      <td>SDG11</td>\n",
       "      <td>0.000</td>\n",
       "      <td>1.27</td>\n",
       "      <td>100.000000</td>\n",
       "      <td>1.27</td>\n",
       "    </tr>\n",
       "    <tr>\n",
       "      <th>11</th>\n",
       "      <td>SDG12</td>\n",
       "      <td>3.300</td>\n",
       "      <td>0.18</td>\n",
       "      <td>1733.333333</td>\n",
       "      <td>3.12</td>\n",
       "    </tr>\n",
       "    <tr>\n",
       "      <th>12</th>\n",
       "      <td>SDG13</td>\n",
       "      <td>0.000</td>\n",
       "      <td>0.40</td>\n",
       "      <td>100.000000</td>\n",
       "      <td>0.4</td>\n",
       "    </tr>\n",
       "    <tr>\n",
       "      <th>13</th>\n",
       "      <td>SDG14</td>\n",
       "      <td>1.630</td>\n",
       "      <td>0.05</td>\n",
       "      <td>3160.000000</td>\n",
       "      <td>1.58</td>\n",
       "    </tr>\n",
       "    <tr>\n",
       "      <th>14</th>\n",
       "      <td>SDG15</td>\n",
       "      <td>4.320</td>\n",
       "      <td>3.43</td>\n",
       "      <td>25.947522</td>\n",
       "      <td>0.89</td>\n",
       "    </tr>\n",
       "    <tr>\n",
       "      <th>15</th>\n",
       "      <td>SDG16</td>\n",
       "      <td>0.950</td>\n",
       "      <td>0.40</td>\n",
       "      <td>137.500000</td>\n",
       "      <td>0.55</td>\n",
       "    </tr>\n",
       "    <tr>\n",
       "      <th>16</th>\n",
       "      <td>SDG17</td>\n",
       "      <td>2.310</td>\n",
       "      <td>0.40</td>\n",
       "      <td>477.500000</td>\n",
       "      <td>1.91</td>\n",
       "    </tr>\n",
       "  </tbody>\n",
       "</table>\n",
       "</div>"
      ],
      "text/plain": [
       "      SDG  Score  CalculatedScore  PercentageError Difference\n",
       "0    SDG1  6.560             5.56        17.985612        1.0\n",
       "1    SDG2  0.250             0.77        67.532468       0.52\n",
       "2    SDG3  0.277             0.87        68.160920      0.593\n",
       "3    SDG4  8.990             0.52      1628.846154       8.47\n",
       "4    SDG5  2.940             1.84        59.782609        1.1\n",
       "5    SDG6  4.338             5.20        16.576923      0.862\n",
       "6    SDG7  5.040            10.00        49.600000       4.96\n",
       "7    SDG8  1.720             1.84         6.521739       0.12\n",
       "8    SDG9  5.610             2.14       162.149533       3.47\n",
       "9   SDG10  4.130             5.09        18.860511       0.96\n",
       "10  SDG11  0.000             1.27       100.000000       1.27\n",
       "11  SDG12  3.300             0.18      1733.333333       3.12\n",
       "12  SDG13  0.000             0.40       100.000000        0.4\n",
       "13  SDG14  1.630             0.05      3160.000000       1.58\n",
       "14  SDG15  4.320             3.43        25.947522       0.89\n",
       "15  SDG16  0.950             0.40       137.500000       0.55\n",
       "16  SDG17  2.310             0.40       477.500000       1.91"
      ]
     },
     "execution_count": 23,
     "metadata": {},
     "output_type": "execute_result"
    }
   ],
   "source": [
    "df_final"
   ]
  },
  {
   "cell_type": "code",
   "execution_count": 24,
   "id": "cb2e7e54",
   "metadata": {},
   "outputs": [],
   "source": [
    "df_final.to_csv('RobustnessAnalysisResults.csv', index = False)"
   ]
  },
  {
   "cell_type": "code",
   "execution_count": null,
   "id": "482a9192",
   "metadata": {},
   "outputs": [],
   "source": []
  }
 ],
 "metadata": {
  "kernelspec": {
   "display_name": "Python 3 (ipykernel)",
   "language": "python",
   "name": "python3"
  },
  "language_info": {
   "codemirror_mode": {
    "name": "ipython",
    "version": 3
   },
   "file_extension": ".py",
   "mimetype": "text/x-python",
   "name": "python",
   "nbconvert_exporter": "python",
   "pygments_lexer": "ipython3",
   "version": "3.11.5"
  }
 },
 "nbformat": 4,
 "nbformat_minor": 5
}
