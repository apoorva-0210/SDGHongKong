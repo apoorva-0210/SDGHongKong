{
 "cells": [
  {
   "cell_type": "markdown",
   "id": "eca90e0b",
   "metadata": {},
   "source": [
    "NOTE: Scale all individual scores before adding to final SDG because of scale change, there is very high or low impact. so relative scoring is very important here."
   ]
  },
  {
   "cell_type": "code",
   "execution_count": 1,
   "id": "7da8e678",
   "metadata": {},
   "outputs": [],
   "source": [
    "import numpy as np\n",
    "import pandas as pd\n",
    "import warnings\n",
    "warnings.filterwarnings(\"ignore\")"
   ]
  },
  {
   "cell_type": "code",
   "execution_count": 2,
   "id": "07497ed7",
   "metadata": {},
   "outputs": [],
   "source": [
    "df = pd.read_csv('CensusBase_SDGV7.csv')"
   ]
  },
  {
   "cell_type": "code",
   "execution_count": 3,
   "id": "c2ec8fee",
   "metadata": {},
   "outputs": [],
   "source": [
    "for i in df.index:\n",
    "    df['Building'][i] = df['Building'].iloc[i].strip()"
   ]
  },
  {
   "cell_type": "code",
   "execution_count": 4,
   "id": "428d0e62",
   "metadata": {},
   "outputs": [],
   "source": [
    "#df.columns"
   ]
  },
  {
   "cell_type": "code",
   "execution_count": 5,
   "id": "ab6f2f92",
   "metadata": {},
   "outputs": [],
   "source": [
    "df['1.1.1'] = None\n",
    "df['1.2.1'] = None\n",
    "df['1.4.1'] = None\n",
    "df['1.a.2'] = None"
   ]
  },
  {
   "cell_type": "code",
   "execution_count": 6,
   "id": "c60dcb60",
   "metadata": {},
   "outputs": [],
   "source": [
    "#df['Sex ratio'].replace({',':''}, inplace = True)"
   ]
  },
  {
   "cell_type": "code",
   "execution_count": 7,
   "id": "a70cd417",
   "metadata": {},
   "outputs": [],
   "source": [
    "for i in df.index:\n",
    "    inc = df['Income'].iloc[i]\n",
    "    pop = df['TotalPopulation'].sum()\n",
    "    if inc<=500:\n",
    "        a = (df['TotalPopulation'].iloc[i]/pop)*100\n",
    "        df['1.1.1'].iloc[i] = 0 - a\n",
    "    else:\n",
    "        df['1.1.1'].iloc[i] = 0"
   ]
  },
  {
   "cell_type": "code",
   "execution_count": 8,
   "id": "3b151df0",
   "metadata": {},
   "outputs": [],
   "source": [
    "for i in df.index:\n",
    "    df['1-3'].iloc[i] = df['1-3'].iloc[i][: -1]\n",
    "    df['4'].iloc[i] = df['4'].iloc[i][: -1]\n",
    "    df['5+'].iloc[i] = df['5+'].iloc[i][: -1]"
   ]
  },
  {
   "cell_type": "code",
   "execution_count": 9,
   "id": "ff4af882",
   "metadata": {},
   "outputs": [],
   "source": [
    "df['Sex ratio']=df['Sex ratio'].str.replace(',','')"
   ]
  },
  {
   "cell_type": "code",
   "execution_count": 10,
   "id": "e3c27597",
   "metadata": {},
   "outputs": [
    {
     "name": "stdout",
     "output_type": "stream",
     "text": [
      "Error\n",
      "Error\n",
      "Error\n",
      "Error\n",
      "Error\n",
      "Error\n",
      "Error\n",
      "Error\n",
      "Error\n",
      "Error\n",
      "Error\n",
      "Error\n",
      "Error\n",
      "Error\n",
      "Error\n",
      "Error\n",
      "Error\n",
      "Error\n"
     ]
    }
   ],
   "source": [
    "for i in df.columns:\n",
    "    try:\n",
    "        df[i] = df[i].astype(float)\n",
    "    except:\n",
    "        print('Error')"
   ]
  },
  {
   "cell_type": "code",
   "execution_count": 11,
   "id": "ad3d2299",
   "metadata": {},
   "outputs": [],
   "source": [
    "for i in df.index:\n",
    "    inc = df['Income'].iloc[i]\n",
    "    val = 0\n",
    "    if inc <= 10000:\n",
    "        a = df['TotalPopulation'].iloc[i] * df['1-3'].iloc[i]\n",
    "        a = a/df['TotalPopulation'].sum()\n",
    "        val = val+a\n",
    "        if inc <= 20800:\n",
    "            a = df['TotalPopulation'].iloc[i] * df['4'].iloc[i]\n",
    "            a = a/df['TotalPopulation'].sum()\n",
    "            val = val+a\n",
    "            if inc <= 21000:\n",
    "                a = df['TotalPopulation'].iloc[i] * df['5+'].iloc[i]\n",
    "                a = a/df['TotalPopulation'].sum()\n",
    "                val = val+a\n",
    "    df['1.2.1'].iloc[i] = 0-val"
   ]
  },
  {
   "cell_type": "code",
   "execution_count": 12,
   "id": "8bbb559f",
   "metadata": {},
   "outputs": [],
   "source": [
    "df['Male'] = (df['Sex ratio'] * df['TotalPopulation'])/1000\n",
    "df['Female'] = df['TotalPopulation'] - df['Male']\n",
    "df['Male'] = df['Male'].round(2)\n",
    "df['Female'] = df['Female'].round(2)"
   ]
  },
  {
   "cell_type": "code",
   "execution_count": 13,
   "id": "79e3c63e",
   "metadata": {},
   "outputs": [],
   "source": [
    "df.drop(columns= ['Sex ratio'], inplace = True)"
   ]
  },
  {
   "cell_type": "code",
   "execution_count": 14,
   "id": "3c367240",
   "metadata": {},
   "outputs": [],
   "source": [
    "df['1.a.2'] = df['SchoolScore'] + df['HospitalScore']"
   ]
  },
  {
   "cell_type": "code",
   "execution_count": 15,
   "id": "3bebb371",
   "metadata": {},
   "outputs": [],
   "source": [
    "df['1.4.1'] = df['TotalScore'] * 0.186"
   ]
  },
  {
   "cell_type": "code",
   "execution_count": 16,
   "id": "02da17e5",
   "metadata": {},
   "outputs": [
    {
     "data": {
      "text/plain": [
       "Index(['Building', 'lat', 'lon', 'SchoolScore', 'HospitalScore', 'PoliceScore',\n",
       "       'WasteManagementScore', 'ElderlyCareScore', 'ChildCareScore',\n",
       "       'OpenAreaScore', 'FisheriesScore', 'TotalScore',\n",
       "       'District/Area/Building Group', 'Region', 'District', 'TotalPopulation',\n",
       "       'Working population', 'length', 'Income', '1-3', '4', '5+',\n",
       "       'Managers and administrators', 'Born in Hong Kong',\n",
       "       'Import/export, wholesale and retail trades, accommodation and food services',\n",
       "       'NonWorkingPopulation',\n",
       "       'Public administration, education, human health and social work activities, miscellaneous social and personal services',\n",
       "       'Studying and living  in the same District Council district', '15 - 39',\n",
       "       'Manufacturing, construction, and other industries',\n",
       "       'Elementary occupations , skilled agricultural and fishery workers and occupations not classifiable',\n",
       "       'WorkingHours', 'Bus', 'LightBus', 'geocode', 'Address', '1.1.1',\n",
       "       '1.2.1', '1.4.1', '1.a.2', 'Male', 'Female'],\n",
       "      dtype='object')"
      ]
     },
     "execution_count": 16,
     "metadata": {},
     "output_type": "execute_result"
    }
   ],
   "source": [
    "df.columns"
   ]
  },
  {
   "cell_type": "code",
   "execution_count": 17,
   "id": "ef55909c",
   "metadata": {},
   "outputs": [],
   "source": [
    "df = df[['District/Area/Building Group', 'Building', 'lat', 'lon', 'Region', 'NonWorkingPopulation', 'Born in Hong Kong', \n",
    "       'District', 'TotalPopulation', 'Working population', 'Male', 'Female', 'Income','OpenAreaScore', 'WasteManagementScore', 'HospitalScore', 'SchoolScore', 'Managers and administrators',\n",
    "        'FisheriesScore', 'PoliceScore','ElderlyCareScore', 'ChildCareScore', \n",
    "         'Elementary occupations , skilled agricultural and fishery workers and occupations not classifiable',\n",
    "         'Manufacturing, construction, and other industries', 'Bus', 'LightBus', \n",
    "         'Public administration, education, human health and social work activities, miscellaneous social and personal services',\n",
    "        '1-3', '4', '5+', 'Studying and living  in the same District Council district', 'WorkingHours', '15 - 39', '1.1.1',\n",
    "       '1.2.1', '1.4.1', '1.a.2']]"
   ]
  },
  {
   "cell_type": "code",
   "execution_count": null,
   "id": "a8619035",
   "metadata": {},
   "outputs": [],
   "source": [
    "dfe = df[df['ElderlyCareScore'] > 5]\n",
    "dfe = dfe[dfe['HospitalScore'] > 5]"
   ]
  },
  {
   "cell_type": "code",
   "execution_count": null,
   "id": "49c0bd95",
   "metadata": {},
   "outputs": [],
   "source": [
    "dfe = dfe[dfe['Building'] == 'Ming Wah Court (Ma Tau Wai Road - Hung Hom Section']"
   ]
  },
  {
   "cell_type": "code",
   "execution_count": null,
   "id": "a249604a",
   "metadata": {},
   "outputs": [],
   "source": [
    "dfe['ElderlyCareScore']"
   ]
  },
  {
   "cell_type": "code",
   "execution_count": null,
   "id": "67d2eb93",
   "metadata": {},
   "outputs": [],
   "source": [
    "dfe.to_excel('ElderlyBuilding.xls', index = False)"
   ]
  },
  {
   "cell_type": "code",
   "execution_count": null,
   "id": "964d269b",
   "metadata": {},
   "outputs": [],
   "source": [
    "dfc = df[df['ChildCareScore'] > 3]\n",
    "dfc = dfc[dfc['SchoolScore'] > 5]"
   ]
  },
  {
   "cell_type": "code",
   "execution_count": null,
   "id": "daf5a50d",
   "metadata": {},
   "outputs": [],
   "source": [
    "dfc = dfc[dfc['Building'] == 'Flower Market Road']"
   ]
  },
  {
   "cell_type": "code",
   "execution_count": null,
   "id": "088507d8",
   "metadata": {},
   "outputs": [],
   "source": [
    "dfc.to_excel('ChildrenBuilding.xlsx', index = False)"
   ]
  },
  {
   "cell_type": "code",
   "execution_count": null,
   "id": "f2ade652",
   "metadata": {},
   "outputs": [],
   "source": []
  },
  {
   "cell_type": "code",
   "execution_count": null,
   "id": "575f2fbe",
   "metadata": {},
   "outputs": [],
   "source": []
  },
  {
   "cell_type": "code",
   "execution_count": 18,
   "id": "734e1046",
   "metadata": {},
   "outputs": [],
   "source": [
    "df['2.3.2'] = None\n",
    "df['SDG2'] = None"
   ]
  },
  {
   "cell_type": "code",
   "execution_count": 19,
   "id": "9ddc460d",
   "metadata": {},
   "outputs": [],
   "source": [
    "for i in df.index:\n",
    "    df['Elementary occupations , skilled agricultural and fishery workers and occupations not classifiable'].iloc[i] = df['Elementary occupations , skilled agricultural and fishery workers and occupations not classifiable'].iloc[i][: -1]\n",
    "    df['Public administration, education, human health and social work activities, miscellaneous social and personal services'].iloc[i] = df['Public administration, education, human health and social work activities, miscellaneous social and personal services'].iloc[i][: -1]\n",
    "    df['Studying and living  in the same District Council district'].iloc[i] = df['Studying and living  in the same District Council district'].iloc[i][:-1]\n",
    "    df['Managers and administrators'].iloc[i] = df['Managers and administrators'].iloc[i][:-1]\n",
    "    df['WorkingHours'].iloc[i] = df['WorkingHours'].iloc[i][:-5]\n",
    "    df['NonWorkingPopulation'].iloc[i] = df['NonWorkingPopulation'].iloc[i][:-1]\n",
    "    df['15 - 39'].iloc[i] = df['15 - 39'].iloc[i][:-1]\n",
    "    df['Manufacturing, construction, and other industries'].iloc[i] = df['Manufacturing, construction, and other industries'].iloc[i][:-1]\n",
    "    df['Born in Hong Kong'].iloc[i] = df['Born in Hong Kong'].iloc[i][:-1]\n",
    "    df['Bus'].iloc[i] = df['Bus'].iloc[i][:-1]\n",
    "    df['LightBus'].iloc[i] = df['LightBus'].iloc[i][:-1]"
   ]
  },
  {
   "cell_type": "code",
   "execution_count": 20,
   "id": "6b377d34",
   "metadata": {},
   "outputs": [
    {
     "name": "stdout",
     "output_type": "stream",
     "text": [
      "Error\n",
      "Error\n",
      "Error\n",
      "Error\n"
     ]
    }
   ],
   "source": [
    "for i in df.columns:\n",
    "    try:\n",
    "        df[i] = df[i].astype(float)\n",
    "    except:\n",
    "        print('Error')"
   ]
  },
  {
   "cell_type": "code",
   "execution_count": 21,
   "id": "ec42bcfd",
   "metadata": {},
   "outputs": [],
   "source": [
    "for i in df.index:\n",
    "    inc = df['Income'].iloc[i]\n",
    "    food = df['Elementary occupations , skilled agricultural and fishery workers and occupations not classifiable'].iloc[i]\n",
    "    food = food/100\n",
    "    pop = df['Working population'].iloc[i]\n",
    "    foodpop = food*pop\n",
    "    a = (inc * foodpop)/pop\n",
    "    df['2.3.2'].iloc[i] = a"
   ]
  },
  {
   "cell_type": "code",
   "execution_count": 22,
   "id": "8ca86317",
   "metadata": {},
   "outputs": [],
   "source": [
    "df['3.b.3'] = df['HospitalScore']"
   ]
  },
  {
   "cell_type": "code",
   "execution_count": 23,
   "id": "00441e88",
   "metadata": {},
   "outputs": [],
   "source": [
    "df['3.c.1'] = None"
   ]
  },
  {
   "cell_type": "code",
   "execution_count": 24,
   "id": "e9fdc715",
   "metadata": {},
   "outputs": [],
   "source": [
    "for i in df.index:\n",
    "    pop = df['Working population'].iloc[i]\n",
    "    health = df['Public administration, education, human health and social work activities, miscellaneous social and personal services'].iloc[i]\n",
    "    a = (pop * health)/100\n",
    "    df['3.c.1'].iloc[i] = a\n",
    "    #df['3.c.1'].iloc[i] = df['3.c.1'].iloc[i].round(2)"
   ]
  },
  {
   "cell_type": "code",
   "execution_count": 25,
   "id": "13cd817b",
   "metadata": {},
   "outputs": [],
   "source": [
    "df['4.1.1'] = None\n",
    "df['4.a.1'] = None\n",
    "df['4.c.1'] = None"
   ]
  },
  {
   "cell_type": "code",
   "execution_count": 26,
   "id": "4acb7124",
   "metadata": {},
   "outputs": [],
   "source": [
    "for i in df.index:\n",
    "    study = df['Studying and living  in the same District Council district'].iloc[i]\n",
    "    pop = df['TotalPopulation'].iloc[i]\n",
    "    a = (study * pop)/100\n",
    "    df['4.1.1'].iloc[i] = a"
   ]
  },
  {
   "cell_type": "code",
   "execution_count": 27,
   "id": "501c93ac",
   "metadata": {},
   "outputs": [],
   "source": [
    "df['4.a.1'] = df['SchoolScore']"
   ]
  },
  {
   "cell_type": "code",
   "execution_count": 28,
   "id": "7118dce8",
   "metadata": {},
   "outputs": [],
   "source": [
    "for i in df.index:\n",
    "    pop = df['Working population'].iloc[i]\n",
    "    education = df['Public administration, education, human health and social work activities, miscellaneous social and personal services'].iloc[i]\n",
    "    a = (pop * education)/100\n",
    "    df['4.c.1'].iloc[i] = a\n",
    "    #df['4.c.1'].iloc[i] = df['4.c.1'].iloc[i].round(2)"
   ]
  },
  {
   "cell_type": "code",
   "execution_count": 29,
   "id": "b69b3f08",
   "metadata": {},
   "outputs": [],
   "source": [
    "#df['IncomeQuartile'] = pd.qcut(df.Income, np.linspace(0,1,11), labels=np.linspace(0.1,1,10))"
   ]
  },
  {
   "cell_type": "code",
   "execution_count": 30,
   "id": "7d5d26a8",
   "metadata": {},
   "outputs": [],
   "source": [
    "#df['IncomeQuartile'] = df['IncomeQuartile'].astype(float)"
   ]
  },
  {
   "cell_type": "code",
   "execution_count": 31,
   "id": "93552e5d",
   "metadata": {},
   "outputs": [],
   "source": [
    "#df['IncomeQuartile'] = np.round(df['IncomeQuartile'],1)"
   ]
  },
  {
   "cell_type": "code",
   "execution_count": 32,
   "id": "bca6e587",
   "metadata": {},
   "outputs": [],
   "source": [
    "df['5.2.1'] = None\n",
    "df['5.2.2'] = None\n",
    "df['5.4.1'] = None\n",
    "df['5.5.1'] = None\n",
    "df['5.5.2'] = None"
   ]
  },
  {
   "cell_type": "code",
   "execution_count": 33,
   "id": "cf16e285",
   "metadata": {},
   "outputs": [],
   "source": [
    "for i in df.index:\n",
    "    female = df['Female'].iloc[i]\n",
    "    a = ((female * 13.4)/100) + ((female * 11.7)/100)\n",
    "    df['5.2.1'].iloc[i] = a"
   ]
  },
  {
   "cell_type": "code",
   "execution_count": 34,
   "id": "a3cf958b",
   "metadata": {},
   "outputs": [],
   "source": [
    "for i in df.index:\n",
    "    female = df['Female'].iloc[i]\n",
    "    a = (female * 11.7)/100\n",
    "    df['5.2.2'].iloc[i] = a\n",
    "    #df['5.2.2'].iloc[i] = df['5.2.2'].iloc[i].round(2)"
   ]
  },
  {
   "cell_type": "code",
   "execution_count": 35,
   "id": "8c071725",
   "metadata": {},
   "outputs": [],
   "source": [
    "for i in df.index:\n",
    "    f = 0.108 * 24\n",
    "    m = 0.033 * 24\n",
    "    female = df['Female'].iloc[i] * f\n",
    "    male = df['Male'].iloc[i] * m\n",
    "    a = female + male\n",
    "    df['5.4.1'].iloc[i] = a"
   ]
  },
  {
   "cell_type": "code",
   "execution_count": 36,
   "id": "23da452f",
   "metadata": {},
   "outputs": [],
   "source": [
    "for i in df.index:\n",
    "    f = df['Female'].iloc[i]\n",
    "    gov = 0.352\n",
    "    a = f * gov\n",
    "    df['5.5.1'].iloc[i] = a"
   ]
  },
  {
   "cell_type": "code",
   "execution_count": 37,
   "id": "87f9be7c",
   "metadata": {},
   "outputs": [],
   "source": [
    "for i in df.index:\n",
    "    manager = df['Managers and administrators'].iloc[i]\n",
    "    female = df['Female'].iloc[i]\n",
    "    working = df['Working population'].iloc[i]\n",
    "    female = (female * working)/100\n",
    "    a = (manager * female)/100\n",
    "    df['5.5.2'].iloc[i] = a\n",
    "    #df['5.5.2'].iloc[i] = df['5.5.2'].iloc[i].round(2)"
   ]
  },
  {
   "cell_type": "code",
   "execution_count": 38,
   "id": "e8df551b",
   "metadata": {},
   "outputs": [],
   "source": [
    "df['6.1.1'] = 10\n",
    "df['6.3.1'] = None"
   ]
  },
  {
   "cell_type": "code",
   "execution_count": 39,
   "id": "f90bfcda",
   "metadata": {},
   "outputs": [],
   "source": [
    "for i in df.index:\n",
    "    pop = df['TotalPopulation'].iloc[i]\n",
    "    a = 10\n",
    "    b = 0.91\n",
    "    b = (pop * b)\n",
    "    #df['6.1.1'].iloc[i] = a\n",
    "    df['6.3.1'].iloc[i] = b\n",
    "    #df['6.3.1'].iloc[i] = df['6.3.1'].iloc[i].round(2)"
   ]
  },
  {
   "cell_type": "code",
   "execution_count": 40,
   "id": "3144b5e1",
   "metadata": {},
   "outputs": [],
   "source": [
    "df['7.1.1'] = None"
   ]
  },
  {
   "cell_type": "code",
   "execution_count": 41,
   "id": "d2f4c1f0",
   "metadata": {},
   "outputs": [],
   "source": [
    "for i in df.index:\n",
    "    a = 10\n",
    "    df['7.1.1'].iloc[i] = a "
   ]
  },
  {
   "cell_type": "code",
   "execution_count": 42,
   "id": "eed00703",
   "metadata": {},
   "outputs": [],
   "source": [
    "df['8.3.1'] = None\n",
    "df['8.5.1'] = None\n",
    "df['8.5.2'] = None\n",
    "df['8.6.1'] = None"
   ]
  },
  {
   "cell_type": "code",
   "execution_count": 43,
   "id": "b7bcc4ef",
   "metadata": {},
   "outputs": [],
   "source": [
    "for i in df.index:\n",
    "    working = df['Working population'].iloc[i]\n",
    "    informal = df['Elementary occupations , skilled agricultural and fishery workers and occupations not classifiable'].iloc[i]\n",
    "    a = (working * informal)/100\n",
    "    df['8.3.1'].iloc[i] = a\n",
    "    #df['8.3.1'].iloc[i] = df['8.3.1'].iloc[i].round(2)"
   ]
  },
  {
   "cell_type": "code",
   "execution_count": 44,
   "id": "27aba393",
   "metadata": {},
   "outputs": [],
   "source": [
    "for i in df.index:\n",
    "    workinghours = df['WorkingHours'].iloc[i]\n",
    "    #pop = df['Working population'].iloc[i]\n",
    "    income = df['Income'].iloc[i]\n",
    "    a = income/workinghours\n",
    "    df['8.5.1'].iloc[i] = a\n",
    "    #df['8.5.1'].iloc[i] = df['8.5.1'].iloc[i].round(2)"
   ]
  },
  {
   "cell_type": "code",
   "execution_count": 45,
   "id": "e3564384",
   "metadata": {},
   "outputs": [],
   "source": [
    "for i in df.index:\n",
    "    not_working = df['NonWorkingPopulation'].iloc[i]\n",
    "    pop = df['TotalPopulation'].iloc[i]\n",
    "    a = (not_working * pop)/100\n",
    "    df['8.5.2'].iloc[i] = a\n",
    "    #df['8.5.2'].iloc[i] = df['8.5.2'].iloc[i].round(2)"
   ]
  },
  {
   "cell_type": "code",
   "execution_count": 46,
   "id": "0bf7d0fc",
   "metadata": {},
   "outputs": [],
   "source": [
    "for i in df.index:\n",
    "    not_working = df['NonWorkingPopulation'].iloc[i]\n",
    "    age_range = df['15 - 39'].iloc[i]\n",
    "    people = (not_working * age_range)/100\n",
    "    people = (people * 10)/25\n",
    "    df['8.6.1'].iloc[i] = people\n",
    "    #df['8.6.1'].iloc[i] = df['8.6.1'].iloc[i].round(2)"
   ]
  },
  {
   "cell_type": "code",
   "execution_count": 47,
   "id": "f967c70c",
   "metadata": {},
   "outputs": [],
   "source": [
    "df['9.2.2'] = None"
   ]
  },
  {
   "cell_type": "code",
   "execution_count": 48,
   "id": "6e1a69fc",
   "metadata": {},
   "outputs": [],
   "source": [
    "for i in df.index:\n",
    "    working = df['Working population'].iloc[i]\n",
    "    manufacturing = df['Manufacturing, construction, and other industries'].iloc[i]\n",
    "    people = (working * manufacturing)/100\n",
    "    a = people/working\n",
    "    df['9.2.2'].iloc[i] = a"
   ]
  },
  {
   "cell_type": "code",
   "execution_count": 49,
   "id": "9609a9c2",
   "metadata": {},
   "outputs": [],
   "source": [
    "df['10.2.1'] = None\n",
    "df['10.7.4'] = None"
   ]
  },
  {
   "cell_type": "code",
   "execution_count": 50,
   "id": "81a4dbde",
   "metadata": {},
   "outputs": [],
   "source": [
    "median = df['Income'].mean()\n",
    "median = median/2\n",
    "median = round(median,2)"
   ]
  },
  {
   "cell_type": "code",
   "execution_count": 51,
   "id": "06c4daf5",
   "metadata": {},
   "outputs": [],
   "source": [
    "for i in df.index:\n",
    "    inc = df['Income'].iloc[i]\n",
    "    if inc<=median:\n",
    "        a = df['TotalPopulation'].iloc[i]\n",
    "    else:\n",
    "        a = 0\n",
    "    a = 0-a\n",
    "    df['10.2.1'].iloc[i] = a"
   ]
  },
  {
   "cell_type": "code",
   "execution_count": 52,
   "id": "3de51b36",
   "metadata": {},
   "outputs": [],
   "source": [
    "for i in df.index:\n",
    "    bornhk = df['Born in Hong Kong'].iloc[i]\n",
    "    nothk = 100 - bornhk\n",
    "    pop = df['TotalPopulation'].iloc[i]\n",
    "    a = (nothk * pop)/100\n",
    "    df['10.7.4'].iloc[i] = a\n",
    "    #df['10.7.4'].iloc[i] = df['10.7.4'].iloc[i].round(2)"
   ]
  },
  {
   "cell_type": "code",
   "execution_count": 53,
   "id": "ede3cfe6",
   "metadata": {},
   "outputs": [],
   "source": [
    "df['11.2.1'] = None\n",
    "df['11.6.1'] = None\n",
    "df['11.7.1'] = None"
   ]
  },
  {
   "cell_type": "code",
   "execution_count": 54,
   "id": "902f4dcd",
   "metadata": {},
   "outputs": [],
   "source": [
    "for i in df.index:\n",
    "    bus = df['Bus'].iloc[i]\n",
    "    lightbus = df['LightBus'].iloc[i]\n",
    "    public = bus + lightbus\n",
    "    working = df['Working population'].iloc[i]\n",
    "    a = (working * public)/100\n",
    "    a = a/working\n",
    "    df['11.2.1'].iloc[i] = a"
   ]
  },
  {
   "cell_type": "code",
   "execution_count": 55,
   "id": "37b088be",
   "metadata": {},
   "outputs": [],
   "source": [
    "df['11.6.1'] = df['WasteManagementScore']"
   ]
  },
  {
   "cell_type": "code",
   "execution_count": 56,
   "id": "f43b1843",
   "metadata": {},
   "outputs": [],
   "source": [
    "df['11.7.1'] = df['OpenAreaScore']"
   ]
  },
  {
   "cell_type": "code",
   "execution_count": 57,
   "id": "4c4df5ad",
   "metadata": {},
   "outputs": [],
   "source": [
    "df['12.5.1'] = None"
   ]
  },
  {
   "cell_type": "code",
   "execution_count": 58,
   "id": "fba4e178",
   "metadata": {},
   "outputs": [],
   "source": [
    "for i in df.index:\n",
    "    wastemgmt = df['WasteManagementScore'].iloc[i]\n",
    "    recycled = 0.31\n",
    "    a = wastemgmt * recycled\n",
    "    df['12.5.1'].iloc[i] = a"
   ]
  },
  {
   "cell_type": "code",
   "execution_count": 59,
   "id": "65a41c25",
   "metadata": {},
   "outputs": [],
   "source": [
    "df['13.1.1'] = None"
   ]
  },
  {
   "cell_type": "code",
   "execution_count": 60,
   "id": "15b6e052",
   "metadata": {},
   "outputs": [],
   "source": [
    "for i in df.index:\n",
    "    pop = df['TotalPopulation'].iloc[i]\n",
    "    missing = 55/100000\n",
    "    a = pop*missing\n",
    "    df['13.1.1'].iloc[i] = a"
   ]
  },
  {
   "cell_type": "code",
   "execution_count": 61,
   "id": "f2dbb7ac",
   "metadata": {},
   "outputs": [],
   "source": [
    "df['14.7.1'] = df['FisheriesScore']"
   ]
  },
  {
   "cell_type": "code",
   "execution_count": 62,
   "id": "c6f469d5",
   "metadata": {},
   "outputs": [],
   "source": [
    "df['15.1.1'] = 0.23\n",
    "df['15.1.2'] = df['FisheriesScore']\n",
    "df['15.4.2'] = 10"
   ]
  },
  {
   "cell_type": "code",
   "execution_count": 63,
   "id": "d43a3cec",
   "metadata": {},
   "outputs": [],
   "source": [
    "df['16.1.1'] = None\n",
    "df['16.1.2'] = None\n",
    "df['16.2.3'] = None"
   ]
  },
  {
   "cell_type": "code",
   "execution_count": 64,
   "id": "b2015093",
   "metadata": {},
   "outputs": [],
   "source": [
    "for i in df.index:\n",
    "    homocide = 0.64/100000\n",
    "    pop = df['TotalPopulation'].iloc[i]\n",
    "    a = homocide*pop\n",
    "    df['16.1.1'].iloc[i] = a"
   ]
  },
  {
   "cell_type": "code",
   "execution_count": 65,
   "id": "6651f81c",
   "metadata": {},
   "outputs": [],
   "source": [
    "for i in df.index:\n",
    "    conflict = 940/100000\n",
    "    pop = df['TotalPopulation'].iloc[i]\n",
    "    a = conflict*pop\n",
    "    df['16.1.2'].iloc[i] = a"
   ]
  },
  {
   "cell_type": "code",
   "execution_count": 66,
   "id": "905ee045",
   "metadata": {},
   "outputs": [],
   "source": [
    "for i in df.index:\n",
    "    sexualviolence = 0.01/100000\n",
    "    pop = df['TotalPopulation'].iloc[i]\n",
    "    a = sexualviolence*pop\n",
    "    df['16.2.3'].iloc[i] = a"
   ]
  },
  {
   "cell_type": "code",
   "execution_count": 67,
   "id": "c1bfe5aa",
   "metadata": {},
   "outputs": [],
   "source": [
    "df['17.6.1'] = None\n",
    "df['17.8.1'] = None"
   ]
  },
  {
   "cell_type": "code",
   "execution_count": 68,
   "id": "7cc09d54",
   "metadata": {},
   "outputs": [],
   "source": [
    "for i in df.index:\n",
    "    broadband = 38.94/100\n",
    "    pop = df['TotalPopulation'].iloc[i]\n",
    "    a = broadband * pop\n",
    "    df['17.6.1'].iloc[i] = a"
   ]
  },
  {
   "cell_type": "code",
   "execution_count": 69,
   "id": "ec2bb4b3",
   "metadata": {},
   "outputs": [],
   "source": [
    "for i in df.index:\n",
    "    internet = 0.93\n",
    "    pop = df['TotalPopulation'].iloc[i]\n",
    "    a = internet * pop\n",
    "    df['17.8.1'].iloc[i] = a"
   ]
  },
  {
   "cell_type": "code",
   "execution_count": 70,
   "id": "f74b8ef6",
   "metadata": {},
   "outputs": [],
   "source": [
    "df['SDG1'] = None\n",
    "df['SDG2'] = None\n",
    "df['SDG3'] = None\n",
    "df['SDG4'] = None\n",
    "df['SDG5'] = None\n",
    "df['SDG6'] = None\n",
    "df['SDG7'] = None\n",
    "df['SDG8'] = None\n",
    "df['SDG9'] = None\n",
    "df['SDG10'] = None\n",
    "df['SDG11'] = None\n",
    "df['SDG12'] = None\n",
    "df['SDG13'] = None\n",
    "df['SDG14'] = None\n",
    "df['SDG15'] = None\n",
    "df['SDG16'] = None\n",
    "df['SDG17'] = None"
   ]
  },
  {
   "cell_type": "code",
   "execution_count": 71,
   "id": "1dc3acc3",
   "metadata": {},
   "outputs": [
    {
     "data": {
      "text/plain": [
       "'17.8.1'"
      ]
     },
     "execution_count": 71,
     "metadata": {},
     "output_type": "execute_result"
    }
   ],
   "source": [
    "df.columns[72]"
   ]
  },
  {
   "cell_type": "code",
   "execution_count": 72,
   "id": "3cfb4e99",
   "metadata": {},
   "outputs": [
    {
     "name": "stdout",
     "output_type": "stream",
     "text": [
      "Error\n",
      "Error\n",
      "Error\n",
      "Error\n"
     ]
    }
   ],
   "source": [
    "for i in df.columns:\n",
    "    try:\n",
    "        df[i] = df[i].astype(float)\n",
    "    except:\n",
    "        print('Error')"
   ]
  },
  {
   "cell_type": "code",
   "execution_count": 73,
   "id": "145e03f4",
   "metadata": {},
   "outputs": [],
   "source": [
    "collst = ['6.1.1', '7.1.1', '15.1.1', '15.4.2']"
   ]
  },
  {
   "cell_type": "code",
   "execution_count": 74,
   "id": "ecfaa359",
   "metadata": {},
   "outputs": [],
   "source": [
    "for i in range(33, 73):\n",
    "    col = df.columns[i]\n",
    "    if col in collst:\n",
    "        pass\n",
    "    else:\n",
    "        mx = (df[col]).max()\n",
    "        mn = (df[col]).min()\n",
    "        for j in df.index:\n",
    "            try:\n",
    "                data = df[col].iloc[j]\n",
    "                scaled = (data - mn)/(mx-mn)\n",
    "                df[col].iloc[j] = scaled*10\n",
    "            except:\n",
    "                pass"
   ]
  },
  {
   "cell_type": "code",
   "execution_count": 75,
   "id": "150cdf64",
   "metadata": {},
   "outputs": [],
   "source": [
    "df['SDG1'] = (df['1.1.1'] + df['1.2.1'] + df['1.4.1'] + df['1.a.2'])/4\n",
    "df['SDG2'] = df['2.3.2']\n",
    "df['SDG3'] = (df['3.b.3'] + df['3.c.1'])/2\n",
    "df['SDG4'] = (df['4.1.1'] + df['4.a.1'] + df['4.c.1'])/3\n",
    "df['SDG5'] = (df['5.2.1'] + df['5.2.2'] + df['5.4.1'] + df['5.5.1'] + df['5.5.2'])/5\n",
    "df['SDG6'] = (df['6.1.1'] + df['6.3.1'])/2\n",
    "df['SDG7'] = df['7.1.1']\n",
    "df['SDG8'] = (df['8.3.1'] + df['8.5.1'] + df['8.5.2'] + df['8.6.1'])/4\n",
    "df['SDG9'] = df['9.2.2']\n",
    "df['SDG10'] = (df['10.2.1'] + df['10.7.4'])/2\n",
    "df['SDG11'] = (df['11.2.1'] + df['11.6.1'] + df['11.7.1'])/3\n",
    "df['SDG12'] = df['12.5.1']\n",
    "df['SDG13'] = df['13.1.1']\n",
    "df['SDG14'] = df['14.7.1']\n",
    "df['SDG15'] = (df['15.1.1'] + df['15.1.2'] + df['15.4.2'])/3\n",
    "df['SDG16'] = (df['16.1.1'] + df['16.1.2'] + df['16.2.3'])/3\n",
    "df['SDG17'] = (df['17.6.1'] + df['17.8.1'])/2"
   ]
  },
  {
   "cell_type": "code",
   "execution_count": 76,
   "id": "3d5d5c2b",
   "metadata": {},
   "outputs": [
    {
     "data": {
      "text/plain": [
       "\"df['SDG1'] = df['1.1.1'] + df['1.2.1'] + df['1.4.1'] + df['1.a.2']\\ndf['SDG2'] = df['2.3.2']\\ndf['SDG3'] = df['3.b.3'] + df['3.c.1']\\ndf['SDG4'] = df['4.1.1'] + df['4.a.1'] + df['4.c.1']\\ndf['SDG5'] = df['5.2.1'] + df['5.2.2'] + df['5.4.1'] + df['5.5.1'] + df['5.5.2']\\ndf['SDG6'] = df['6.1.1'] + df['6.3.1']\\ndf['SDG7'] = df['7.1.1']\\ndf['SDG8'] = df['8.3.1'] + df['8.5.1'] + df['8.5.2'] + df['8.6.1']\\ndf['SDG9'] = df['9.2.2']\\ndf['SDG10'] = df['10.2.1'] + df['10.7.4']\\ndf['SDG11'] = df['11.2.1'] + df['11.6.1'] + df['11.7.1']\\ndf['SDG12'] = df['12.5.1']\\ndf['SDG13'] = df['13.1.1']\\ndf['SDG14'] = df['14.7.1']\\ndf['SDG15'] = df['15.1.1'] + df['15.1.2'] + df['15.4.2']\\ndf['SDG16'] = df['16.1.1'] + df['16.1.2'] + df['16.2.3']\\ndf['SDG17'] = df['17.6.1'] + df['17.8.1']\""
      ]
     },
     "execution_count": 76,
     "metadata": {},
     "output_type": "execute_result"
    }
   ],
   "source": [
    "'''df['SDG1'] = df['1.1.1'] + df['1.2.1'] + df['1.4.1'] + df['1.a.2']\n",
    "df['SDG2'] = df['2.3.2']\n",
    "df['SDG3'] = df['3.b.3'] + df['3.c.1']\n",
    "df['SDG4'] = df['4.1.1'] + df['4.a.1'] + df['4.c.1']\n",
    "df['SDG5'] = df['5.2.1'] + df['5.2.2'] + df['5.4.1'] + df['5.5.1'] + df['5.5.2']\n",
    "df['SDG6'] = df['6.1.1'] + df['6.3.1']\n",
    "df['SDG7'] = df['7.1.1']\n",
    "df['SDG8'] = df['8.3.1'] + df['8.5.1'] + df['8.5.2'] + df['8.6.1']\n",
    "df['SDG9'] = df['9.2.2']\n",
    "df['SDG10'] = df['10.2.1'] + df['10.7.4']\n",
    "df['SDG11'] = df['11.2.1'] + df['11.6.1'] + df['11.7.1']\n",
    "df['SDG12'] = df['12.5.1']\n",
    "df['SDG13'] = df['13.1.1']\n",
    "df['SDG14'] = df['14.7.1']\n",
    "df['SDG15'] = df['15.1.1'] + df['15.1.2'] + df['15.4.2']\n",
    "df['SDG16'] = df['16.1.1'] + df['16.1.2'] + df['16.2.3']\n",
    "df['SDG17'] = df['17.6.1'] + df['17.8.1']'''"
   ]
  },
  {
   "cell_type": "code",
   "execution_count": 77,
   "id": "263a8590",
   "metadata": {},
   "outputs": [
    {
     "data": {
      "text/plain": [
       "3.4262203446465223"
      ]
     },
     "execution_count": 77,
     "metadata": {},
     "output_type": "execute_result"
    }
   ],
   "source": [
    "df['SDG15'].mean()"
   ]
  },
  {
   "cell_type": "code",
   "execution_count": 78,
   "id": "f89cdd9f",
   "metadata": {},
   "outputs": [
    {
     "data": {
      "text/plain": [
       "0       10.0\n",
       "1       10.0\n",
       "2       10.0\n",
       "3       10.0\n",
       "4       10.0\n",
       "        ... \n",
       "6978    10.0\n",
       "6979    10.0\n",
       "6980    10.0\n",
       "6981    10.0\n",
       "6982    10.0\n",
       "Name: 15.4.2, Length: 6983, dtype: float64"
      ]
     },
     "execution_count": 78,
     "metadata": {},
     "output_type": "execute_result"
    }
   ],
   "source": [
    "df['15.4.2']"
   ]
  },
  {
   "cell_type": "code",
   "execution_count": 79,
   "id": "f6f305df",
   "metadata": {},
   "outputs": [
    {
     "data": {
      "text/plain": [
       "'SDG1'"
      ]
     },
     "execution_count": 79,
     "metadata": {},
     "output_type": "execute_result"
    }
   ],
   "source": [
    "df.columns[73]"
   ]
  },
  {
   "cell_type": "code",
   "execution_count": 86,
   "id": "43b7dae9",
   "metadata": {},
   "outputs": [],
   "source": [
    "df_final = df[['District/Area/Building Group', 'Building', 'lat', 'lon', 'Region',\n",
    "       'District', 'TotalPopulation', 'Working population', 'Male', 'Female', 'Income', 'SDG1', 'SDG2', 'SDG3',\n",
    "       'SDG4', 'SDG5', 'SDG6', 'SDG7', 'SDG8', 'SDG9', 'SDG10', 'SDG11',\n",
    "       'SDG12', 'SDG13', 'SDG14', 'SDG15', 'SDG16', 'SDG17']]"
   ]
  },
  {
   "cell_type": "code",
   "execution_count": 87,
   "id": "13595596",
   "metadata": {},
   "outputs": [
    {
     "name": "stdout",
     "output_type": "stream",
     "text": [
      "<class 'pandas.core.frame.DataFrame'>\n",
      "RangeIndex: 6983 entries, 0 to 6982\n",
      "Data columns (total 28 columns):\n",
      " #   Column                        Non-Null Count  Dtype  \n",
      "---  ------                        --------------  -----  \n",
      " 0   District/Area/Building Group  6983 non-null   object \n",
      " 1   Building                      6983 non-null   object \n",
      " 2   lat                           6983 non-null   float64\n",
      " 3   lon                           6983 non-null   float64\n",
      " 4   Region                        6983 non-null   object \n",
      " 5   District                      6983 non-null   object \n",
      " 6   TotalPopulation               6983 non-null   float64\n",
      " 7   Working population            6983 non-null   float64\n",
      " 8   Male                          6983 non-null   float64\n",
      " 9   Female                        6983 non-null   float64\n",
      " 10  Income                        6983 non-null   float64\n",
      " 11  SDG1                          6983 non-null   float64\n",
      " 12  SDG2                          6983 non-null   float64\n",
      " 13  SDG3                          6983 non-null   float64\n",
      " 14  SDG4                          6983 non-null   float64\n",
      " 15  SDG5                          6983 non-null   float64\n",
      " 16  SDG6                          6983 non-null   float64\n",
      " 17  SDG7                          6983 non-null   float64\n",
      " 18  SDG8                          6983 non-null   float64\n",
      " 19  SDG9                          6983 non-null   float64\n",
      " 20  SDG10                         6983 non-null   float64\n",
      " 21  SDG11                         6983 non-null   float64\n",
      " 22  SDG12                         6983 non-null   float64\n",
      " 23  SDG13                         6983 non-null   float64\n",
      " 24  SDG14                         6983 non-null   float64\n",
      " 25  SDG15                         6983 non-null   float64\n",
      " 26  SDG16                         6983 non-null   float64\n",
      " 27  SDG17                         6983 non-null   float64\n",
      "dtypes: float64(24), object(4)\n",
      "memory usage: 1.5+ MB\n"
     ]
    }
   ],
   "source": [
    "df_final.info()"
   ]
  },
  {
   "cell_type": "code",
   "execution_count": 88,
   "id": "75dba06e",
   "metadata": {},
   "outputs": [
    {
     "data": {
      "text/html": [
       "<div>\n",
       "<style scoped>\n",
       "    .dataframe tbody tr th:only-of-type {\n",
       "        vertical-align: middle;\n",
       "    }\n",
       "\n",
       "    .dataframe tbody tr th {\n",
       "        vertical-align: top;\n",
       "    }\n",
       "\n",
       "    .dataframe thead th {\n",
       "        text-align: right;\n",
       "    }\n",
       "</style>\n",
       "<table border=\"1\" class=\"dataframe\">\n",
       "  <thead>\n",
       "    <tr style=\"text-align: right;\">\n",
       "      <th></th>\n",
       "      <th>District/Area/Building Group</th>\n",
       "      <th>Building</th>\n",
       "      <th>lat</th>\n",
       "      <th>lon</th>\n",
       "      <th>Region</th>\n",
       "      <th>District</th>\n",
       "      <th>TotalPopulation</th>\n",
       "      <th>Working population</th>\n",
       "      <th>Male</th>\n",
       "      <th>Female</th>\n",
       "      <th>...</th>\n",
       "      <th>SDG8</th>\n",
       "      <th>SDG9</th>\n",
       "      <th>SDG10</th>\n",
       "      <th>SDG11</th>\n",
       "      <th>SDG12</th>\n",
       "      <th>SDG13</th>\n",
       "      <th>SDG14</th>\n",
       "      <th>SDG15</th>\n",
       "      <th>SDG16</th>\n",
       "      <th>SDG17</th>\n",
       "    </tr>\n",
       "  </thead>\n",
       "  <tbody>\n",
       "    <tr>\n",
       "      <th>0</th>\n",
       "      <td>(Tai Po Mid-levels) Provi...(Tai Po Mid-levels...</td>\n",
       "      <td>Providence Peak</td>\n",
       "      <td>22.432130</td>\n",
       "      <td>114.202489</td>\n",
       "      <td>NewTerritories</td>\n",
       "      <td>TaiPo</td>\n",
       "      <td>2115.33</td>\n",
       "      <td>1064.33</td>\n",
       "      <td>1607.65</td>\n",
       "      <td>507.68</td>\n",
       "      <td>...</td>\n",
       "      <td>2.276131</td>\n",
       "      <td>1.675214</td>\n",
       "      <td>5.474510</td>\n",
       "      <td>0.705706</td>\n",
       "      <td>0.0</td>\n",
       "      <td>0.917651</td>\n",
       "      <td>0.0</td>\n",
       "      <td>3.41</td>\n",
       "      <td>0.917651</td>\n",
       "      <td>0.917651</td>\n",
       "    </tr>\n",
       "    <tr>\n",
       "      <th>1</th>\n",
       "      <td>(Sha Tau Kok) residential...(Sha Tau Kok) resi...</td>\n",
       "      <td>(Sha Tau Kok) residential buildings</td>\n",
       "      <td>22.531577</td>\n",
       "      <td>114.203240</td>\n",
       "      <td>NewTerritories</td>\n",
       "      <td>North</td>\n",
       "      <td>1523.50</td>\n",
       "      <td>582.00</td>\n",
       "      <td>1435.14</td>\n",
       "      <td>88.36</td>\n",
       "      <td>...</td>\n",
       "      <td>1.494715</td>\n",
       "      <td>4.358974</td>\n",
       "      <td>5.322125</td>\n",
       "      <td>2.072072</td>\n",
       "      <td>0.0</td>\n",
       "      <td>0.647956</td>\n",
       "      <td>0.0</td>\n",
       "      <td>3.41</td>\n",
       "      <td>0.647956</td>\n",
       "      <td>0.647956</td>\n",
       "    </tr>\n",
       "    <tr>\n",
       "      <th>2</th>\n",
       "      <td>(Yuen Long Southeast) Tow...(Yuen Long Southea...</td>\n",
       "      <td>(Yuen Long Southeast) Tower 1-5, The Reach (Sh...</td>\n",
       "      <td>22.437429</td>\n",
       "      <td>114.027660</td>\n",
       "      <td>NewTerritories</td>\n",
       "      <td>YuenLong</td>\n",
       "      <td>1841.00</td>\n",
       "      <td>1219.00</td>\n",
       "      <td>1285.02</td>\n",
       "      <td>555.98</td>\n",
       "      <td>...</td>\n",
       "      <td>3.088889</td>\n",
       "      <td>2.034188</td>\n",
       "      <td>5.278841</td>\n",
       "      <td>0.949700</td>\n",
       "      <td>0.0</td>\n",
       "      <td>0.792640</td>\n",
       "      <td>0.0</td>\n",
       "      <td>3.41</td>\n",
       "      <td>0.792640</td>\n",
       "      <td>0.792640</td>\n",
       "    </tr>\n",
       "    <tr>\n",
       "      <th>3</th>\n",
       "      <td>(Yuen Long Southeast) Tow...(Yuen Long Southea...</td>\n",
       "      <td>(Yuen Long Southeast) Tower 10-13, The Reach (...</td>\n",
       "      <td>22.437429</td>\n",
       "      <td>114.027660</td>\n",
       "      <td>NewTerritories</td>\n",
       "      <td>YuenLong</td>\n",
       "      <td>2076.00</td>\n",
       "      <td>1270.00</td>\n",
       "      <td>1721.00</td>\n",
       "      <td>355.00</td>\n",
       "      <td>...</td>\n",
       "      <td>2.665721</td>\n",
       "      <td>2.820513</td>\n",
       "      <td>5.255678</td>\n",
       "      <td>1.234985</td>\n",
       "      <td>0.0</td>\n",
       "      <td>0.899728</td>\n",
       "      <td>0.0</td>\n",
       "      <td>3.41</td>\n",
       "      <td>0.899728</td>\n",
       "      <td>0.899728</td>\n",
       "    </tr>\n",
       "    <tr>\n",
       "      <th>4</th>\n",
       "      <td>(Yuen Long Southeast) Gra...(Yuen Long Southea...</td>\n",
       "      <td>(Yuen Long Southeast) Grand Del Sol (Fung Cheu...</td>\n",
       "      <td>22.440560</td>\n",
       "      <td>114.032987</td>\n",
       "      <td>NewTerritories</td>\n",
       "      <td>YuenLong</td>\n",
       "      <td>3696.00</td>\n",
       "      <td>2030.00</td>\n",
       "      <td>3012.24</td>\n",
       "      <td>683.76</td>\n",
       "      <td>...</td>\n",
       "      <td>2.469851</td>\n",
       "      <td>1.982906</td>\n",
       "      <td>5.565686</td>\n",
       "      <td>0.518018</td>\n",
       "      <td>0.0</td>\n",
       "      <td>1.637958</td>\n",
       "      <td>0.0</td>\n",
       "      <td>3.41</td>\n",
       "      <td>1.637958</td>\n",
       "      <td>1.637958</td>\n",
       "    </tr>\n",
       "  </tbody>\n",
       "</table>\n",
       "<p>5 rows × 28 columns</p>\n",
       "</div>"
      ],
      "text/plain": [
       "                        District/Area/Building Group  \\\n",
       "0  (Tai Po Mid-levels) Provi...(Tai Po Mid-levels...   \n",
       "1  (Sha Tau Kok) residential...(Sha Tau Kok) resi...   \n",
       "2  (Yuen Long Southeast) Tow...(Yuen Long Southea...   \n",
       "3  (Yuen Long Southeast) Tow...(Yuen Long Southea...   \n",
       "4  (Yuen Long Southeast) Gra...(Yuen Long Southea...   \n",
       "\n",
       "                                            Building        lat         lon  \\\n",
       "0                                    Providence Peak  22.432130  114.202489   \n",
       "1                (Sha Tau Kok) residential buildings  22.531577  114.203240   \n",
       "2  (Yuen Long Southeast) Tower 1-5, The Reach (Sh...  22.437429  114.027660   \n",
       "3  (Yuen Long Southeast) Tower 10-13, The Reach (...  22.437429  114.027660   \n",
       "4  (Yuen Long Southeast) Grand Del Sol (Fung Cheu...  22.440560  114.032987   \n",
       "\n",
       "           Region  District  TotalPopulation  Working population     Male  \\\n",
       "0  NewTerritories     TaiPo          2115.33             1064.33  1607.65   \n",
       "1  NewTerritories     North          1523.50              582.00  1435.14   \n",
       "2  NewTerritories  YuenLong          1841.00             1219.00  1285.02   \n",
       "3  NewTerritories  YuenLong          2076.00             1270.00  1721.00   \n",
       "4  NewTerritories  YuenLong          3696.00             2030.00  3012.24   \n",
       "\n",
       "   Female  ...      SDG8      SDG9     SDG10     SDG11  SDG12     SDG13  \\\n",
       "0  507.68  ...  2.276131  1.675214  5.474510  0.705706    0.0  0.917651   \n",
       "1   88.36  ...  1.494715  4.358974  5.322125  2.072072    0.0  0.647956   \n",
       "2  555.98  ...  3.088889  2.034188  5.278841  0.949700    0.0  0.792640   \n",
       "3  355.00  ...  2.665721  2.820513  5.255678  1.234985    0.0  0.899728   \n",
       "4  683.76  ...  2.469851  1.982906  5.565686  0.518018    0.0  1.637958   \n",
       "\n",
       "   SDG14  SDG15     SDG16     SDG17  \n",
       "0    0.0   3.41  0.917651  0.917651  \n",
       "1    0.0   3.41  0.647956  0.647956  \n",
       "2    0.0   3.41  0.792640  0.792640  \n",
       "3    0.0   3.41  0.899728  0.899728  \n",
       "4    0.0   3.41  1.637958  1.637958  \n",
       "\n",
       "[5 rows x 28 columns]"
      ]
     },
     "execution_count": 88,
     "metadata": {},
     "output_type": "execute_result"
    }
   ],
   "source": [
    "df_final.head(5)"
   ]
  },
  {
   "cell_type": "code",
   "execution_count": 89,
   "id": "40794d7b",
   "metadata": {},
   "outputs": [],
   "source": [
    "df_final['Overall SDG Score'] = None"
   ]
  },
  {
   "cell_type": "code",
   "execution_count": 90,
   "id": "dd620ae0",
   "metadata": {},
   "outputs": [
    {
     "data": {
      "text/plain": [
       "'Overall SDG Score'"
      ]
     },
     "execution_count": 90,
     "metadata": {},
     "output_type": "execute_result"
    }
   ],
   "source": [
    "df_final.columns[28]"
   ]
  },
  {
   "cell_type": "code",
   "execution_count": null,
   "id": "f029abd9",
   "metadata": {},
   "outputs": [],
   "source": [
    "for i in range(33, 73):\n",
    "    col = df.columns[i]\n",
    "    mx = (df[col]).max()\n",
    "    mn = (df[col]).min()\n",
    "    for j in df.index:\n",
    "        try:\n",
    "            data = df[col].iloc[j]\n",
    "            scaled = (data - mn)/(mx-mn)\n",
    "            df[col].iloc[j] = scaled*10\n",
    "        except:\n",
    "            pass"
   ]
  },
  {
   "cell_type": "code",
   "execution_count": null,
   "id": "323f3513",
   "metadata": {},
   "outputs": [],
   "source": []
  },
  {
   "cell_type": "code",
   "execution_count": 91,
   "id": "8861ca47",
   "metadata": {},
   "outputs": [],
   "source": [
    "for i in range(33, 73):\n",
    "    try:\n",
    "        col = df.columns[i]\n",
    "        #print(col)\n",
    "        df[col] = round(df[col], 2)\n",
    "    except:\n",
    "        print('Error')"
   ]
  },
  {
   "cell_type": "code",
   "execution_count": null,
   "id": "aeab6dd4",
   "metadata": {},
   "outputs": [],
   "source": [
    "bldg = df[df['Building'] == 'Yue Man Building']"
   ]
  },
  {
   "cell_type": "code",
   "execution_count": null,
   "id": "f9fac5db",
   "metadata": {},
   "outputs": [],
   "source": [
    "bldg['4.c.1']"
   ]
  },
  {
   "cell_type": "code",
   "execution_count": null,
   "id": "90c26c4e",
   "metadata": {},
   "outputs": [],
   "source": [
    "#bldg.to_excel('Bldg.xls')"
   ]
  },
  {
   "cell_type": "code",
   "execution_count": 92,
   "id": "5c9c203b",
   "metadata": {},
   "outputs": [],
   "source": [
    "for i in df_final.index:\n",
    "    a = 0\n",
    "    for j in range(11,28):\n",
    "        col = df_final.columns[j]\n",
    "        val = df_final[col].iloc[i]\n",
    "        df_final['Overall SDG Score'].iloc[i] = a + val\n",
    "        a = a + val"
   ]
  },
  {
   "cell_type": "code",
   "execution_count": 93,
   "id": "fced88dd",
   "metadata": {},
   "outputs": [
    {
     "data": {
      "text/plain": [
       "\"for i in range(6, 23):\\n    col = df_final.columns[i]\\n    for j in df_final.index:\\n        val = df_final[col].iloc[j]\\n        df_final['Overall SDG Score'].iloc[j] = a + val\""
      ]
     },
     "execution_count": 93,
     "metadata": {},
     "output_type": "execute_result"
    }
   ],
   "source": [
    "'''for i in range(6, 23):\n",
    "    col = df_final.columns[i]\n",
    "    for j in df_final.index:\n",
    "        val = df_final[col].iloc[j]\n",
    "        df_final['Overall SDG Score'].iloc[j] = a + val'''"
   ]
  },
  {
   "cell_type": "code",
   "execution_count": 94,
   "id": "cfcd41d1",
   "metadata": {},
   "outputs": [
    {
     "data": {
      "text/html": [
       "<div>\n",
       "<style scoped>\n",
       "    .dataframe tbody tr th:only-of-type {\n",
       "        vertical-align: middle;\n",
       "    }\n",
       "\n",
       "    .dataframe tbody tr th {\n",
       "        vertical-align: top;\n",
       "    }\n",
       "\n",
       "    .dataframe thead th {\n",
       "        text-align: right;\n",
       "    }\n",
       "</style>\n",
       "<table border=\"1\" class=\"dataframe\">\n",
       "  <thead>\n",
       "    <tr style=\"text-align: right;\">\n",
       "      <th></th>\n",
       "      <th>District/Area/Building Group</th>\n",
       "      <th>Building</th>\n",
       "      <th>lat</th>\n",
       "      <th>lon</th>\n",
       "      <th>Region</th>\n",
       "      <th>District</th>\n",
       "      <th>TotalPopulation</th>\n",
       "      <th>Working population</th>\n",
       "      <th>Male</th>\n",
       "      <th>Female</th>\n",
       "      <th>...</th>\n",
       "      <th>SDG9</th>\n",
       "      <th>SDG10</th>\n",
       "      <th>SDG11</th>\n",
       "      <th>SDG12</th>\n",
       "      <th>SDG13</th>\n",
       "      <th>SDG14</th>\n",
       "      <th>SDG15</th>\n",
       "      <th>SDG16</th>\n",
       "      <th>SDG17</th>\n",
       "      <th>Overall SDG Score</th>\n",
       "    </tr>\n",
       "  </thead>\n",
       "  <tbody>\n",
       "    <tr>\n",
       "      <th>0</th>\n",
       "      <td>(Tai Po Mid-levels) Provi...(Tai Po Mid-levels...</td>\n",
       "      <td>Providence Peak</td>\n",
       "      <td>22.432130</td>\n",
       "      <td>114.202489</td>\n",
       "      <td>NewTerritories</td>\n",
       "      <td>TaiPo</td>\n",
       "      <td>2115.33</td>\n",
       "      <td>1064.33</td>\n",
       "      <td>1607.65</td>\n",
       "      <td>507.68</td>\n",
       "      <td>...</td>\n",
       "      <td>1.675214</td>\n",
       "      <td>5.474510</td>\n",
       "      <td>0.705706</td>\n",
       "      <td>0.0</td>\n",
       "      <td>0.917651</td>\n",
       "      <td>0.0</td>\n",
       "      <td>3.41</td>\n",
       "      <td>0.917651</td>\n",
       "      <td>0.917651</td>\n",
       "      <td>42.393384</td>\n",
       "    </tr>\n",
       "    <tr>\n",
       "      <th>1</th>\n",
       "      <td>(Sha Tau Kok) residential...(Sha Tau Kok) resi...</td>\n",
       "      <td>(Sha Tau Kok) residential buildings</td>\n",
       "      <td>22.531577</td>\n",
       "      <td>114.203240</td>\n",
       "      <td>NewTerritories</td>\n",
       "      <td>North</td>\n",
       "      <td>1523.50</td>\n",
       "      <td>582.00</td>\n",
       "      <td>1435.14</td>\n",
       "      <td>88.36</td>\n",
       "      <td>...</td>\n",
       "      <td>4.358974</td>\n",
       "      <td>5.322125</td>\n",
       "      <td>2.072072</td>\n",
       "      <td>0.0</td>\n",
       "      <td>0.647956</td>\n",
       "      <td>0.0</td>\n",
       "      <td>3.41</td>\n",
       "      <td>0.647956</td>\n",
       "      <td>0.647956</td>\n",
       "      <td>41.591698</td>\n",
       "    </tr>\n",
       "    <tr>\n",
       "      <th>2</th>\n",
       "      <td>(Yuen Long Southeast) Tow...(Yuen Long Southea...</td>\n",
       "      <td>(Yuen Long Southeast) Tower 1-5, The Reach (Sh...</td>\n",
       "      <td>22.437429</td>\n",
       "      <td>114.027660</td>\n",
       "      <td>NewTerritories</td>\n",
       "      <td>YuenLong</td>\n",
       "      <td>1841.00</td>\n",
       "      <td>1219.00</td>\n",
       "      <td>1285.02</td>\n",
       "      <td>555.98</td>\n",
       "      <td>...</td>\n",
       "      <td>2.034188</td>\n",
       "      <td>5.278841</td>\n",
       "      <td>0.949700</td>\n",
       "      <td>0.0</td>\n",
       "      <td>0.792640</td>\n",
       "      <td>0.0</td>\n",
       "      <td>3.41</td>\n",
       "      <td>0.792640</td>\n",
       "      <td>0.792640</td>\n",
       "      <td>41.597221</td>\n",
       "    </tr>\n",
       "    <tr>\n",
       "      <th>3</th>\n",
       "      <td>(Yuen Long Southeast) Tow...(Yuen Long Southea...</td>\n",
       "      <td>(Yuen Long Southeast) Tower 10-13, The Reach (...</td>\n",
       "      <td>22.437429</td>\n",
       "      <td>114.027660</td>\n",
       "      <td>NewTerritories</td>\n",
       "      <td>YuenLong</td>\n",
       "      <td>2076.00</td>\n",
       "      <td>1270.00</td>\n",
       "      <td>1721.00</td>\n",
       "      <td>355.00</td>\n",
       "      <td>...</td>\n",
       "      <td>2.820513</td>\n",
       "      <td>5.255678</td>\n",
       "      <td>1.234985</td>\n",
       "      <td>0.0</td>\n",
       "      <td>0.899728</td>\n",
       "      <td>0.0</td>\n",
       "      <td>3.41</td>\n",
       "      <td>0.899728</td>\n",
       "      <td>0.899728</td>\n",
       "      <td>42.617953</td>\n",
       "    </tr>\n",
       "    <tr>\n",
       "      <th>4</th>\n",
       "      <td>(Yuen Long Southeast) Gra...(Yuen Long Southea...</td>\n",
       "      <td>(Yuen Long Southeast) Grand Del Sol (Fung Cheu...</td>\n",
       "      <td>22.440560</td>\n",
       "      <td>114.032987</td>\n",
       "      <td>NewTerritories</td>\n",
       "      <td>YuenLong</td>\n",
       "      <td>3696.00</td>\n",
       "      <td>2030.00</td>\n",
       "      <td>3012.24</td>\n",
       "      <td>683.76</td>\n",
       "      <td>...</td>\n",
       "      <td>1.982906</td>\n",
       "      <td>5.565686</td>\n",
       "      <td>0.518018</td>\n",
       "      <td>0.0</td>\n",
       "      <td>1.637958</td>\n",
       "      <td>0.0</td>\n",
       "      <td>3.41</td>\n",
       "      <td>1.637958</td>\n",
       "      <td>1.637958</td>\n",
       "      <td>46.384768</td>\n",
       "    </tr>\n",
       "  </tbody>\n",
       "</table>\n",
       "<p>5 rows × 29 columns</p>\n",
       "</div>"
      ],
      "text/plain": [
       "                        District/Area/Building Group  \\\n",
       "0  (Tai Po Mid-levels) Provi...(Tai Po Mid-levels...   \n",
       "1  (Sha Tau Kok) residential...(Sha Tau Kok) resi...   \n",
       "2  (Yuen Long Southeast) Tow...(Yuen Long Southea...   \n",
       "3  (Yuen Long Southeast) Tow...(Yuen Long Southea...   \n",
       "4  (Yuen Long Southeast) Gra...(Yuen Long Southea...   \n",
       "\n",
       "                                            Building        lat         lon  \\\n",
       "0                                    Providence Peak  22.432130  114.202489   \n",
       "1                (Sha Tau Kok) residential buildings  22.531577  114.203240   \n",
       "2  (Yuen Long Southeast) Tower 1-5, The Reach (Sh...  22.437429  114.027660   \n",
       "3  (Yuen Long Southeast) Tower 10-13, The Reach (...  22.437429  114.027660   \n",
       "4  (Yuen Long Southeast) Grand Del Sol (Fung Cheu...  22.440560  114.032987   \n",
       "\n",
       "           Region  District  TotalPopulation  Working population     Male  \\\n",
       "0  NewTerritories     TaiPo          2115.33             1064.33  1607.65   \n",
       "1  NewTerritories     North          1523.50              582.00  1435.14   \n",
       "2  NewTerritories  YuenLong          1841.00             1219.00  1285.02   \n",
       "3  NewTerritories  YuenLong          2076.00             1270.00  1721.00   \n",
       "4  NewTerritories  YuenLong          3696.00             2030.00  3012.24   \n",
       "\n",
       "   Female  ...      SDG9     SDG10     SDG11  SDG12     SDG13  SDG14  SDG15  \\\n",
       "0  507.68  ...  1.675214  5.474510  0.705706    0.0  0.917651    0.0   3.41   \n",
       "1   88.36  ...  4.358974  5.322125  2.072072    0.0  0.647956    0.0   3.41   \n",
       "2  555.98  ...  2.034188  5.278841  0.949700    0.0  0.792640    0.0   3.41   \n",
       "3  355.00  ...  2.820513  5.255678  1.234985    0.0  0.899728    0.0   3.41   \n",
       "4  683.76  ...  1.982906  5.565686  0.518018    0.0  1.637958    0.0   3.41   \n",
       "\n",
       "      SDG16     SDG17  Overall SDG Score  \n",
       "0  0.917651  0.917651          42.393384  \n",
       "1  0.647956  0.647956          41.591698  \n",
       "2  0.792640  0.792640          41.597221  \n",
       "3  0.899728  0.899728          42.617953  \n",
       "4  1.637958  1.637958          46.384768  \n",
       "\n",
       "[5 rows x 29 columns]"
      ]
     },
     "execution_count": 94,
     "metadata": {},
     "output_type": "execute_result"
    }
   ],
   "source": [
    "df_final.head(5)"
   ]
  },
  {
   "cell_type": "code",
   "execution_count": 95,
   "id": "a7a34907",
   "metadata": {},
   "outputs": [],
   "source": [
    "col = 'Overall SDG Score'\n",
    "mx = (df_final[col]).max()\n",
    "mn = (df_final[col]).min()\n",
    "for j in df_final.index:\n",
    "    try:\n",
    "        data = df_final[col].iloc[j]\n",
    "        scaled = (data - mn)/(mx-mn)\n",
    "        df_final[col].iloc[j] = scaled*10\n",
    "    except:\n",
    "        pass"
   ]
  },
  {
   "cell_type": "code",
   "execution_count": 96,
   "id": "2ec329d4",
   "metadata": {},
   "outputs": [
    {
     "data": {
      "text/plain": [
       "1.051161    12\n",
       "0.846807    12\n",
       "1.151015    12\n",
       "0.848828    12\n",
       "1.867633    12\n",
       "            ..\n",
       "1.603797     1\n",
       "1.351425     1\n",
       "1.736018     1\n",
       "3.655293     1\n",
       "1.032124     1\n",
       "Name: Overall SDG Score, Length: 4635, dtype: int64"
      ]
     },
     "execution_count": 96,
     "metadata": {},
     "output_type": "execute_result"
    }
   ],
   "source": [
    "df_final['Overall SDG Score'].value_counts()"
   ]
  },
  {
   "cell_type": "code",
   "execution_count": 97,
   "id": "a431ed9a",
   "metadata": {},
   "outputs": [
    {
     "name": "stdout",
     "output_type": "stream",
     "text": [
      "Error\n",
      "Error\n",
      "Error\n",
      "Error\n"
     ]
    }
   ],
   "source": [
    "for i in df_final.columns:\n",
    "    try:\n",
    "        df_final[i] = df_final[i].astype(float)\n",
    "    except:\n",
    "        print('Error')"
   ]
  },
  {
   "cell_type": "code",
   "execution_count": 98,
   "id": "abdae147",
   "metadata": {
    "scrolled": true
   },
   "outputs": [
    {
     "data": {
      "text/plain": [
       "0.0"
      ]
     },
     "execution_count": 98,
     "metadata": {},
     "output_type": "execute_result"
    }
   ],
   "source": [
    "df_final['SDG12'].min()"
   ]
  },
  {
   "cell_type": "code",
   "execution_count": 99,
   "id": "dbdc8fc5",
   "metadata": {},
   "outputs": [],
   "source": [
    "#df_final.to_csv('SDG_Score.csv', index = False)"
   ]
  },
  {
   "cell_type": "code",
   "execution_count": 100,
   "id": "983329b3",
   "metadata": {},
   "outputs": [],
   "source": [
    "#df_final.to_csv('SDG_Score_ISIE.csv', index = False)"
   ]
  },
  {
   "cell_type": "code",
   "execution_count": null,
   "id": "c916d7b0",
   "metadata": {},
   "outputs": [],
   "source": [
    "#df_final.to_excel('SDG_Score_ISIE.xls', index = False)"
   ]
  },
  {
   "cell_type": "code",
   "execution_count": null,
   "id": "16db3f0c",
   "metadata": {},
   "outputs": [],
   "source": [
    "df_mean = df_final.groupby(by = 'District').mean()"
   ]
  },
  {
   "cell_type": "code",
   "execution_count": null,
   "id": "2db016a0",
   "metadata": {},
   "outputs": [],
   "source": [
    "#df_mean.to_excel('MeanSDG.xls')"
   ]
  },
  {
   "cell_type": "code",
   "execution_count": null,
   "id": "2738fe11",
   "metadata": {},
   "outputs": [],
   "source": [
    "df_mean"
   ]
  },
  {
   "cell_type": "code",
   "execution_count": 101,
   "id": "2eb634d6",
   "metadata": {},
   "outputs": [],
   "source": [
    "df_final.to_csv('SDGforRobustness.csv', index = False)"
   ]
  },
  {
   "cell_type": "markdown",
   "id": "49d2aef2",
   "metadata": {},
   "source": [
    "# Classification"
   ]
  },
  {
   "cell_type": "code",
   "execution_count": null,
   "id": "211507d9",
   "metadata": {},
   "outputs": [],
   "source": [
    "from pycaret.classificati import *"
   ]
  },
  {
   "cell_type": "code",
   "execution_count": null,
   "id": "18ceae4b",
   "metadata": {},
   "outputs": [],
   "source": [
    "from pycaret.classification import ClassificationExperiment\n",
    "s = ClassificationExperiment()"
   ]
  },
  {
   "cell_type": "code",
   "execution_count": null,
   "id": "4986b561",
   "metadata": {},
   "outputs": [],
   "source": [
    "exp_name = setup(data = df_final,  target = 'Overall SDG Score')"
   ]
  },
  {
   "cell_type": "code",
   "execution_count": null,
   "id": "dbd7a0b1",
   "metadata": {},
   "outputs": [],
   "source": [
    "compare_models()"
   ]
  }
 ],
 "metadata": {
  "kernelspec": {
   "display_name": "Python 3 (ipykernel)",
   "language": "python",
   "name": "python3"
  },
  "language_info": {
   "codemirror_mode": {
    "name": "ipython",
    "version": 3
   },
   "file_extension": ".py",
   "mimetype": "text/x-python",
   "name": "python",
   "nbconvert_exporter": "python",
   "pygments_lexer": "ipython3",
   "version": "3.11.5"
  }
 },
 "nbformat": 4,
 "nbformat_minor": 5
}
