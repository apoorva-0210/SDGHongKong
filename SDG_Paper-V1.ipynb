{
 "cells": [
  {
   "cell_type": "markdown",
   "id": "eca90e0b",
   "metadata": {},
   "source": [
    "NOTE: Scale all individual scores before adding to final SDG because of scale change, there is very high or low impact. so relative scoring is very important here."
   ]
  },
  {
   "cell_type": "code",
   "execution_count": 1,
   "id": "7da8e678",
   "metadata": {},
   "outputs": [],
   "source": [
    "import numpy as np\n",
    "import pandas as pd\n",
    "import warnings\n",
    "warnings.filterwarnings(\"ignore\")"
   ]
  },
  {
   "cell_type": "code",
   "execution_count": 2,
   "id": "07497ed7",
   "metadata": {},
   "outputs": [],
   "source": [
    "df = pd.read_csv('CensusBase_SDGV7.csv')"
   ]
  },
  {
   "cell_type": "code",
   "execution_count": 3,
   "id": "c2ec8fee",
   "metadata": {},
   "outputs": [],
   "source": [
    "for i in df.index:\n",
    "    df['Building'][i] = df['Building'].iloc[i].strip()"
   ]
  },
  {
   "cell_type": "code",
   "execution_count": 4,
   "id": "428d0e62",
   "metadata": {},
   "outputs": [],
   "source": [
    "#df.columns"
   ]
  },
  {
   "cell_type": "code",
   "execution_count": 5,
   "id": "ab6f2f92",
   "metadata": {},
   "outputs": [],
   "source": [
    "df['1.1.1'] = None\n",
    "df['1.2.1'] = None\n",
    "df['1.4.1'] = None\n",
    "df['1.a.2'] = None"
   ]
  },
  {
   "cell_type": "code",
   "execution_count": 6,
   "id": "c60dcb60",
   "metadata": {},
   "outputs": [],
   "source": [
    "#df['Sex ratio'].replace({',':''}, inplace = True)"
   ]
  },
  {
   "cell_type": "code",
   "execution_count": 7,
   "id": "a70cd417",
   "metadata": {},
   "outputs": [],
   "source": [
    "for i in df.index:\n",
    "    inc = df['Income'].iloc[i]\n",
    "    pop = df['TotalPopulation'].sum()\n",
    "    if inc<=500:\n",
    "        a = (df['TotalPopulation'].iloc[i]/pop)*100\n",
    "        df['1.1.1'].iloc[i] = 0 - a\n",
    "    else:\n",
    "        df['1.1.1'].iloc[i] = 0"
   ]
  },
  {
   "cell_type": "code",
   "execution_count": 8,
   "id": "79c25639",
   "metadata": {},
   "outputs": [],
   "source": [
    "col = '1.1.1'\n",
    "mx = (df[col]).max()\n",
    "mn = (df[col]).min()\n",
    "for j in df.index:\n",
    "    try:\n",
    "        data = df[col].iloc[j]\n",
    "        scaled = (data - mn)/(mx-mn)\n",
    "        df[col].iloc[j] = scaled*10\n",
    "    except:\n",
    "        pass"
   ]
  },
  {
   "cell_type": "code",
   "execution_count": 9,
   "id": "3b151df0",
   "metadata": {},
   "outputs": [],
   "source": [
    "for i in df.index:\n",
    "    df['1-3'].iloc[i] = df['1-3'].iloc[i][: -1]\n",
    "    df['4'].iloc[i] = df['4'].iloc[i][: -1]\n",
    "    df['5+'].iloc[i] = df['5+'].iloc[i][: -1]"
   ]
  },
  {
   "cell_type": "code",
   "execution_count": 10,
   "id": "ff4af882",
   "metadata": {},
   "outputs": [],
   "source": [
    "df['Sex ratio']=df['Sex ratio'].str.replace(',','')"
   ]
  },
  {
   "cell_type": "code",
   "execution_count": 11,
   "id": "e3c27597",
   "metadata": {},
   "outputs": [
    {
     "name": "stdout",
     "output_type": "stream",
     "text": [
      "Error\n",
      "Error\n",
      "Error\n",
      "Error\n",
      "Error\n",
      "Error\n",
      "Error\n",
      "Error\n",
      "Error\n",
      "Error\n",
      "Error\n",
      "Error\n",
      "Error\n",
      "Error\n",
      "Error\n",
      "Error\n",
      "Error\n",
      "Error\n"
     ]
    }
   ],
   "source": [
    "for i in df.columns:\n",
    "    try:\n",
    "        df[i] = df[i].astype(float)\n",
    "    except:\n",
    "        print('Error')"
   ]
  },
  {
   "cell_type": "code",
   "execution_count": 12,
   "id": "ad3d2299",
   "metadata": {},
   "outputs": [],
   "source": [
    "for i in df.index:\n",
    "    inc = df['Income'].iloc[i]\n",
    "    val = 0\n",
    "    if inc <= 10000:\n",
    "        a = df['TotalPopulation'].iloc[i] * df['1-3'].iloc[i]\n",
    "        a = a/df['TotalPopulation'].sum()\n",
    "        val = val+a\n",
    "        if inc <= 20800:\n",
    "            a = df['TotalPopulation'].iloc[i] * df['4'].iloc[i]\n",
    "            a = a/df['TotalPopulation'].sum()\n",
    "            val = val+a\n",
    "            if inc <= 21000:\n",
    "                a = df['TotalPopulation'].iloc[i] * df['5+'].iloc[i]\n",
    "                a = a/df['TotalPopulation'].sum()\n",
    "                val = val+a\n",
    "    df['1.2.1'].iloc[i] = 0-val"
   ]
  },
  {
   "cell_type": "code",
   "execution_count": 13,
   "id": "05de1bd4",
   "metadata": {},
   "outputs": [],
   "source": [
    "col = '1.2.1'\n",
    "mx = (df[col]).max()\n",
    "mn = (df[col]).min()\n",
    "for j in df.index:\n",
    "    try:\n",
    "        data = df[col].iloc[j]\n",
    "        scaled = (data - mn)/(mx-mn)\n",
    "        df[col].iloc[j] = scaled*10\n",
    "    except:\n",
    "        pass"
   ]
  },
  {
   "cell_type": "code",
   "execution_count": 14,
   "id": "e42942ee",
   "metadata": {},
   "outputs": [],
   "source": [
    "df['Male'] = None\n",
    "df['Female'] = None"
   ]
  },
  {
   "cell_type": "code",
   "execution_count": 15,
   "id": "62e0435e",
   "metadata": {},
   "outputs": [],
   "source": [
    "for i in df.index:\n",
    "    ratio = df['Sex ratio'].iloc[i]\n",
    "    pop = df['TotalPopulation'].iloc[i]\n",
    "    male = (ratio*pop)/(1000+ratio)\n",
    "    male = male.round(2)\n",
    "    female = pop-male\n",
    "    female = female.round(2)\n",
    "    df['Male'].iloc[i] = male\n",
    "    df['Female'].iloc[i] = female"
   ]
  },
  {
   "cell_type": "code",
   "execution_count": 16,
   "id": "79e3c63e",
   "metadata": {},
   "outputs": [],
   "source": [
    "df.drop(columns= ['Sex ratio'], inplace = True)"
   ]
  },
  {
   "cell_type": "code",
   "execution_count": 17,
   "id": "3c367240",
   "metadata": {},
   "outputs": [],
   "source": [
    "df['1.a.2'] = df['SchoolScore'] + df['HospitalScore']"
   ]
  },
  {
   "cell_type": "code",
   "execution_count": 18,
   "id": "a71d5e38",
   "metadata": {},
   "outputs": [],
   "source": [
    "col = '1.a.2'\n",
    "mx = (df[col]).max()\n",
    "mn = (df[col]).min()\n",
    "for j in df.index:\n",
    "    try:\n",
    "        data = df[col].iloc[j]\n",
    "        scaled = (data - mn)/(mx-mn)\n",
    "        df[col].iloc[j] = scaled*10\n",
    "    except:\n",
    "        pass"
   ]
  },
  {
   "cell_type": "code",
   "execution_count": 19,
   "id": "3bebb371",
   "metadata": {},
   "outputs": [],
   "source": [
    "df['1.4.1'] = df['TotalScore'] * 0.186"
   ]
  },
  {
   "cell_type": "code",
   "execution_count": 20,
   "id": "5aec0add",
   "metadata": {},
   "outputs": [],
   "source": [
    "col = '1.4.1'\n",
    "mx = (df[col]).max()\n",
    "mn = (df[col]).min()\n",
    "for j in df.index:\n",
    "    try:\n",
    "        data = df[col].iloc[j]\n",
    "        scaled = (data - mn)/(mx-mn)\n",
    "        df[col].iloc[j] = scaled*10\n",
    "    except:\n",
    "        pass"
   ]
  },
  {
   "cell_type": "code",
   "execution_count": 21,
   "id": "54666acd",
   "metadata": {},
   "outputs": [
    {
     "data": {
      "text/plain": [
       "Index(['Building', 'lat', 'lon', 'SchoolScore', 'HospitalScore', 'PoliceScore',\n",
       "       'WasteManagementScore', 'ElderlyCareScore', 'ChildCareScore',\n",
       "       'OpenAreaScore', 'FisheriesScore', 'TotalScore',\n",
       "       'District/Area/Building Group', 'Region', 'District', 'TotalPopulation',\n",
       "       'Working population', 'length', 'Income', '1-3', '4', '5+',\n",
       "       'Managers and administrators', 'Born in Hong Kong',\n",
       "       'Import/export, wholesale and retail trades, accommodation and food services',\n",
       "       'NonWorkingPopulation',\n",
       "       'Public administration, education, human health and social work activities, miscellaneous social and personal services',\n",
       "       'Studying and living  in the same District Council district', '15 - 39',\n",
       "       'Manufacturing, construction, and other industries',\n",
       "       'Elementary occupations , skilled agricultural and fishery workers and occupations not classifiable',\n",
       "       'WorkingHours', 'Bus', 'LightBus', 'geocode', 'Address', '1.1.1',\n",
       "       '1.2.1', '1.4.1', '1.a.2', 'Male', 'Female'],\n",
       "      dtype='object')"
      ]
     },
     "execution_count": 21,
     "metadata": {},
     "output_type": "execute_result"
    }
   ],
   "source": [
    "df.columns"
   ]
  },
  {
   "cell_type": "code",
   "execution_count": 22,
   "id": "ef55909c",
   "metadata": {},
   "outputs": [],
   "source": [
    "df = df[['District/Area/Building Group', 'Building', 'lat', 'lon', 'Region', 'NonWorkingPopulation', 'Born in Hong Kong', \n",
    "       'District', 'TotalPopulation', 'Working population', 'Male', 'Female', 'Income','OpenAreaScore', 'WasteManagementScore', 'HospitalScore', 'SchoolScore', 'Managers and administrators',\n",
    "        'FisheriesScore', 'PoliceScore','ElderlyCareScore', 'ChildCareScore', \n",
    "         'Elementary occupations , skilled agricultural and fishery workers and occupations not classifiable',\n",
    "         'Manufacturing, construction, and other industries', 'Bus', 'LightBus', \n",
    "         'Public administration, education, human health and social work activities, miscellaneous social and personal services',\n",
    "        '1-3', '4', '5+', 'Studying and living  in the same District Council district', 'WorkingHours', '15 - 39', '1.1.1',\n",
    "       '1.2.1', '1.4.1', '1.a.2']]"
   ]
  },
  {
   "cell_type": "code",
   "execution_count": 23,
   "id": "734e1046",
   "metadata": {},
   "outputs": [],
   "source": [
    "df['2.3.2'] = None\n",
    "df['SDG2'] = None"
   ]
  },
  {
   "cell_type": "code",
   "execution_count": 24,
   "id": "9ddc460d",
   "metadata": {},
   "outputs": [],
   "source": [
    "for i in df.index:\n",
    "    df['Elementary occupations , skilled agricultural and fishery workers and occupations not classifiable'].iloc[i] = df['Elementary occupations , skilled agricultural and fishery workers and occupations not classifiable'].iloc[i][: -1]\n",
    "    df['Public administration, education, human health and social work activities, miscellaneous social and personal services'].iloc[i] = df['Public administration, education, human health and social work activities, miscellaneous social and personal services'].iloc[i][: -1]\n",
    "    df['Studying and living  in the same District Council district'].iloc[i] = df['Studying and living  in the same District Council district'].iloc[i][:-1]\n",
    "    df['Managers and administrators'].iloc[i] = df['Managers and administrators'].iloc[i][:-1]\n",
    "    df['WorkingHours'].iloc[i] = df['WorkingHours'].iloc[i][:-5]\n",
    "    df['NonWorkingPopulation'].iloc[i] = df['NonWorkingPopulation'].iloc[i][:-1]\n",
    "    df['15 - 39'].iloc[i] = df['15 - 39'].iloc[i][:-1]\n",
    "    df['Manufacturing, construction, and other industries'].iloc[i] = df['Manufacturing, construction, and other industries'].iloc[i][:-1]\n",
    "    df['Born in Hong Kong'].iloc[i] = df['Born in Hong Kong'].iloc[i][:-1]\n",
    "    df['Bus'].iloc[i] = df['Bus'].iloc[i][:-1]\n",
    "    df['LightBus'].iloc[i] = df['LightBus'].iloc[i][:-1]"
   ]
  },
  {
   "cell_type": "code",
   "execution_count": 25,
   "id": "6b377d34",
   "metadata": {},
   "outputs": [
    {
     "name": "stdout",
     "output_type": "stream",
     "text": [
      "Error\n",
      "Error\n",
      "Error\n",
      "Error\n"
     ]
    }
   ],
   "source": [
    "for i in df.columns:\n",
    "    try:\n",
    "        df[i] = df[i].astype(float)\n",
    "    except:\n",
    "        print('Error')"
   ]
  },
  {
   "cell_type": "code",
   "execution_count": 26,
   "id": "ec42bcfd",
   "metadata": {},
   "outputs": [],
   "source": [
    "for i in df.index:\n",
    "    inc = df['Income'].iloc[i]\n",
    "    food = df['Elementary occupations , skilled agricultural and fishery workers and occupations not classifiable'].iloc[i]\n",
    "    food = food/100\n",
    "    pop = df['Working population'].iloc[i]\n",
    "    foodpop = food*pop\n",
    "    a = (inc * foodpop)/pop\n",
    "    df['2.3.2'].iloc[i] = a"
   ]
  },
  {
   "cell_type": "code",
   "execution_count": 27,
   "id": "a5eae4a6",
   "metadata": {},
   "outputs": [],
   "source": [
    "col = '2.3.2'\n",
    "mx = (df[col]).max()\n",
    "mn = (df[col]).min()\n",
    "for j in df.index:\n",
    "    try:\n",
    "        data = df[col].iloc[j]\n",
    "        scaled = (data - mn)/(mx-mn)\n",
    "        df[col].iloc[j] = scaled*10\n",
    "    except:\n",
    "        pass"
   ]
  },
  {
   "cell_type": "code",
   "execution_count": 28,
   "id": "8ca86317",
   "metadata": {},
   "outputs": [],
   "source": [
    "df['3.b.3'] = df['HospitalScore']"
   ]
  },
  {
   "cell_type": "code",
   "execution_count": 29,
   "id": "a1564a3a",
   "metadata": {},
   "outputs": [],
   "source": [
    "col = '3.b.3'\n",
    "mx = (df[col]).max()\n",
    "mn = (df[col]).min()\n",
    "for j in df.index:\n",
    "    try:\n",
    "        data = df[col].iloc[j]\n",
    "        scaled = (data - mn)/(mx-mn)\n",
    "        df[col].iloc[j] = scaled*10\n",
    "    except:\n",
    "        pass"
   ]
  },
  {
   "cell_type": "code",
   "execution_count": 30,
   "id": "00441e88",
   "metadata": {},
   "outputs": [],
   "source": [
    "df['3.c.1'] = None"
   ]
  },
  {
   "cell_type": "code",
   "execution_count": 31,
   "id": "e9fdc715",
   "metadata": {},
   "outputs": [],
   "source": [
    "for i in df.index:\n",
    "    pop = df['Working population'].iloc[i]\n",
    "    health = df['Public administration, education, human health and social work activities, miscellaneous social and personal services'].iloc[i]\n",
    "    a = (pop * health)/100\n",
    "    df['3.c.1'].iloc[i] = a\n",
    "    #df['3.c.1'].iloc[i] = df['3.c.1'].iloc[i].round(2)"
   ]
  },
  {
   "cell_type": "code",
   "execution_count": 32,
   "id": "f4d31188",
   "metadata": {},
   "outputs": [],
   "source": [
    "col = '3.c.1'\n",
    "mx = (df[col]).max()\n",
    "mn = (df[col]).min()\n",
    "for j in df.index:\n",
    "    try:\n",
    "        data = df[col].iloc[j]\n",
    "        scaled = (data - mn)/(mx-mn)\n",
    "        df[col].iloc[j] = scaled*10\n",
    "    except:\n",
    "        pass"
   ]
  },
  {
   "cell_type": "code",
   "execution_count": 33,
   "id": "13cd817b",
   "metadata": {},
   "outputs": [],
   "source": [
    "df['4.1.1'] = None\n",
    "df['4.a.1'] = None\n",
    "df['4.c.1'] = None"
   ]
  },
  {
   "cell_type": "code",
   "execution_count": 34,
   "id": "4acb7124",
   "metadata": {},
   "outputs": [],
   "source": [
    "for i in df.index:\n",
    "    study = df['Studying and living  in the same District Council district'].iloc[i]\n",
    "    pop = df['TotalPopulation'].iloc[i]\n",
    "    a = (study * pop)/100\n",
    "    df['4.1.1'].iloc[i] = a"
   ]
  },
  {
   "cell_type": "code",
   "execution_count": 35,
   "id": "57ce2d10",
   "metadata": {},
   "outputs": [],
   "source": [
    "col = '4.1.1'\n",
    "mx = (df[col]).max()\n",
    "mn = (df[col]).min()\n",
    "for j in df.index:\n",
    "    try:\n",
    "        data = df[col].iloc[j]\n",
    "        scaled = (data - mn)/(mx-mn)\n",
    "        df[col].iloc[j] = scaled*10\n",
    "    except:\n",
    "        pass"
   ]
  },
  {
   "cell_type": "code",
   "execution_count": 36,
   "id": "501c93ac",
   "metadata": {},
   "outputs": [],
   "source": [
    "df['4.a.1'] = df['SchoolScore']"
   ]
  },
  {
   "cell_type": "code",
   "execution_count": 37,
   "id": "45d4a561",
   "metadata": {},
   "outputs": [],
   "source": [
    "col = '4.a.1'\n",
    "mx = (df[col]).max()\n",
    "mn = (df[col]).min()\n",
    "for j in df.index:\n",
    "    try:\n",
    "        data = df[col].iloc[j]\n",
    "        scaled = (data - mn)/(mx-mn)\n",
    "        df[col].iloc[j] = scaled*10\n",
    "    except:\n",
    "        pass"
   ]
  },
  {
   "cell_type": "code",
   "execution_count": 38,
   "id": "7118dce8",
   "metadata": {},
   "outputs": [],
   "source": [
    "for i in df.index:\n",
    "    pop = df['Working population'].iloc[i]\n",
    "    education = df['Public administration, education, human health and social work activities, miscellaneous social and personal services'].iloc[i]\n",
    "    a = (pop * education)/100\n",
    "    df['4.c.1'].iloc[i] = a\n",
    "    #df['4.c.1'].iloc[i] = df['4.c.1'].iloc[i].round(2)"
   ]
  },
  {
   "cell_type": "code",
   "execution_count": 39,
   "id": "c171c19b",
   "metadata": {},
   "outputs": [],
   "source": [
    "col = '4.c.1'\n",
    "mx = (df[col]).max()\n",
    "mn = (df[col]).min()\n",
    "for j in df.index:\n",
    "    try:\n",
    "        data = df[col].iloc[j]\n",
    "        scaled = (data - mn)/(mx-mn)\n",
    "        df[col].iloc[j] = scaled*10\n",
    "    except:\n",
    "        pass"
   ]
  },
  {
   "cell_type": "code",
   "execution_count": 40,
   "id": "b69b3f08",
   "metadata": {},
   "outputs": [],
   "source": [
    "#df['IncomeQuartile'] = pd.qcut(df.Income, np.linspace(0,1,11), labels=np.linspace(0.1,1,10))"
   ]
  },
  {
   "cell_type": "code",
   "execution_count": 41,
   "id": "7d5d26a8",
   "metadata": {},
   "outputs": [],
   "source": [
    "#df['IncomeQuartile'] = df['IncomeQuartile'].astype(float)"
   ]
  },
  {
   "cell_type": "code",
   "execution_count": 42,
   "id": "93552e5d",
   "metadata": {},
   "outputs": [],
   "source": [
    "#df['IncomeQuartile'] = np.round(df['IncomeQuartile'],1)"
   ]
  },
  {
   "cell_type": "code",
   "execution_count": 43,
   "id": "bca6e587",
   "metadata": {},
   "outputs": [],
   "source": [
    "df['5.2.1'] = None\n",
    "df['5.2.2'] = None\n",
    "df['5.4.1'] = None\n",
    "df['5.5.1'] = None\n",
    "df['5.5.2'] = None"
   ]
  },
  {
   "cell_type": "code",
   "execution_count": 44,
   "id": "cf16e285",
   "metadata": {},
   "outputs": [],
   "source": [
    "for i in df.index:\n",
    "    female = df['Female'].iloc[i]\n",
    "    a = ((female * 13.4)/100) + ((female * 11.7)/100)\n",
    "    df['5.2.1'].iloc[i] = a"
   ]
  },
  {
   "cell_type": "code",
   "execution_count": 45,
   "id": "0caf206f",
   "metadata": {},
   "outputs": [],
   "source": [
    "col = '5.2.1'\n",
    "mx = (df[col]).max()\n",
    "mn = (df[col]).min()\n",
    "for j in df.index:\n",
    "    try:\n",
    "        data = df[col].iloc[j]\n",
    "        scaled = (data - mn)/(mx-mn)\n",
    "        df[col].iloc[j] = scaled*10\n",
    "    except:\n",
    "        pass"
   ]
  },
  {
   "cell_type": "code",
   "execution_count": 46,
   "id": "a3cf958b",
   "metadata": {},
   "outputs": [],
   "source": [
    "for i in df.index:\n",
    "    female = df['Female'].iloc[i]\n",
    "    a = (female * 11.7)/100\n",
    "    df['5.2.2'].iloc[i] = a\n",
    "    #df['5.2.2'].iloc[i] = df['5.2.2'].iloc[i].round(2)"
   ]
  },
  {
   "cell_type": "code",
   "execution_count": 47,
   "id": "a889a3f2",
   "metadata": {},
   "outputs": [],
   "source": [
    "col = '5.2.2'\n",
    "mx = (df[col]).max()\n",
    "mn = (df[col]).min()\n",
    "for j in df.index:\n",
    "    try:\n",
    "        data = df[col].iloc[j]\n",
    "        scaled = (data - mn)/(mx-mn)\n",
    "        df[col].iloc[j] = scaled*10\n",
    "    except:\n",
    "        pass"
   ]
  },
  {
   "cell_type": "code",
   "execution_count": 48,
   "id": "8c071725",
   "metadata": {},
   "outputs": [],
   "source": [
    "for i in df.index:\n",
    "    f = 0.108 * 24\n",
    "    m = 0.033 * 24\n",
    "    female = df['Female'].iloc[i] * f\n",
    "    male = df['Male'].iloc[i] * m\n",
    "    a = female + male\n",
    "    df['5.4.1'].iloc[i] = a"
   ]
  },
  {
   "cell_type": "code",
   "execution_count": 49,
   "id": "a908bf6b",
   "metadata": {},
   "outputs": [],
   "source": [
    "col = '5.4.1'\n",
    "mx = (df[col]).max()\n",
    "mn = (df[col]).min()\n",
    "for j in df.index:\n",
    "    try:\n",
    "        data = df[col].iloc[j]\n",
    "        scaled = (data - mn)/(mx-mn)\n",
    "        df[col].iloc[j] = scaled*10\n",
    "    except:\n",
    "        pass"
   ]
  },
  {
   "cell_type": "code",
   "execution_count": 50,
   "id": "23da452f",
   "metadata": {},
   "outputs": [],
   "source": [
    "for i in df.index:\n",
    "    f = df['Female'].iloc[i]\n",
    "    gov = 0.352\n",
    "    a = f * gov\n",
    "    df['5.5.1'].iloc[i] = a"
   ]
  },
  {
   "cell_type": "code",
   "execution_count": 51,
   "id": "3c003e74",
   "metadata": {},
   "outputs": [],
   "source": [
    "col = '5.5.1'\n",
    "mx = (df[col]).max()\n",
    "mn = (df[col]).min()\n",
    "for j in df.index:\n",
    "    try:\n",
    "        data = df[col].iloc[j]\n",
    "        scaled = (data - mn)/(mx-mn)\n",
    "        df[col].iloc[j] = scaled*10\n",
    "    except:\n",
    "        pass"
   ]
  },
  {
   "cell_type": "code",
   "execution_count": 52,
   "id": "87f9be7c",
   "metadata": {},
   "outputs": [],
   "source": [
    "for i in df.index:\n",
    "    manager = df['Managers and administrators'].iloc[i]\n",
    "    female = df['Female'].iloc[i]\n",
    "    working = df['Working population'].iloc[i]\n",
    "    female = (female * working)/100\n",
    "    a = (manager * female)/100\n",
    "    df['5.5.2'].iloc[i] = a\n",
    "    #df['5.5.2'].iloc[i] = df['5.5.2'].iloc[i].round(2)"
   ]
  },
  {
   "cell_type": "code",
   "execution_count": 53,
   "id": "616b94f5",
   "metadata": {},
   "outputs": [],
   "source": [
    "col = '5.5.2'\n",
    "mx = (df[col]).max()\n",
    "mn = (df[col]).min()\n",
    "for j in df.index:\n",
    "    try:\n",
    "        data = df[col].iloc[j]\n",
    "        scaled = (data - mn)/(mx-mn)\n",
    "        df[col].iloc[j] = scaled*10\n",
    "    except:\n",
    "        pass"
   ]
  },
  {
   "cell_type": "code",
   "execution_count": 54,
   "id": "e8df551b",
   "metadata": {},
   "outputs": [],
   "source": [
    "df['6.1.1'] = None\n",
    "df['6.3.1'] = None"
   ]
  },
  {
   "cell_type": "code",
   "execution_count": 55,
   "id": "f90bfcda",
   "metadata": {},
   "outputs": [],
   "source": [
    "for i in df.index:\n",
    "    pop = df['TotalPopulation'].iloc[i]\n",
    "    a = 10\n",
    "    b = 0.91\n",
    "    b = (pop * b)\n",
    "    df['6.1.1'].iloc[i] = a\n",
    "    df['6.3.1'].iloc[i] = b\n",
    "    #df['6.3.1'].iloc[i] = df['6.3.1'].iloc[i].round(2)"
   ]
  },
  {
   "cell_type": "code",
   "execution_count": 56,
   "id": "cf533b42",
   "metadata": {},
   "outputs": [],
   "source": [
    "col = '6.3.1'\n",
    "mx = (df[col]).max()\n",
    "mn = (df[col]).min()\n",
    "for j in df.index:\n",
    "    try:\n",
    "        data = df[col].iloc[j]\n",
    "        scaled = (data - mn)/(mx-mn)\n",
    "        df[col].iloc[j] = scaled*10\n",
    "    except:\n",
    "        pass"
   ]
  },
  {
   "cell_type": "code",
   "execution_count": 57,
   "id": "3144b5e1",
   "metadata": {},
   "outputs": [],
   "source": [
    "df['7.1.1'] = None"
   ]
  },
  {
   "cell_type": "code",
   "execution_count": 58,
   "id": "d2f4c1f0",
   "metadata": {},
   "outputs": [],
   "source": [
    "for i in df.index:\n",
    "    a = 10\n",
    "    df['7.1.1'].iloc[i] = a "
   ]
  },
  {
   "cell_type": "code",
   "execution_count": 59,
   "id": "eed00703",
   "metadata": {},
   "outputs": [],
   "source": [
    "df['8.3.1'] = None\n",
    "df['8.5.1'] = None\n",
    "df['8.5.2'] = None\n",
    "df['8.6.1'] = None"
   ]
  },
  {
   "cell_type": "code",
   "execution_count": 60,
   "id": "b7bcc4ef",
   "metadata": {},
   "outputs": [],
   "source": [
    "for i in df.index:\n",
    "    working = df['Working population'].iloc[i]\n",
    "    informal = df['Elementary occupations , skilled agricultural and fishery workers and occupations not classifiable'].iloc[i]\n",
    "    a = (working * informal)/100\n",
    "    df['8.3.1'].iloc[i] = a\n",
    "    #df['8.3.1'].iloc[i] = df['8.3.1'].iloc[i].round(2)"
   ]
  },
  {
   "cell_type": "code",
   "execution_count": 61,
   "id": "572ec62d",
   "metadata": {},
   "outputs": [],
   "source": [
    "col = '8.3.1'\n",
    "mx = (df[col]).max()\n",
    "mn = (df[col]).min()\n",
    "for j in df.index:\n",
    "    try:\n",
    "        data = df[col].iloc[j]\n",
    "        scaled = (data - mn)/(mx-mn)\n",
    "        df[col].iloc[j] = scaled*10\n",
    "    except:\n",
    "        pass"
   ]
  },
  {
   "cell_type": "code",
   "execution_count": 62,
   "id": "27aba393",
   "metadata": {},
   "outputs": [],
   "source": [
    "for i in df.index:\n",
    "    workinghours = df['WorkingHours'].iloc[i]\n",
    "    #pop = df['Working population'].iloc[i]\n",
    "    income = df['Income'].iloc[i]\n",
    "    a = income/workinghours\n",
    "    df['8.5.1'].iloc[i] = a\n",
    "    #df['8.5.1'].iloc[i] = df['8.5.1'].iloc[i].round(2)"
   ]
  },
  {
   "cell_type": "code",
   "execution_count": 63,
   "id": "954ce6dc",
   "metadata": {},
   "outputs": [],
   "source": [
    "col = '8.5.1'\n",
    "mx = (df[col]).max()\n",
    "mn = (df[col]).min()\n",
    "for j in df.index:\n",
    "    try:\n",
    "        data = df[col].iloc[j]\n",
    "        scaled = (data - mn)/(mx-mn)\n",
    "        df[col].iloc[j] = scaled*10\n",
    "    except:\n",
    "        pass"
   ]
  },
  {
   "cell_type": "code",
   "execution_count": 64,
   "id": "e3564384",
   "metadata": {},
   "outputs": [],
   "source": [
    "for i in df.index:\n",
    "    not_working = df['NonWorkingPopulation'].iloc[i]\n",
    "    pop = df['TotalPopulation'].iloc[i]\n",
    "    a = (not_working * pop)/100\n",
    "    df['8.5.2'].iloc[i] = a\n",
    "    #df['8.5.2'].iloc[i] = df['8.5.2'].iloc[i].round(2)"
   ]
  },
  {
   "cell_type": "code",
   "execution_count": 65,
   "id": "f0ecda96",
   "metadata": {},
   "outputs": [],
   "source": [
    "col = '8.5.2'\n",
    "mx = (df[col]).max()\n",
    "mn = (df[col]).min()\n",
    "for j in df.index:\n",
    "    try:\n",
    "        data = df[col].iloc[j]\n",
    "        scaled = (data - mn)/(mx-mn)\n",
    "        df[col].iloc[j] = scaled*10\n",
    "    except:\n",
    "        pass"
   ]
  },
  {
   "cell_type": "code",
   "execution_count": 66,
   "id": "0bf7d0fc",
   "metadata": {},
   "outputs": [],
   "source": [
    "for i in df.index:\n",
    "    not_working = df['NonWorkingPopulation'].iloc[i]\n",
    "    age_range = df['15 - 39'].iloc[i]\n",
    "    people = (not_working * age_range)/100\n",
    "    people = (people * 10)/25\n",
    "    df['8.6.1'].iloc[i] = people\n",
    "    #df['8.6.1'].iloc[i] = df['8.6.1'].iloc[i].round(2)"
   ]
  },
  {
   "cell_type": "code",
   "execution_count": 67,
   "id": "c68ad53a",
   "metadata": {},
   "outputs": [],
   "source": [
    "col = '8.6.1'\n",
    "mx = (df[col]).max()\n",
    "mn = (df[col]).min()\n",
    "for j in df.index:\n",
    "    try:\n",
    "        data = df[col].iloc[j]\n",
    "        scaled = (data - mn)/(mx-mn)\n",
    "        df[col].iloc[j] = scaled*10\n",
    "    except:\n",
    "        pass"
   ]
  },
  {
   "cell_type": "code",
   "execution_count": 68,
   "id": "f967c70c",
   "metadata": {},
   "outputs": [],
   "source": [
    "df['9.2.2'] = None"
   ]
  },
  {
   "cell_type": "code",
   "execution_count": 69,
   "id": "6e1a69fc",
   "metadata": {},
   "outputs": [],
   "source": [
    "for i in df.index:\n",
    "    working = df['Working population'].iloc[i]\n",
    "    manufacturing = df['Manufacturing, construction, and other industries'].iloc[i]\n",
    "    people = (working * manufacturing)/100\n",
    "    a = people/working\n",
    "    df['9.2.2'].iloc[i] = a"
   ]
  },
  {
   "cell_type": "code",
   "execution_count": 70,
   "id": "d0873bac",
   "metadata": {},
   "outputs": [],
   "source": [
    "col = '9.2.2'\n",
    "mx = (df[col]).max()\n",
    "mn = (df[col]).min()\n",
    "for j in df.index:\n",
    "    try:\n",
    "        data = df[col].iloc[j]\n",
    "        scaled = (data - mn)/(mx-mn)\n",
    "        df[col].iloc[j] = scaled*10\n",
    "    except:\n",
    "        pass"
   ]
  },
  {
   "cell_type": "code",
   "execution_count": 71,
   "id": "9609a9c2",
   "metadata": {},
   "outputs": [],
   "source": [
    "df['10.2.1'] = None\n",
    "df['10.7.4'] = None"
   ]
  },
  {
   "cell_type": "code",
   "execution_count": 72,
   "id": "81a4dbde",
   "metadata": {},
   "outputs": [],
   "source": [
    "median = df['Income'].mean()\n",
    "median = median/2\n",
    "median = round(median,2)"
   ]
  },
  {
   "cell_type": "code",
   "execution_count": 73,
   "id": "06c4daf5",
   "metadata": {},
   "outputs": [],
   "source": [
    "for i in df.index:\n",
    "    inc = df['Income'].iloc[i]\n",
    "    if inc<=median:\n",
    "        a = df['TotalPopulation'].iloc[i]\n",
    "    else:\n",
    "        a = 0\n",
    "    a = 0-a\n",
    "    df['10.2.1'].iloc[i] = a"
   ]
  },
  {
   "cell_type": "code",
   "execution_count": 74,
   "id": "e97389b3",
   "metadata": {},
   "outputs": [],
   "source": [
    "col = '10.2.1'\n",
    "mx = (df[col]).max()\n",
    "mn = (df[col]).min()\n",
    "for j in df.index:\n",
    "    try:\n",
    "        data = df[col].iloc[j]\n",
    "        scaled = (data - mn)/(mx-mn)\n",
    "        df[col].iloc[j] = scaled*10\n",
    "    except:\n",
    "        pass"
   ]
  },
  {
   "cell_type": "code",
   "execution_count": 75,
   "id": "3de51b36",
   "metadata": {},
   "outputs": [],
   "source": [
    "for i in df.index:\n",
    "    bornhk = df['Born in Hong Kong'].iloc[i]\n",
    "    nothk = 100 - bornhk\n",
    "    pop = df['TotalPopulation'].iloc[i]\n",
    "    a = (nothk * pop)/100\n",
    "    df['10.7.4'].iloc[i] = a\n",
    "    #df['10.7.4'].iloc[i] = df['10.7.4'].iloc[i].round(2)"
   ]
  },
  {
   "cell_type": "code",
   "execution_count": 76,
   "id": "dbaa259a",
   "metadata": {},
   "outputs": [],
   "source": [
    "col = '10.7.4'\n",
    "mx = (df[col]).max()\n",
    "mn = (df[col]).min()\n",
    "for j in df.index:\n",
    "    try:\n",
    "        data = df[col].iloc[j]\n",
    "        scaled = (data - mn)/(mx-mn)\n",
    "        df[col].iloc[j] = scaled*10\n",
    "    except:\n",
    "        pass"
   ]
  },
  {
   "cell_type": "code",
   "execution_count": 77,
   "id": "ede3cfe6",
   "metadata": {},
   "outputs": [],
   "source": [
    "df['11.2.1'] = None\n",
    "df['11.6.1'] = None\n",
    "df['11.7.1'] = None"
   ]
  },
  {
   "cell_type": "code",
   "execution_count": 78,
   "id": "902f4dcd",
   "metadata": {},
   "outputs": [],
   "source": [
    "for i in df.index:\n",
    "    bus = df['Bus'].iloc[i]\n",
    "    lightbus = df['LightBus'].iloc[i]\n",
    "    public = bus + lightbus\n",
    "    working = df['Working population'].iloc[i]\n",
    "    a = (working * public)/100\n",
    "    a = a/working\n",
    "    df['11.2.1'].iloc[i] = a"
   ]
  },
  {
   "cell_type": "code",
   "execution_count": 79,
   "id": "fd18e706",
   "metadata": {},
   "outputs": [],
   "source": [
    "col = '11.2.1'\n",
    "mx = (df[col]).max()\n",
    "mn = (df[col]).min()\n",
    "for j in df.index:\n",
    "    try:\n",
    "        data = df[col].iloc[j]\n",
    "        scaled = (data - mn)/(mx-mn)\n",
    "        df[col].iloc[j] = scaled*10\n",
    "    except:\n",
    "        pass"
   ]
  },
  {
   "cell_type": "code",
   "execution_count": 80,
   "id": "37b088be",
   "metadata": {},
   "outputs": [],
   "source": [
    "df['11.6.1'] = df['WasteManagementScore']"
   ]
  },
  {
   "cell_type": "code",
   "execution_count": 81,
   "id": "b42cbd53",
   "metadata": {},
   "outputs": [],
   "source": [
    "col = '11.6.1'\n",
    "mx = (df[col]).max()\n",
    "mn = (df[col]).min()\n",
    "for j in df.index:\n",
    "    try:\n",
    "        data = df[col].iloc[j]\n",
    "        scaled = (data - mn)/(mx-mn)\n",
    "        df[col].iloc[j] = scaled*10\n",
    "    except:\n",
    "        pass"
   ]
  },
  {
   "cell_type": "code",
   "execution_count": 82,
   "id": "f43b1843",
   "metadata": {},
   "outputs": [],
   "source": [
    "df['11.7.1'] = df['OpenAreaScore']"
   ]
  },
  {
   "cell_type": "code",
   "execution_count": 83,
   "id": "58fe3164",
   "metadata": {},
   "outputs": [],
   "source": [
    "col = '11.7.1'\n",
    "mx = (df[col]).max()\n",
    "mn = (df[col]).min()\n",
    "for j in df.index:\n",
    "    try:\n",
    "        data = df[col].iloc[j]\n",
    "        scaled = (data - mn)/(mx-mn)\n",
    "        df[col].iloc[j] = scaled*10\n",
    "    except:\n",
    "        pass"
   ]
  },
  {
   "cell_type": "code",
   "execution_count": 84,
   "id": "4c4df5ad",
   "metadata": {},
   "outputs": [],
   "source": [
    "df['12.5.1'] = None"
   ]
  },
  {
   "cell_type": "code",
   "execution_count": 85,
   "id": "fba4e178",
   "metadata": {},
   "outputs": [],
   "source": [
    "for i in df.index:\n",
    "    wastemgmt = df['WasteManagementScore'].iloc[i]\n",
    "    recycled = 0.31\n",
    "    a = wastemgmt * recycled\n",
    "    df['12.5.1'].iloc[i] = a"
   ]
  },
  {
   "cell_type": "code",
   "execution_count": 86,
   "id": "d41aaf1b",
   "metadata": {},
   "outputs": [],
   "source": [
    "col = '12.5.1'\n",
    "mx = (df[col]).max()\n",
    "mn = (df[col]).min()\n",
    "for j in df.index:\n",
    "    try:\n",
    "        data = df[col].iloc[j]\n",
    "        scaled = (data - mn)/(mx-mn)\n",
    "        df[col].iloc[j] = scaled*10\n",
    "    except:\n",
    "        pass"
   ]
  },
  {
   "cell_type": "code",
   "execution_count": 87,
   "id": "65a41c25",
   "metadata": {},
   "outputs": [],
   "source": [
    "df['13.1.1'] = None"
   ]
  },
  {
   "cell_type": "code",
   "execution_count": 88,
   "id": "15b6e052",
   "metadata": {},
   "outputs": [],
   "source": [
    "for i in df.index:\n",
    "    pop = df['TotalPopulation'].iloc[i]\n",
    "    missing = 55/100000\n",
    "    a = pop*missing\n",
    "    df['13.1.1'].iloc[i] = a"
   ]
  },
  {
   "cell_type": "code",
   "execution_count": 89,
   "id": "6dfa6b90",
   "metadata": {},
   "outputs": [],
   "source": [
    "col = '13.1.1'\n",
    "mx = (df[col]).max()\n",
    "mn = (df[col]).min()\n",
    "for j in df.index:\n",
    "    try:\n",
    "        data = df[col].iloc[j]\n",
    "        scaled = (data - mn)/(mx-mn)\n",
    "        df[col].iloc[j] = scaled*10\n",
    "    except:\n",
    "        pass"
   ]
  },
  {
   "cell_type": "code",
   "execution_count": 90,
   "id": "f2dbb7ac",
   "metadata": {},
   "outputs": [],
   "source": [
    "df['14.7.1'] = df['FisheriesScore']"
   ]
  },
  {
   "cell_type": "code",
   "execution_count": 91,
   "id": "cf62f982",
   "metadata": {},
   "outputs": [],
   "source": [
    "col = '14.7.1'\n",
    "mx = (df[col]).max()\n",
    "mn = (df[col]).min()\n",
    "for j in df.index:\n",
    "    try:\n",
    "        data = df[col].iloc[j]\n",
    "        scaled = (data - mn)/(mx-mn)\n",
    "        df[col].iloc[j] = scaled*10\n",
    "    except:\n",
    "        pass"
   ]
  },
  {
   "cell_type": "code",
   "execution_count": 92,
   "id": "c6f469d5",
   "metadata": {},
   "outputs": [],
   "source": [
    "df['15.1.1'] = 0.23\n",
    "df['15.1.2'] = df['FisheriesScore']\n",
    "df['15.4.2'] = 10"
   ]
  },
  {
   "cell_type": "code",
   "execution_count": 93,
   "id": "e52f5570",
   "metadata": {},
   "outputs": [],
   "source": [
    "col = '15.1.2'\n",
    "mx = (df[col]).max()\n",
    "mn = (df[col]).min()\n",
    "for j in df.index:\n",
    "    try:\n",
    "        data = df[col].iloc[j]\n",
    "        scaled = (data - mn)/(mx-mn)\n",
    "        df[col].iloc[j] = scaled*10\n",
    "    except:\n",
    "        pass"
   ]
  },
  {
   "cell_type": "code",
   "execution_count": 94,
   "id": "d43a3cec",
   "metadata": {},
   "outputs": [],
   "source": [
    "df['16.1.1'] = None\n",
    "df['16.1.2'] = None\n",
    "df['16.2.3'] = None"
   ]
  },
  {
   "cell_type": "code",
   "execution_count": 95,
   "id": "b2015093",
   "metadata": {},
   "outputs": [],
   "source": [
    "for i in df.index:\n",
    "    homocide = 0.64/100000\n",
    "    pop = df['TotalPopulation'].iloc[i]\n",
    "    a = homocide*pop\n",
    "    a = 0-a\n",
    "    df['16.1.1'].iloc[i] = a"
   ]
  },
  {
   "cell_type": "code",
   "execution_count": 96,
   "id": "56f4c504",
   "metadata": {},
   "outputs": [],
   "source": [
    "col = '16.1.1'\n",
    "mx = (df[col]).max()\n",
    "mn = (df[col]).min()\n",
    "for j in df.index:\n",
    "    try:\n",
    "        data = df[col].iloc[j]\n",
    "        scaled = (data - mn)/(mx-mn)\n",
    "        df[col].iloc[j] = scaled*10\n",
    "    except:\n",
    "        pass"
   ]
  },
  {
   "cell_type": "code",
   "execution_count": 97,
   "id": "6651f81c",
   "metadata": {},
   "outputs": [],
   "source": [
    "for i in df.index:\n",
    "    conflict = 940/100000\n",
    "    pop = df['TotalPopulation'].iloc[i]\n",
    "    a = conflict*pop\n",
    "    a = 0-a\n",
    "    df['16.1.2'].iloc[i] = a"
   ]
  },
  {
   "cell_type": "code",
   "execution_count": 98,
   "id": "05fab92a",
   "metadata": {},
   "outputs": [],
   "source": [
    "col = '16.1.2'\n",
    "mx = (df[col]).max()\n",
    "mn = (df[col]).min()\n",
    "for j in df.index:\n",
    "    try:\n",
    "        data = df[col].iloc[j]\n",
    "        scaled = (data - mn)/(mx-mn)\n",
    "        df[col].iloc[j] = scaled*10\n",
    "    except:\n",
    "        pass"
   ]
  },
  {
   "cell_type": "code",
   "execution_count": 99,
   "id": "905ee045",
   "metadata": {},
   "outputs": [],
   "source": [
    "for i in df.index:\n",
    "    sexualviolence = 0.01/100000\n",
    "    pop = df['TotalPopulation'].iloc[i]\n",
    "    a = sexualviolence*pop\n",
    "    a = 0-a\n",
    "    df['16.2.3'].iloc[i] = a"
   ]
  },
  {
   "cell_type": "code",
   "execution_count": 100,
   "id": "1926250d",
   "metadata": {},
   "outputs": [],
   "source": [
    "col = '16.2.3'\n",
    "mx = (df[col]).max()\n",
    "mn = (df[col]).min()\n",
    "for j in df.index:\n",
    "    try:\n",
    "        data = df[col].iloc[j]\n",
    "        scaled = (data - mn)/(mx-mn)\n",
    "        df[col].iloc[j] = scaled*10\n",
    "    except:\n",
    "        pass"
   ]
  },
  {
   "cell_type": "code",
   "execution_count": 101,
   "id": "c1bfe5aa",
   "metadata": {},
   "outputs": [],
   "source": [
    "df['17.6.1'] = None\n",
    "df['17.8.1'] = None"
   ]
  },
  {
   "cell_type": "code",
   "execution_count": 102,
   "id": "7cc09d54",
   "metadata": {},
   "outputs": [],
   "source": [
    "for i in df.index:\n",
    "    broadband = 38.94/100\n",
    "    pop = df['TotalPopulation'].iloc[i]\n",
    "    a = broadband * pop\n",
    "    df['17.6.1'].iloc[i] = a"
   ]
  },
  {
   "cell_type": "code",
   "execution_count": 103,
   "id": "d27de9e0",
   "metadata": {},
   "outputs": [],
   "source": [
    "col = '17.6.1'\n",
    "mx = (df[col]).max()\n",
    "mn = (df[col]).min()\n",
    "for j in df.index:\n",
    "    try:\n",
    "        data = df[col].iloc[j]\n",
    "        scaled = (data - mn)/(mx-mn)\n",
    "        df[col].iloc[j] = scaled*10\n",
    "    except:\n",
    "        pass"
   ]
  },
  {
   "cell_type": "code",
   "execution_count": 104,
   "id": "ec2bb4b3",
   "metadata": {},
   "outputs": [],
   "source": [
    "for i in df.index:\n",
    "    internet = 0.93\n",
    "    pop = df['TotalPopulation'].iloc[i]\n",
    "    a = internet * pop\n",
    "    df['17.8.1'].iloc[i] = a"
   ]
  },
  {
   "cell_type": "code",
   "execution_count": 105,
   "id": "28f82364",
   "metadata": {},
   "outputs": [],
   "source": [
    "col = '17.8.1'\n",
    "mx = (df[col]).max()\n",
    "mn = (df[col]).min()\n",
    "for j in df.index:\n",
    "    try:\n",
    "        data = df[col].iloc[j]\n",
    "        scaled = (data - mn)/(mx-mn)\n",
    "        df[col].iloc[j] = scaled*10\n",
    "    except:\n",
    "        pass"
   ]
  },
  {
   "cell_type": "code",
   "execution_count": 106,
   "id": "064b551f",
   "metadata": {},
   "outputs": [],
   "source": [
    "#df.columns[70]"
   ]
  },
  {
   "cell_type": "code",
   "execution_count": 107,
   "id": "83c3d094",
   "metadata": {},
   "outputs": [
    {
     "data": {
      "text/plain": [
       "'for i in range(33, 70):\\n    col = df.columns[i]\\n    mx = (df[col]).max()\\n    mn = (df[col]).min()\\n    for j in df.index:\\n        try:\\n            data = df[col].iloc[j]\\n            scaled = (data - mn)/(mx-mn)\\n            df[col].iloc[j] = scaled*10\\n        except:\\n            pass'"
      ]
     },
     "execution_count": 107,
     "metadata": {},
     "output_type": "execute_result"
    }
   ],
   "source": [
    "'''for i in range(33, 70):\n",
    "    col = df.columns[i]\n",
    "    mx = (df[col]).max()\n",
    "    mn = (df[col]).min()\n",
    "    for j in df.index:\n",
    "        try:\n",
    "            data = df[col].iloc[j]\n",
    "            scaled = (data - mn)/(mx-mn)\n",
    "            df[col].iloc[j] = scaled*10\n",
    "        except:\n",
    "            pass'''"
   ]
  },
  {
   "cell_type": "code",
   "execution_count": 108,
   "id": "f74b8ef6",
   "metadata": {},
   "outputs": [],
   "source": [
    "df['SDG1'] = None\n",
    "df['SDG2'] = None\n",
    "df['SDG3'] = None\n",
    "df['SDG4'] = None\n",
    "df['SDG5'] = None\n",
    "df['SDG6'] = None\n",
    "df['SDG7'] = None\n",
    "df['SDG8'] = None\n",
    "df['SDG9'] = None\n",
    "df['SDG10'] = None\n",
    "df['SDG11'] = None\n",
    "df['SDG12'] = None\n",
    "df['SDG13'] = None\n",
    "df['SDG14'] = None\n",
    "df['SDG15'] = None\n",
    "df['SDG16'] = None\n",
    "df['SDG17'] = None"
   ]
  },
  {
   "cell_type": "code",
   "execution_count": 109,
   "id": "d291bf98",
   "metadata": {},
   "outputs": [
    {
     "data": {
      "text/plain": [
       "\"df['SDG1'] = (df['1.1.1'] + df['1.2.1'] + df['1.4.1'] + df['1.a.2'])/4\\ndf['SDG2'] = df['2.3.2']\\ndf['SDG3'] = (df['3.b.3'] + df['3.c.1'])/2\\ndf['SDG4'] = (df['4.1.1'] + df['4.a.1'] + df['4.c.1'])/3\\ndf['SDG5'] = (df['5.2.1'] + df['5.2.2'] + df['5.4.1'] + df['5.5.1'] + df['5.5.2'])/5\\ndf['SDG6'] = (df['6.1.1'] + df['6.3.1'])/2\\ndf['SDG7'] = df['7.1.1']\\ndf['SDG8'] = (df['8.3.1'] + df['8.5.1'] + df['8.5.2'] + df['8.6.1'])/4\\ndf['SDG9'] = df['9.2.2']\\ndf['SDG10'] = (df['10.2.1'] + df['10.7.4'])/2\\ndf['SDG11'] = (df['11.2.1'] + df['11.6.1'] + df['11.7.1'])/3\\ndf['SDG12'] = df['12.5.1']\\ndf['SDG13'] = df['13.1.1']\\ndf['SDG14'] = df['14.7.1']\\ndf['SDG15'] = (df['15.1.1'] + df['15.1.2'] + df['15.4.2'])/3\\ndf['SDG16'] = (df['16.1.1'] + df['16.1.2'] + df['16.2.3'])/3\\ndf['SDG17'] = (df['17.6.1'] + df['17.8.1'])/2\""
      ]
     },
     "execution_count": 109,
     "metadata": {},
     "output_type": "execute_result"
    }
   ],
   "source": [
    "'''df['SDG1'] = (df['1.1.1'] + df['1.2.1'] + df['1.4.1'] + df['1.a.2'])/4\n",
    "df['SDG2'] = df['2.3.2']\n",
    "df['SDG3'] = (df['3.b.3'] + df['3.c.1'])/2\n",
    "df['SDG4'] = (df['4.1.1'] + df['4.a.1'] + df['4.c.1'])/3\n",
    "df['SDG5'] = (df['5.2.1'] + df['5.2.2'] + df['5.4.1'] + df['5.5.1'] + df['5.5.2'])/5\n",
    "df['SDG6'] = (df['6.1.1'] + df['6.3.1'])/2\n",
    "df['SDG7'] = df['7.1.1']\n",
    "df['SDG8'] = (df['8.3.1'] + df['8.5.1'] + df['8.5.2'] + df['8.6.1'])/4\n",
    "df['SDG9'] = df['9.2.2']\n",
    "df['SDG10'] = (df['10.2.1'] + df['10.7.4'])/2\n",
    "df['SDG11'] = (df['11.2.1'] + df['11.6.1'] + df['11.7.1'])/3\n",
    "df['SDG12'] = df['12.5.1']\n",
    "df['SDG13'] = df['13.1.1']\n",
    "df['SDG14'] = df['14.7.1']\n",
    "df['SDG15'] = (df['15.1.1'] + df['15.1.2'] + df['15.4.2'])/3\n",
    "df['SDG16'] = (df['16.1.1'] + df['16.1.2'] + df['16.2.3'])/3\n",
    "df['SDG17'] = (df['17.6.1'] + df['17.8.1'])/2'''"
   ]
  },
  {
   "cell_type": "code",
   "execution_count": 110,
   "id": "0c06f930",
   "metadata": {},
   "outputs": [],
   "source": [
    "for i in df.index:\n",
    "    df['SDG1'].iloc[i] = df['1.1.1'].iloc[i] + df['1.2.1'].iloc[i] + df['1.4.1'].iloc[i] + df['1.a.2'].iloc[i]\n",
    "    df['SDG2'].iloc[i] = df['2.3.2'].iloc[i]\n",
    "    df['SDG3'].iloc[i] = df['3.b.3'].iloc[i] + df['3.c.1'].iloc[i]\n",
    "    df['SDG4'].iloc[i] = df['4.1.1'].iloc[i] + df['4.a.1'].iloc[i] + df['4.c.1'].iloc[i]\n",
    "    df['SDG5'].iloc[i] = df['5.2.1'].iloc[i] + df['5.2.2'].iloc[i] + df['5.4.1'].iloc[i] + df['5.5.1'].iloc[i] + df['5.5.2'].iloc[i]\n",
    "    df['SDG6'].iloc[i] = df['6.1.1'].iloc[i] + df['6.3.1'].iloc[i]\n",
    "    df['SDG7'].iloc[i] = df['7.1.1'].iloc[i]\n",
    "    df['SDG8'].iloc[i] = df['8.3.1'].iloc[i] + df['8.5.1'].iloc[i] + df['8.5.2'].iloc[i] + df['8.6.1'].iloc[i]\n",
    "    df['SDG9'].iloc[i] = df['9.2.2'].iloc[i]\n",
    "    df['SDG10'].iloc[i] = df['10.2.1'].iloc[i] + df['10.7.4'].iloc[i]\n",
    "    df['SDG11'].iloc[i] = df['11.2.1'].iloc[i] + df['11.6.1'].iloc[i] + df['11.7.1'].iloc[i]\n",
    "    df['SDG12'].iloc[i] = df['12.5.1'].iloc[i]\n",
    "    df['SDG13'].iloc[i] = df['13.1.1'].iloc[i]\n",
    "    df['SDG14'].iloc[i] = df['14.7.1'].iloc[i]\n",
    "    df['SDG15'].iloc[i] = df['15.1.1'].iloc[i] + df['15.1.2'].iloc[i] + df['15.4.2'].iloc[i]\n",
    "    df['SDG16'].iloc[i] = df['16.1.1'].iloc[i] + df['16.1.2'].iloc[i] + df['16.2.3'].iloc[i]\n",
    "    df['SDG17'].iloc[i] = df['17.6.1'].iloc[i] + df['17.8.1'].iloc[i]"
   ]
  },
  {
   "cell_type": "code",
   "execution_count": 111,
   "id": "3d5d5c2b",
   "metadata": {},
   "outputs": [
    {
     "data": {
      "text/plain": [
       "\"df['SDG1'] = df['1.1.1'] + df['1.2.1'] + df['1.4.1'] + df['1.a.2']\\ndf['SDG2'] = df['2.3.2']\\ndf['SDG3'] = df['3.b.3'] + df['3.c.1']\\ndf['SDG4'] = df['4.1.1'] + df['4.a.1'] + df['4.c.1']\\ndf['SDG5'] = df['5.2.1'] + df['5.2.2'] + df['5.4.1'] + df['5.5.1'] + df['5.5.2']\\ndf['SDG6'] = df['6.1.1'] + df['6.3.1']\\ndf['SDG7'] = df['7.1.1']\\ndf['SDG8'] = df['8.3.1'] + df['8.5.1'] + df['8.5.2'] + df['8.6.1']\\ndf['SDG9'] = df['9.2.2']\\ndf['SDG10'] = df['10.2.1'] + df['10.7.4']\\ndf['SDG11'] = df['11.2.1'] + df['11.6.1'] + df['11.7.1']\\ndf['SDG12'] = df['12.5.1']\\ndf['SDG13'] = df['13.1.1']\\ndf['SDG14'] = df['14.7.1']\\ndf['SDG15'] = df['15.1.1'] + df['15.1.2'] + df['15.4.2']\\ndf['SDG16'] = df['16.1.1'] + df['16.1.2'] + df['16.2.3']\\ndf['SDG17'] = df['17.6.1'] + df['17.8.1']\""
      ]
     },
     "execution_count": 111,
     "metadata": {},
     "output_type": "execute_result"
    }
   ],
   "source": [
    "'''df['SDG1'] = df['1.1.1'] + df['1.2.1'] + df['1.4.1'] + df['1.a.2']\n",
    "df['SDG2'] = df['2.3.2']\n",
    "df['SDG3'] = df['3.b.3'] + df['3.c.1']\n",
    "df['SDG4'] = df['4.1.1'] + df['4.a.1'] + df['4.c.1']\n",
    "df['SDG5'] = df['5.2.1'] + df['5.2.2'] + df['5.4.1'] + df['5.5.1'] + df['5.5.2']\n",
    "df['SDG6'] = df['6.1.1'] + df['6.3.1']\n",
    "df['SDG7'] = df['7.1.1']\n",
    "df['SDG8'] = df['8.3.1'] + df['8.5.1'] + df['8.5.2'] + df['8.6.1']\n",
    "df['SDG9'] = df['9.2.2']\n",
    "df['SDG10'] = df['10.2.1'] + df['10.7.4']\n",
    "df['SDG11'] = df['11.2.1'] + df['11.6.1'] + df['11.7.1']\n",
    "df['SDG12'] = df['12.5.1']\n",
    "df['SDG13'] = df['13.1.1']\n",
    "df['SDG14'] = df['14.7.1']\n",
    "df['SDG15'] = df['15.1.1'] + df['15.1.2'] + df['15.4.2']\n",
    "df['SDG16'] = df['16.1.1'] + df['16.1.2'] + df['16.2.3']\n",
    "df['SDG17'] = df['17.6.1'] + df['17.8.1']'''"
   ]
  },
  {
   "cell_type": "code",
   "execution_count": 112,
   "id": "f89cdd9f",
   "metadata": {},
   "outputs": [
    {
     "data": {
      "text/plain": [
       "Index(['District/Area/Building Group', 'Building', 'lat', 'lon', 'Region',\n",
       "       'NonWorkingPopulation', 'Born in Hong Kong', 'District',\n",
       "       'TotalPopulation', 'Working population', 'Male', 'Female', 'Income',\n",
       "       'OpenAreaScore', 'WasteManagementScore', 'HospitalScore', 'SchoolScore',\n",
       "       'Managers and administrators', 'FisheriesScore', 'PoliceScore',\n",
       "       'ElderlyCareScore', 'ChildCareScore',\n",
       "       'Elementary occupations , skilled agricultural and fishery workers and occupations not classifiable',\n",
       "       'Manufacturing, construction, and other industries', 'Bus', 'LightBus',\n",
       "       'Public administration, education, human health and social work activities, miscellaneous social and personal services',\n",
       "       '1-3', '4', '5+',\n",
       "       'Studying and living  in the same District Council district',\n",
       "       'WorkingHours', '15 - 39', '1.1.1', '1.2.1', '1.4.1', '1.a.2', '2.3.2',\n",
       "       'SDG2', '3.b.3', '3.c.1', '4.1.1', '4.a.1', '4.c.1', '5.2.1', '5.2.2',\n",
       "       '5.4.1', '5.5.1', '5.5.2', '6.1.1', '6.3.1', '7.1.1', '8.3.1', '8.5.1',\n",
       "       '8.5.2', '8.6.1', '9.2.2', '10.2.1', '10.7.4', '11.2.1', '11.6.1',\n",
       "       '11.7.1', '12.5.1', '13.1.1', '14.7.1', '15.1.1', '15.1.2', '15.4.2',\n",
       "       '16.1.1', '16.1.2', '16.2.3', '17.6.1', '17.8.1', 'SDG1', 'SDG3',\n",
       "       'SDG4', 'SDG5', 'SDG6', 'SDG7', 'SDG8', 'SDG9', 'SDG10', 'SDG11',\n",
       "       'SDG12', 'SDG13', 'SDG14', 'SDG15', 'SDG16', 'SDG17'],\n",
       "      dtype='object')"
      ]
     },
     "execution_count": 112,
     "metadata": {},
     "output_type": "execute_result"
    }
   ],
   "source": [
    "df.columns"
   ]
  },
  {
   "cell_type": "code",
   "execution_count": 113,
   "id": "43b7dae9",
   "metadata": {},
   "outputs": [],
   "source": [
    "df_final = df[['District/Area/Building Group', 'Building', 'lat', 'lon', 'Region',\n",
    "       'District', 'TotalPopulation', 'Working population', 'Male', 'Female', 'Income', 'WasteManagementScore', 'HospitalScore',\n",
    "        'SchoolScore', 'PoliceScore', 'ElderlyCareScore', 'ChildCareScore', 'SDG1', 'SDG2', 'SDG3',\n",
    "       'SDG4', 'SDG5', 'SDG6', 'SDG7', 'SDG8', 'SDG9', 'SDG10', 'SDG11',\n",
    "       'SDG12', 'SDG13', 'SDG14', 'SDG15', 'SDG16', 'SDG17']]"
   ]
  },
  {
   "cell_type": "code",
   "execution_count": 114,
   "id": "b2102c9d",
   "metadata": {},
   "outputs": [
    {
     "name": "stdout",
     "output_type": "stream",
     "text": [
      "<class 'pandas.core.frame.DataFrame'>\n",
      "RangeIndex: 6983 entries, 0 to 6982\n",
      "Data columns (total 34 columns):\n",
      " #   Column                        Non-Null Count  Dtype  \n",
      "---  ------                        --------------  -----  \n",
      " 0   District/Area/Building Group  6983 non-null   object \n",
      " 1   Building                      6983 non-null   object \n",
      " 2   lat                           6983 non-null   float64\n",
      " 3   lon                           6983 non-null   float64\n",
      " 4   Region                        6983 non-null   object \n",
      " 5   District                      6983 non-null   object \n",
      " 6   TotalPopulation               6983 non-null   float64\n",
      " 7   Working population            6983 non-null   float64\n",
      " 8   Male                          6983 non-null   float64\n",
      " 9   Female                        6983 non-null   float64\n",
      " 10  Income                        6983 non-null   float64\n",
      " 11  WasteManagementScore          6983 non-null   float64\n",
      " 12  HospitalScore                 6983 non-null   float64\n",
      " 13  SchoolScore                   6983 non-null   float64\n",
      " 14  PoliceScore                   6983 non-null   float64\n",
      " 15  ElderlyCareScore              6983 non-null   float64\n",
      " 16  ChildCareScore                6983 non-null   float64\n",
      " 17  SDG1                          6983 non-null   object \n",
      " 18  SDG2                          6983 non-null   object \n",
      " 19  SDG3                          6983 non-null   object \n",
      " 20  SDG4                          6983 non-null   object \n",
      " 21  SDG5                          6983 non-null   object \n",
      " 22  SDG6                          6983 non-null   object \n",
      " 23  SDG7                          6983 non-null   object \n",
      " 24  SDG8                          6983 non-null   object \n",
      " 25  SDG9                          6983 non-null   object \n",
      " 26  SDG10                         6983 non-null   object \n",
      " 27  SDG11                         6983 non-null   object \n",
      " 28  SDG12                         6983 non-null   object \n",
      " 29  SDG13                         6983 non-null   object \n",
      " 30  SDG14                         6983 non-null   object \n",
      " 31  SDG15                         6983 non-null   object \n",
      " 32  SDG16                         6983 non-null   object \n",
      " 33  SDG17                         6983 non-null   object \n",
      "dtypes: float64(13), object(21)\n",
      "memory usage: 1.8+ MB\n"
     ]
    }
   ],
   "source": [
    "df_final.info()"
   ]
  },
  {
   "cell_type": "code",
   "execution_count": 115,
   "id": "40794d7b",
   "metadata": {},
   "outputs": [],
   "source": [
    "df_final['Overall SDG Score'] = None"
   ]
  },
  {
   "cell_type": "code",
   "execution_count": 116,
   "id": "dd620ae0",
   "metadata": {},
   "outputs": [
    {
     "data": {
      "text/plain": [
       "'SDG1'"
      ]
     },
     "execution_count": 116,
     "metadata": {},
     "output_type": "execute_result"
    }
   ],
   "source": [
    "df_final.columns[17]"
   ]
  },
  {
   "cell_type": "code",
   "execution_count": 117,
   "id": "4d31a46b",
   "metadata": {},
   "outputs": [
    {
     "data": {
      "text/plain": [
       "'Overall SDG Score'"
      ]
     },
     "execution_count": 117,
     "metadata": {},
     "output_type": "execute_result"
    }
   ],
   "source": [
    "df_final.columns[34]"
   ]
  },
  {
   "cell_type": "code",
   "execution_count": 118,
   "id": "919d4873",
   "metadata": {},
   "outputs": [],
   "source": [
    "scale = [1,3,4,5,6,8,10,11,15,16,17]"
   ]
  },
  {
   "cell_type": "code",
   "execution_count": null,
   "id": "b615a2ab",
   "metadata": {},
   "outputs": [],
   "source": []
  },
  {
   "cell_type": "code",
   "execution_count": 119,
   "id": "f029abd9",
   "metadata": {},
   "outputs": [],
   "source": [
    "for i in range(11, 34):\n",
    "    col = df_final.columns[i]\n",
    "    mx = (df_final[col]).max()\n",
    "    mn = (df_final[col]).min()\n",
    "    for j in df_final.index:\n",
    "        try:\n",
    "            data = df_final[col].iloc[j]\n",
    "            scaled = (data - mn)/(mx-mn)\n",
    "            df_final[col].iloc[j] = scaled*10\n",
    "        except:\n",
    "            pass"
   ]
  },
  {
   "cell_type": "code",
   "execution_count": 120,
   "id": "b88c9a35",
   "metadata": {},
   "outputs": [
    {
     "data": {
      "text/plain": [
       "'Overall SDG Score'"
      ]
     },
     "execution_count": 120,
     "metadata": {},
     "output_type": "execute_result"
    }
   ],
   "source": [
    "df_final.columns[34]"
   ]
  },
  {
   "cell_type": "code",
   "execution_count": 121,
   "id": "5c9c203b",
   "metadata": {},
   "outputs": [],
   "source": [
    "for i in df_final.index:\n",
    "    a = 0\n",
    "    for j in range(17,34):\n",
    "        col = df_final.columns[j]\n",
    "        val = df_final[col].iloc[i]\n",
    "        df_final['Overall SDG Score'].iloc[i] = a + val\n",
    "        a = a + val"
   ]
  },
  {
   "cell_type": "code",
   "execution_count": 122,
   "id": "fced88dd",
   "metadata": {},
   "outputs": [
    {
     "data": {
      "text/plain": [
       "\"for i in range(6, 23):\\n    col = df_final.columns[i]\\n    for j in df_final.index:\\n        val = df_final[col].iloc[j]\\n        df_final['Overall SDG Score'].iloc[j] = a + val\""
      ]
     },
     "execution_count": 122,
     "metadata": {},
     "output_type": "execute_result"
    }
   ],
   "source": [
    "'''for i in range(6, 23):\n",
    "    col = df_final.columns[i]\n",
    "    for j in df_final.index:\n",
    "        val = df_final[col].iloc[j]\n",
    "        df_final['Overall SDG Score'].iloc[j] = a + val'''"
   ]
  },
  {
   "cell_type": "code",
   "execution_count": 123,
   "id": "cfcd41d1",
   "metadata": {},
   "outputs": [
    {
     "data": {
      "text/html": [
       "<div>\n",
       "<style scoped>\n",
       "    .dataframe tbody tr th:only-of-type {\n",
       "        vertical-align: middle;\n",
       "    }\n",
       "\n",
       "    .dataframe tbody tr th {\n",
       "        vertical-align: top;\n",
       "    }\n",
       "\n",
       "    .dataframe thead th {\n",
       "        text-align: right;\n",
       "    }\n",
       "</style>\n",
       "<table border=\"1\" class=\"dataframe\">\n",
       "  <thead>\n",
       "    <tr style=\"text-align: right;\">\n",
       "      <th></th>\n",
       "      <th>District/Area/Building Group</th>\n",
       "      <th>Building</th>\n",
       "      <th>lat</th>\n",
       "      <th>lon</th>\n",
       "      <th>Region</th>\n",
       "      <th>District</th>\n",
       "      <th>TotalPopulation</th>\n",
       "      <th>Working population</th>\n",
       "      <th>Male</th>\n",
       "      <th>Female</th>\n",
       "      <th>...</th>\n",
       "      <th>SDG9</th>\n",
       "      <th>SDG10</th>\n",
       "      <th>SDG11</th>\n",
       "      <th>SDG12</th>\n",
       "      <th>SDG13</th>\n",
       "      <th>SDG14</th>\n",
       "      <th>SDG15</th>\n",
       "      <th>SDG16</th>\n",
       "      <th>SDG17</th>\n",
       "      <th>Overall SDG Score</th>\n",
       "    </tr>\n",
       "  </thead>\n",
       "  <tbody>\n",
       "    <tr>\n",
       "      <th>0</th>\n",
       "      <td>(Tai Po Mid-levels) Provi...(Tai Po Mid-levels...</td>\n",
       "      <td>Providence Peak</td>\n",
       "      <td>22.432130</td>\n",
       "      <td>114.202489</td>\n",
       "      <td>NewTerritories</td>\n",
       "      <td>TaiPo</td>\n",
       "      <td>2115.33</td>\n",
       "      <td>1064.33</td>\n",
       "      <td>913.44</td>\n",
       "      <td>1201.89</td>\n",
       "      <td>...</td>\n",
       "      <td>1.675214</td>\n",
       "      <td>4.670708</td>\n",
       "      <td>1.099451</td>\n",
       "      <td>0.0</td>\n",
       "      <td>0.917651</td>\n",
       "      <td>0.0</td>\n",
       "      <td>0.0</td>\n",
       "      <td>9.082349</td>\n",
       "      <td>0.917651</td>\n",
       "      <td>41.07583</td>\n",
       "    </tr>\n",
       "    <tr>\n",
       "      <th>1</th>\n",
       "      <td>(Sha Tau Kok) residential...(Sha Tau Kok) resi...</td>\n",
       "      <td>(Sha Tau Kok) residential buildings</td>\n",
       "      <td>22.531577</td>\n",
       "      <td>114.203240</td>\n",
       "      <td>NewTerritories</td>\n",
       "      <td>North</td>\n",
       "      <td>1523.50</td>\n",
       "      <td>582.00</td>\n",
       "      <td>739.00</td>\n",
       "      <td>784.50</td>\n",
       "      <td>...</td>\n",
       "      <td>4.358974</td>\n",
       "      <td>4.491257</td>\n",
       "      <td>3.228176</td>\n",
       "      <td>0.0</td>\n",
       "      <td>0.647956</td>\n",
       "      <td>0.0</td>\n",
       "      <td>0.0</td>\n",
       "      <td>9.352044</td>\n",
       "      <td>0.647956</td>\n",
       "      <td>40.731088</td>\n",
       "    </tr>\n",
       "    <tr>\n",
       "      <th>2</th>\n",
       "      <td>(Yuen Long Southeast) Tow...(Yuen Long Southea...</td>\n",
       "      <td>(Yuen Long Southeast) Tower 1-5, The Reach (Sh...</td>\n",
       "      <td>22.437429</td>\n",
       "      <td>114.027660</td>\n",
       "      <td>NewTerritories</td>\n",
       "      <td>YuenLong</td>\n",
       "      <td>1841.00</td>\n",
       "      <td>1219.00</td>\n",
       "      <td>756.78</td>\n",
       "      <td>1084.22</td>\n",
       "      <td>...</td>\n",
       "      <td>2.034188</td>\n",
       "      <td>4.440285</td>\n",
       "      <td>1.479581</td>\n",
       "      <td>0.0</td>\n",
       "      <td>0.79264</td>\n",
       "      <td>0.0</td>\n",
       "      <td>0.0</td>\n",
       "      <td>9.20736</td>\n",
       "      <td>0.79264</td>\n",
       "      <td>40.867869</td>\n",
       "    </tr>\n",
       "    <tr>\n",
       "      <th>3</th>\n",
       "      <td>(Yuen Long Southeast) Tow...(Yuen Long Southea...</td>\n",
       "      <td>(Yuen Long Southeast) Tower 10-13, The Reach (...</td>\n",
       "      <td>22.437429</td>\n",
       "      <td>114.027660</td>\n",
       "      <td>NewTerritories</td>\n",
       "      <td>YuenLong</td>\n",
       "      <td>2076.00</td>\n",
       "      <td>1270.00</td>\n",
       "      <td>940.95</td>\n",
       "      <td>1135.05</td>\n",
       "      <td>...</td>\n",
       "      <td>2.820513</td>\n",
       "      <td>4.413008</td>\n",
       "      <td>1.92404</td>\n",
       "      <td>0.0</td>\n",
       "      <td>0.899728</td>\n",
       "      <td>0.0</td>\n",
       "      <td>0.0</td>\n",
       "      <td>9.100272</td>\n",
       "      <td>0.899728</td>\n",
       "      <td>42.002643</td>\n",
       "    </tr>\n",
       "    <tr>\n",
       "      <th>4</th>\n",
       "      <td>(Yuen Long Southeast) Gra...(Yuen Long Southea...</td>\n",
       "      <td>(Yuen Long Southeast) Grand Del Sol (Fung Cheu...</td>\n",
       "      <td>22.440560</td>\n",
       "      <td>114.032987</td>\n",
       "      <td>NewTerritories</td>\n",
       "      <td>YuenLong</td>\n",
       "      <td>3696.00</td>\n",
       "      <td>2030.00</td>\n",
       "      <td>1659.64</td>\n",
       "      <td>2036.36</td>\n",
       "      <td>...</td>\n",
       "      <td>1.982906</td>\n",
       "      <td>4.778078</td>\n",
       "      <td>0.807044</td>\n",
       "      <td>0.0</td>\n",
       "      <td>1.637958</td>\n",
       "      <td>0.0</td>\n",
       "      <td>0.0</td>\n",
       "      <td>8.362042</td>\n",
       "      <td>1.637958</td>\n",
       "      <td>45.203146</td>\n",
       "    </tr>\n",
       "  </tbody>\n",
       "</table>\n",
       "<p>5 rows × 35 columns</p>\n",
       "</div>"
      ],
      "text/plain": [
       "                        District/Area/Building Group  \\\n",
       "0  (Tai Po Mid-levels) Provi...(Tai Po Mid-levels...   \n",
       "1  (Sha Tau Kok) residential...(Sha Tau Kok) resi...   \n",
       "2  (Yuen Long Southeast) Tow...(Yuen Long Southea...   \n",
       "3  (Yuen Long Southeast) Tow...(Yuen Long Southea...   \n",
       "4  (Yuen Long Southeast) Gra...(Yuen Long Southea...   \n",
       "\n",
       "                                            Building        lat         lon  \\\n",
       "0                                    Providence Peak  22.432130  114.202489   \n",
       "1                (Sha Tau Kok) residential buildings  22.531577  114.203240   \n",
       "2  (Yuen Long Southeast) Tower 1-5, The Reach (Sh...  22.437429  114.027660   \n",
       "3  (Yuen Long Southeast) Tower 10-13, The Reach (...  22.437429  114.027660   \n",
       "4  (Yuen Long Southeast) Grand Del Sol (Fung Cheu...  22.440560  114.032987   \n",
       "\n",
       "           Region  District  TotalPopulation  Working population     Male  \\\n",
       "0  NewTerritories     TaiPo          2115.33             1064.33   913.44   \n",
       "1  NewTerritories     North          1523.50              582.00   739.00   \n",
       "2  NewTerritories  YuenLong          1841.00             1219.00   756.78   \n",
       "3  NewTerritories  YuenLong          2076.00             1270.00   940.95   \n",
       "4  NewTerritories  YuenLong          3696.00             2030.00  1659.64   \n",
       "\n",
       "    Female  ...      SDG9     SDG10     SDG11  SDG12     SDG13  SDG14  SDG15  \\\n",
       "0  1201.89  ...  1.675214  4.670708  1.099451    0.0  0.917651    0.0    0.0   \n",
       "1   784.50  ...  4.358974  4.491257  3.228176    0.0  0.647956    0.0    0.0   \n",
       "2  1084.22  ...  2.034188  4.440285  1.479581    0.0   0.79264    0.0    0.0   \n",
       "3  1135.05  ...  2.820513  4.413008   1.92404    0.0  0.899728    0.0    0.0   \n",
       "4  2036.36  ...  1.982906  4.778078  0.807044    0.0  1.637958    0.0    0.0   \n",
       "\n",
       "      SDG16     SDG17 Overall SDG Score  \n",
       "0  9.082349  0.917651          41.07583  \n",
       "1  9.352044  0.647956         40.731088  \n",
       "2   9.20736   0.79264         40.867869  \n",
       "3  9.100272  0.899728         42.002643  \n",
       "4  8.362042  1.637958         45.203146  \n",
       "\n",
       "[5 rows x 35 columns]"
      ]
     },
     "execution_count": 123,
     "metadata": {},
     "output_type": "execute_result"
    }
   ],
   "source": [
    "df_final.head(5)"
   ]
  },
  {
   "cell_type": "code",
   "execution_count": 124,
   "id": "a7a34907",
   "metadata": {},
   "outputs": [],
   "source": [
    "col = 'Overall SDG Score'\n",
    "mx = (df_final[col]).max()\n",
    "mn = (df_final[col]).min()\n",
    "for j in df_final.index:\n",
    "    try:\n",
    "        data = df_final[col].iloc[j]\n",
    "        scaled = (data - mn)/(mx-mn)\n",
    "        df_final[col].iloc[j] = scaled*10\n",
    "    except:\n",
    "        pass"
   ]
  },
  {
   "cell_type": "code",
   "execution_count": 125,
   "id": "e2c6cc54",
   "metadata": {},
   "outputs": [
    {
     "data": {
      "text/html": [
       "<div>\n",
       "<style scoped>\n",
       "    .dataframe tbody tr th:only-of-type {\n",
       "        vertical-align: middle;\n",
       "    }\n",
       "\n",
       "    .dataframe tbody tr th {\n",
       "        vertical-align: top;\n",
       "    }\n",
       "\n",
       "    .dataframe thead th {\n",
       "        text-align: right;\n",
       "    }\n",
       "</style>\n",
       "<table border=\"1\" class=\"dataframe\">\n",
       "  <thead>\n",
       "    <tr style=\"text-align: right;\">\n",
       "      <th></th>\n",
       "      <th>District/Area/Building Group</th>\n",
       "      <th>Building</th>\n",
       "      <th>lat</th>\n",
       "      <th>lon</th>\n",
       "      <th>Region</th>\n",
       "      <th>District</th>\n",
       "      <th>TotalPopulation</th>\n",
       "      <th>Working population</th>\n",
       "      <th>Male</th>\n",
       "      <th>Female</th>\n",
       "      <th>...</th>\n",
       "      <th>SDG9</th>\n",
       "      <th>SDG10</th>\n",
       "      <th>SDG11</th>\n",
       "      <th>SDG12</th>\n",
       "      <th>SDG13</th>\n",
       "      <th>SDG14</th>\n",
       "      <th>SDG15</th>\n",
       "      <th>SDG16</th>\n",
       "      <th>SDG17</th>\n",
       "      <th>Overall SDG Score</th>\n",
       "    </tr>\n",
       "  </thead>\n",
       "  <tbody>\n",
       "    <tr>\n",
       "      <th>47</th>\n",
       "      <td>(Tuen Mun District) other...(Tuen Mun District...</td>\n",
       "      <td>(Tuen Mun District) other buildings</td>\n",
       "      <td>22.390765</td>\n",
       "      <td>113.972516</td>\n",
       "      <td>NewTerritories</td>\n",
       "      <td>TuenMun</td>\n",
       "      <td>8203.00</td>\n",
       "      <td>2143.00</td>\n",
       "      <td>3612.63</td>\n",
       "      <td>4590.37</td>\n",
       "      <td>...</td>\n",
       "      <td>1.282051</td>\n",
       "      <td>5.634256</td>\n",
       "      <td>1.679681</td>\n",
       "      <td>0.07</td>\n",
       "      <td>3.691785</td>\n",
       "      <td>0.0</td>\n",
       "      <td>0.0</td>\n",
       "      <td>6.308215</td>\n",
       "      <td>3.691785</td>\n",
       "      <td>3.945092</td>\n",
       "    </tr>\n",
       "    <tr>\n",
       "      <th>360</th>\n",
       "      <td>(Tsuen Wan District) vill...(Tsuen Wan Distric...</td>\n",
       "      <td>(Tsuen Wan District) village houses &amp; villas</td>\n",
       "      <td>22.371323</td>\n",
       "      <td>114.114160</td>\n",
       "      <td>NewTerritories</td>\n",
       "      <td>TsuenWan</td>\n",
       "      <td>17151.00</td>\n",
       "      <td>9019.00</td>\n",
       "      <td>7930.03</td>\n",
       "      <td>9220.97</td>\n",
       "      <td>...</td>\n",
       "      <td>2.666667</td>\n",
       "      <td>8.062372</td>\n",
       "      <td>1.935736</td>\n",
       "      <td>0.0</td>\n",
       "      <td>7.769363</td>\n",
       "      <td>0.0</td>\n",
       "      <td>0.0</td>\n",
       "      <td>2.230637</td>\n",
       "      <td>7.769363</td>\n",
       "      <td>7.955555</td>\n",
       "    </tr>\n",
       "    <tr>\n",
       "      <th>363</th>\n",
       "      <td>(Tsuen Wan Town Centre) C...(Tsuen Wan Town Ce...</td>\n",
       "      <td>Far East House Phase I &amp; other residential bui...</td>\n",
       "      <td>51.171779</td>\n",
       "      <td>-0.163068</td>\n",
       "      <td>NewTerritories</td>\n",
       "      <td>TsuenWan</td>\n",
       "      <td>323.89</td>\n",
       "      <td>183.11</td>\n",
       "      <td>172.54</td>\n",
       "      <td>151.35</td>\n",
       "      <td>...</td>\n",
       "      <td>8.581197</td>\n",
       "      <td>4.280192</td>\n",
       "      <td>3.64578</td>\n",
       "      <td>4.16</td>\n",
       "      <td>0.101297</td>\n",
       "      <td>3.28</td>\n",
       "      <td>3.28</td>\n",
       "      <td>9.898703</td>\n",
       "      <td>0.101297</td>\n",
       "      <td>3.847592</td>\n",
       "    </tr>\n",
       "    <tr>\n",
       "      <th>551</th>\n",
       "      <td>(Repulse Bay) 1950-1970's...(Repulse Bay) 1950...</td>\n",
       "      <td>(Repulse Bay) 1950-1970's private residential ...</td>\n",
       "      <td>22.234504</td>\n",
       "      <td>114.195204</td>\n",
       "      <td>HongKong</td>\n",
       "      <td>Southern</td>\n",
       "      <td>3426.00</td>\n",
       "      <td>1899.00</td>\n",
       "      <td>1391.56</td>\n",
       "      <td>2034.44</td>\n",
       "      <td>...</td>\n",
       "      <td>0.239316</td>\n",
       "      <td>5.738224</td>\n",
       "      <td>1.081907</td>\n",
       "      <td>0.0</td>\n",
       "      <td>1.51492</td>\n",
       "      <td>0.0</td>\n",
       "      <td>0.0</td>\n",
       "      <td>8.48508</td>\n",
       "      <td>1.51492</td>\n",
       "      <td>3.314968</td>\n",
       "    </tr>\n",
       "    <tr>\n",
       "      <th>838</th>\n",
       "      <td>(Tai Po Hoi Bun) Low-dens...(Tai Po Hoi Bun) L...</td>\n",
       "      <td>(Tai Po Hoi Bun) Low-density Village Houses</td>\n",
       "      <td>22.442328</td>\n",
       "      <td>114.165521</td>\n",
       "      <td>NewTerritories</td>\n",
       "      <td>TaiPo</td>\n",
       "      <td>11280.00</td>\n",
       "      <td>5946.00</td>\n",
       "      <td>5132.86</td>\n",
       "      <td>6147.14</td>\n",
       "      <td>...</td>\n",
       "      <td>2.393162</td>\n",
       "      <td>6.24856</td>\n",
       "      <td>2.163814</td>\n",
       "      <td>0.0</td>\n",
       "      <td>5.093965</td>\n",
       "      <td>0.0</td>\n",
       "      <td>0.0</td>\n",
       "      <td>4.906035</td>\n",
       "      <td>5.093965</td>\n",
       "      <td>5.752455</td>\n",
       "    </tr>\n",
       "    <tr>\n",
       "      <th>...</th>\n",
       "      <td>...</td>\n",
       "      <td>...</td>\n",
       "      <td>...</td>\n",
       "      <td>...</td>\n",
       "      <td>...</td>\n",
       "      <td>...</td>\n",
       "      <td>...</td>\n",
       "      <td>...</td>\n",
       "      <td>...</td>\n",
       "      <td>...</td>\n",
       "      <td>...</td>\n",
       "      <td>...</td>\n",
       "      <td>...</td>\n",
       "      <td>...</td>\n",
       "      <td>...</td>\n",
       "      <td>...</td>\n",
       "      <td>...</td>\n",
       "      <td>...</td>\n",
       "      <td>...</td>\n",
       "      <td>...</td>\n",
       "      <td>...</td>\n",
       "    </tr>\n",
       "    <tr>\n",
       "      <th>6539</th>\n",
       "      <td>(Lam Tsuen) Low-density r...(Lam Tsuen) Low-de...</td>\n",
       "      <td>Village Houses</td>\n",
       "      <td>22.469651</td>\n",
       "      <td>114.151003</td>\n",
       "      <td>NewTerritories</td>\n",
       "      <td>TaiPo</td>\n",
       "      <td>10233.50</td>\n",
       "      <td>5279.50</td>\n",
       "      <td>4695.89</td>\n",
       "      <td>5537.61</td>\n",
       "      <td>...</td>\n",
       "      <td>2.376068</td>\n",
       "      <td>6.200016</td>\n",
       "      <td>2.128725</td>\n",
       "      <td>0.0</td>\n",
       "      <td>4.617078</td>\n",
       "      <td>0.0</td>\n",
       "      <td>0.0</td>\n",
       "      <td>5.382922</td>\n",
       "      <td>4.617078</td>\n",
       "      <td>5.195901</td>\n",
       "    </tr>\n",
       "    <tr>\n",
       "      <th>6542</th>\n",
       "      <td>(Lam Tsuen) Low-density r...(Lam Tsuen) Low-de...</td>\n",
       "      <td>Village Houses</td>\n",
       "      <td>22.329259</td>\n",
       "      <td>114.373883</td>\n",
       "      <td>NewTerritories</td>\n",
       "      <td>TaiPo</td>\n",
       "      <td>10233.50</td>\n",
       "      <td>5279.50</td>\n",
       "      <td>4695.89</td>\n",
       "      <td>5537.61</td>\n",
       "      <td>...</td>\n",
       "      <td>2.376068</td>\n",
       "      <td>6.200016</td>\n",
       "      <td>2.128725</td>\n",
       "      <td>0.0</td>\n",
       "      <td>4.617078</td>\n",
       "      <td>0.0</td>\n",
       "      <td>0.0</td>\n",
       "      <td>5.382922</td>\n",
       "      <td>4.617078</td>\n",
       "      <td>5.191388</td>\n",
       "    </tr>\n",
       "    <tr>\n",
       "      <th>6732</th>\n",
       "      <td>(Pak Sha Wan) village hou...(Pak Sha Wan) vill...</td>\n",
       "      <td>villas</td>\n",
       "      <td>22.366785</td>\n",
       "      <td>114.259238</td>\n",
       "      <td>NewTerritories</td>\n",
       "      <td>SaiKung</td>\n",
       "      <td>6297.00</td>\n",
       "      <td>3440.50</td>\n",
       "      <td>2698.71</td>\n",
       "      <td>3598.29</td>\n",
       "      <td>...</td>\n",
       "      <td>1.880342</td>\n",
       "      <td>5.733075</td>\n",
       "      <td>1.879828</td>\n",
       "      <td>0.05</td>\n",
       "      <td>2.823226</td>\n",
       "      <td>0.0</td>\n",
       "      <td>0.0</td>\n",
       "      <td>7.176774</td>\n",
       "      <td>2.823226</td>\n",
       "      <td>3.669018</td>\n",
       "    </tr>\n",
       "    <tr>\n",
       "      <th>6781</th>\n",
       "      <td>(Ma Tau Wai) Kau Pui Lung...(Ma Tau Wai) Kau P...</td>\n",
       "      <td>Kiang Su Street</td>\n",
       "      <td>22.317941</td>\n",
       "      <td>114.186424</td>\n",
       "      <td>Kowloon</td>\n",
       "      <td>KowloonCity</td>\n",
       "      <td>196.00</td>\n",
       "      <td>93.33</td>\n",
       "      <td>76.85</td>\n",
       "      <td>119.15</td>\n",
       "      <td>...</td>\n",
       "      <td>1.008547</td>\n",
       "      <td>4.125869</td>\n",
       "      <td>4.76039</td>\n",
       "      <td>0.0</td>\n",
       "      <td>0.043018</td>\n",
       "      <td>0.0</td>\n",
       "      <td>0.0</td>\n",
       "      <td>9.956982</td>\n",
       "      <td>0.043018</td>\n",
       "      <td>3.001479</td>\n",
       "    </tr>\n",
       "    <tr>\n",
       "      <th>6882</th>\n",
       "      <td>(Tuen Mun San Hui) Rich B...(Tuen Mun San Hui)...</td>\n",
       "      <td>Kim Po Building</td>\n",
       "      <td>22.403770</td>\n",
       "      <td>113.978529</td>\n",
       "      <td>NewTerritories</td>\n",
       "      <td>TuenMun</td>\n",
       "      <td>314.50</td>\n",
       "      <td>163.00</td>\n",
       "      <td>134.17</td>\n",
       "      <td>180.33</td>\n",
       "      <td>...</td>\n",
       "      <td>1.931624</td>\n",
       "      <td>4.171731</td>\n",
       "      <td>5.094108</td>\n",
       "      <td>4.28</td>\n",
       "      <td>0.097018</td>\n",
       "      <td>3.38</td>\n",
       "      <td>3.38</td>\n",
       "      <td>9.902982</td>\n",
       "      <td>0.097018</td>\n",
       "      <td>3.283898</td>\n",
       "    </tr>\n",
       "  </tbody>\n",
       "</table>\n",
       "<p>147 rows × 35 columns</p>\n",
       "</div>"
      ],
      "text/plain": [
       "                           District/Area/Building Group  \\\n",
       "47    (Tuen Mun District) other...(Tuen Mun District...   \n",
       "360   (Tsuen Wan District) vill...(Tsuen Wan Distric...   \n",
       "363   (Tsuen Wan Town Centre) C...(Tsuen Wan Town Ce...   \n",
       "551   (Repulse Bay) 1950-1970's...(Repulse Bay) 1950...   \n",
       "838   (Tai Po Hoi Bun) Low-dens...(Tai Po Hoi Bun) L...   \n",
       "...                                                 ...   \n",
       "6539  (Lam Tsuen) Low-density r...(Lam Tsuen) Low-de...   \n",
       "6542  (Lam Tsuen) Low-density r...(Lam Tsuen) Low-de...   \n",
       "6732  (Pak Sha Wan) village hou...(Pak Sha Wan) vill...   \n",
       "6781  (Ma Tau Wai) Kau Pui Lung...(Ma Tau Wai) Kau P...   \n",
       "6882  (Tuen Mun San Hui) Rich B...(Tuen Mun San Hui)...   \n",
       "\n",
       "                                               Building        lat  \\\n",
       "47                  (Tuen Mun District) other buildings  22.390765   \n",
       "360        (Tsuen Wan District) village houses & villas  22.371323   \n",
       "363   Far East House Phase I & other residential bui...  51.171779   \n",
       "551   (Repulse Bay) 1950-1970's private residential ...  22.234504   \n",
       "838         (Tai Po Hoi Bun) Low-density Village Houses  22.442328   \n",
       "...                                                 ...        ...   \n",
       "6539                                     Village Houses  22.469651   \n",
       "6542                                     Village Houses  22.329259   \n",
       "6732                                             villas  22.366785   \n",
       "6781                                    Kiang Su Street  22.317941   \n",
       "6882                                    Kim Po Building  22.403770   \n",
       "\n",
       "             lon          Region     District  TotalPopulation  \\\n",
       "47    113.972516  NewTerritories      TuenMun          8203.00   \n",
       "360   114.114160  NewTerritories     TsuenWan         17151.00   \n",
       "363    -0.163068  NewTerritories     TsuenWan           323.89   \n",
       "551   114.195204        HongKong     Southern          3426.00   \n",
       "838   114.165521  NewTerritories        TaiPo         11280.00   \n",
       "...          ...             ...          ...              ...   \n",
       "6539  114.151003  NewTerritories        TaiPo         10233.50   \n",
       "6542  114.373883  NewTerritories        TaiPo         10233.50   \n",
       "6732  114.259238  NewTerritories      SaiKung          6297.00   \n",
       "6781  114.186424         Kowloon  KowloonCity           196.00   \n",
       "6882  113.978529  NewTerritories      TuenMun           314.50   \n",
       "\n",
       "      Working population     Male   Female  ...      SDG9     SDG10     SDG11  \\\n",
       "47               2143.00  3612.63  4590.37  ...  1.282051  5.634256  1.679681   \n",
       "360              9019.00  7930.03  9220.97  ...  2.666667  8.062372  1.935736   \n",
       "363               183.11   172.54   151.35  ...  8.581197  4.280192   3.64578   \n",
       "551              1899.00  1391.56  2034.44  ...  0.239316  5.738224  1.081907   \n",
       "838              5946.00  5132.86  6147.14  ...  2.393162   6.24856  2.163814   \n",
       "...                  ...      ...      ...  ...       ...       ...       ...   \n",
       "6539             5279.50  4695.89  5537.61  ...  2.376068  6.200016  2.128725   \n",
       "6542             5279.50  4695.89  5537.61  ...  2.376068  6.200016  2.128725   \n",
       "6732             3440.50  2698.71  3598.29  ...  1.880342  5.733075  1.879828   \n",
       "6781               93.33    76.85   119.15  ...  1.008547  4.125869   4.76039   \n",
       "6882              163.00   134.17   180.33  ...  1.931624  4.171731  5.094108   \n",
       "\n",
       "      SDG12     SDG13  SDG14  SDG15     SDG16     SDG17 Overall SDG Score  \n",
       "47     0.07  3.691785    0.0    0.0  6.308215  3.691785          3.945092  \n",
       "360     0.0  7.769363    0.0    0.0  2.230637  7.769363          7.955555  \n",
       "363    4.16  0.101297   3.28   3.28  9.898703  0.101297          3.847592  \n",
       "551     0.0   1.51492    0.0    0.0   8.48508   1.51492          3.314968  \n",
       "838     0.0  5.093965    0.0    0.0  4.906035  5.093965          5.752455  \n",
       "...     ...       ...    ...    ...       ...       ...               ...  \n",
       "6539    0.0  4.617078    0.0    0.0  5.382922  4.617078          5.195901  \n",
       "6542    0.0  4.617078    0.0    0.0  5.382922  4.617078          5.191388  \n",
       "6732   0.05  2.823226    0.0    0.0  7.176774  2.823226          3.669018  \n",
       "6781    0.0  0.043018    0.0    0.0  9.956982  0.043018          3.001479  \n",
       "6882   4.28  0.097018   3.38   3.38  9.902982  0.097018          3.283898  \n",
       "\n",
       "[147 rows x 35 columns]"
      ]
     },
     "execution_count": 125,
     "metadata": {},
     "output_type": "execute_result"
    }
   ],
   "source": [
    "df_final[df_final['Overall SDG Score'] > 3]"
   ]
  },
  {
   "cell_type": "code",
   "execution_count": 126,
   "id": "9dd032aa",
   "metadata": {},
   "outputs": [
    {
     "data": {
      "text/plain": [
       "0       0.0\n",
       "1       0.0\n",
       "2       0.0\n",
       "3       0.0\n",
       "4       0.0\n",
       "       ... \n",
       "6978    0.0\n",
       "6979    0.0\n",
       "6980    0.0\n",
       "6981    0.0\n",
       "6982    0.0\n",
       "Name: SDG15, Length: 6983, dtype: object"
      ]
     },
     "execution_count": 126,
     "metadata": {},
     "output_type": "execute_result"
    }
   ],
   "source": [
    "df_final['SDG15']"
   ]
  },
  {
   "cell_type": "code",
   "execution_count": 127,
   "id": "2ec329d4",
   "metadata": {},
   "outputs": [
    {
     "data": {
      "text/plain": [
       "1.556208    12\n",
       "1.302022    12\n",
       "1.493402    12\n",
       "1.122019    12\n",
       "1.370733    12\n",
       "            ..\n",
       "1.804863     1\n",
       "1.629493     1\n",
       "2.027373     1\n",
       "3.724346     1\n",
       "1.378189     1\n",
       "Name: Overall SDG Score, Length: 4636, dtype: int64"
      ]
     },
     "execution_count": 127,
     "metadata": {},
     "output_type": "execute_result"
    }
   ],
   "source": [
    "df_final['Overall SDG Score'].value_counts()"
   ]
  },
  {
   "cell_type": "code",
   "execution_count": 128,
   "id": "97979e97",
   "metadata": {},
   "outputs": [
    {
     "data": {
      "text/plain": [
       "1.5112552730664794"
      ]
     },
     "execution_count": 128,
     "metadata": {},
     "output_type": "execute_result"
    }
   ],
   "source": [
    "df_final['Overall SDG Score'].mean()"
   ]
  },
  {
   "cell_type": "code",
   "execution_count": 129,
   "id": "a431ed9a",
   "metadata": {},
   "outputs": [
    {
     "name": "stdout",
     "output_type": "stream",
     "text": [
      "Error\n",
      "Error\n",
      "Error\n",
      "Error\n"
     ]
    }
   ],
   "source": [
    "for i in df_final.columns:\n",
    "    try:\n",
    "        df_final[i] = df_final[i].astype(float)\n",
    "    except:\n",
    "        print('Error')"
   ]
  },
  {
   "cell_type": "code",
   "execution_count": 130,
   "id": "8f320b52",
   "metadata": {},
   "outputs": [
    {
     "name": "stdout",
     "output_type": "stream",
     "text": [
      "<class 'pandas.core.frame.DataFrame'>\n",
      "RangeIndex: 6983 entries, 0 to 6982\n",
      "Data columns (total 35 columns):\n",
      " #   Column                        Non-Null Count  Dtype  \n",
      "---  ------                        --------------  -----  \n",
      " 0   District/Area/Building Group  6983 non-null   object \n",
      " 1   Building                      6983 non-null   object \n",
      " 2   lat                           6983 non-null   float64\n",
      " 3   lon                           6983 non-null   float64\n",
      " 4   Region                        6983 non-null   object \n",
      " 5   District                      6983 non-null   object \n",
      " 6   TotalPopulation               6983 non-null   float64\n",
      " 7   Working population            6983 non-null   float64\n",
      " 8   Male                          6983 non-null   float64\n",
      " 9   Female                        6983 non-null   float64\n",
      " 10  Income                        6983 non-null   float64\n",
      " 11  WasteManagementScore          6983 non-null   float64\n",
      " 12  HospitalScore                 6983 non-null   float64\n",
      " 13  SchoolScore                   6983 non-null   float64\n",
      " 14  PoliceScore                   6983 non-null   float64\n",
      " 15  ElderlyCareScore              6983 non-null   float64\n",
      " 16  ChildCareScore                6983 non-null   float64\n",
      " 17  SDG1                          6983 non-null   float64\n",
      " 18  SDG2                          6983 non-null   float64\n",
      " 19  SDG3                          6983 non-null   float64\n",
      " 20  SDG4                          6983 non-null   float64\n",
      " 21  SDG5                          6983 non-null   float64\n",
      " 22  SDG6                          6983 non-null   float64\n",
      " 23  SDG7                          6983 non-null   float64\n",
      " 24  SDG8                          6983 non-null   float64\n",
      " 25  SDG9                          6983 non-null   float64\n",
      " 26  SDG10                         6983 non-null   float64\n",
      " 27  SDG11                         6983 non-null   float64\n",
      " 28  SDG12                         6983 non-null   float64\n",
      " 29  SDG13                         6983 non-null   float64\n",
      " 30  SDG14                         6983 non-null   float64\n",
      " 31  SDG15                         6983 non-null   float64\n",
      " 32  SDG16                         6983 non-null   float64\n",
      " 33  SDG17                         6983 non-null   float64\n",
      " 34  Overall SDG Score             6983 non-null   float64\n",
      "dtypes: float64(31), object(4)\n",
      "memory usage: 1.9+ MB\n"
     ]
    }
   ],
   "source": [
    "df_final.info()"
   ]
  },
  {
   "cell_type": "code",
   "execution_count": 131,
   "id": "8861ca47",
   "metadata": {},
   "outputs": [
    {
     "name": "stdout",
     "output_type": "stream",
     "text": [
      "Error\n",
      "Error\n",
      "Error\n",
      "Error\n"
     ]
    }
   ],
   "source": [
    "for i in df_final.columns:\n",
    "    try:\n",
    "        col = i\n",
    "        #print(col)\n",
    "        df_final[col] = round(df_final[col], 2)\n",
    "    except:\n",
    "        print('Error')"
   ]
  },
  {
   "cell_type": "code",
   "execution_count": 132,
   "id": "abdae147",
   "metadata": {
    "scrolled": true
   },
   "outputs": [
    {
     "data": {
      "text/plain": [
       "0.00    6800\n",
       "0.58       8\n",
       "0.79       8\n",
       "3.38       6\n",
       "0.40       5\n",
       "        ... \n",
       "0.57       1\n",
       "3.78       1\n",
       "1.89       1\n",
       "3.04       1\n",
       "0.10       1\n",
       "Name: SDG15, Length: 97, dtype: int64"
      ]
     },
     "execution_count": 132,
     "metadata": {},
     "output_type": "execute_result"
    }
   ],
   "source": [
    "df_final['SDG15'].value_counts()"
   ]
  },
  {
   "cell_type": "code",
   "execution_count": 133,
   "id": "dbdc8fc5",
   "metadata": {},
   "outputs": [],
   "source": [
    "df_final.to_csv('SDG_Score.csv', index = False)"
   ]
  },
  {
   "cell_type": "code",
   "execution_count": 134,
   "id": "983329b3",
   "metadata": {},
   "outputs": [],
   "source": [
    "df_final.to_csv('SDG_Score_QGIS1.csv', index = False)"
   ]
  },
  {
   "cell_type": "code",
   "execution_count": 135,
   "id": "c916d7b0",
   "metadata": {},
   "outputs": [],
   "source": [
    "#df_final.to_excel('SDG_Score_ISIE_V1.xls', index = False)"
   ]
  },
  {
   "cell_type": "code",
   "execution_count": 136,
   "id": "1b4c6c55",
   "metadata": {},
   "outputs": [],
   "source": [
    "df5 = pd.DataFrame()"
   ]
  },
  {
   "cell_type": "code",
   "execution_count": 137,
   "id": "3db98195",
   "metadata": {},
   "outputs": [],
   "source": [
    "df5 = df_final[df_final['PoliceScore'] > 0 ]"
   ]
  },
  {
   "cell_type": "code",
   "execution_count": 138,
   "id": "070a217f",
   "metadata": {},
   "outputs": [],
   "source": [
    "df5 = df5[df5['HospitalScore'] > 4]"
   ]
  },
  {
   "cell_type": "code",
   "execution_count": 139,
   "id": "351d62ab",
   "metadata": {},
   "outputs": [],
   "source": [
    "df5 = df5[df5['SchoolScore'] > 0]"
   ]
  },
  {
   "cell_type": "code",
   "execution_count": 140,
   "id": "a222dd7c",
   "metadata": {},
   "outputs": [],
   "source": [
    "df5 = df5[df5['WasteManagementScore'] > 0]"
   ]
  },
  {
   "cell_type": "code",
   "execution_count": 141,
   "id": "691d15fc",
   "metadata": {},
   "outputs": [],
   "source": [
    "df5 = df5[df5['Overall SDG Score'] > 3]"
   ]
  },
  {
   "cell_type": "code",
   "execution_count": 142,
   "id": "5304a647",
   "metadata": {},
   "outputs": [
    {
     "data": {
      "text/html": [
       "<div>\n",
       "<style scoped>\n",
       "    .dataframe tbody tr th:only-of-type {\n",
       "        vertical-align: middle;\n",
       "    }\n",
       "\n",
       "    .dataframe tbody tr th {\n",
       "        vertical-align: top;\n",
       "    }\n",
       "\n",
       "    .dataframe thead th {\n",
       "        text-align: right;\n",
       "    }\n",
       "</style>\n",
       "<table border=\"1\" class=\"dataframe\">\n",
       "  <thead>\n",
       "    <tr style=\"text-align: right;\">\n",
       "      <th></th>\n",
       "      <th>District/Area/Building Group</th>\n",
       "      <th>Building</th>\n",
       "      <th>lat</th>\n",
       "      <th>lon</th>\n",
       "      <th>Region</th>\n",
       "      <th>District</th>\n",
       "      <th>TotalPopulation</th>\n",
       "      <th>Working population</th>\n",
       "      <th>Male</th>\n",
       "      <th>Female</th>\n",
       "      <th>...</th>\n",
       "      <th>SDG9</th>\n",
       "      <th>SDG10</th>\n",
       "      <th>SDG11</th>\n",
       "      <th>SDG12</th>\n",
       "      <th>SDG13</th>\n",
       "      <th>SDG14</th>\n",
       "      <th>SDG15</th>\n",
       "      <th>SDG16</th>\n",
       "      <th>SDG17</th>\n",
       "      <th>Overall SDG Score</th>\n",
       "    </tr>\n",
       "  </thead>\n",
       "  <tbody>\n",
       "    <tr>\n",
       "      <th>1214</th>\n",
       "      <td>(Hung Hom) Berkeley Build...(Hung Hom) Berkele...</td>\n",
       "      <td>(Hung Hom) Berkeley Building</td>\n",
       "      <td>22.31</td>\n",
       "      <td>114.19</td>\n",
       "      <td>Kowloon</td>\n",
       "      <td>KowloonCity</td>\n",
       "      <td>173.80</td>\n",
       "      <td>97.80</td>\n",
       "      <td>87.12</td>\n",
       "      <td>86.68</td>\n",
       "      <td>...</td>\n",
       "      <td>1.13</td>\n",
       "      <td>3.95</td>\n",
       "      <td>9.80</td>\n",
       "      <td>3.32</td>\n",
       "      <td>0.03</td>\n",
       "      <td>0.0</td>\n",
       "      <td>0.0</td>\n",
       "      <td>9.97</td>\n",
       "      <td>0.03</td>\n",
       "      <td>3.93</td>\n",
       "    </tr>\n",
       "    <tr>\n",
       "      <th>1217</th>\n",
       "      <td>(Hung Hom) Berkeley Build...(Hung Hom) Berkele...</td>\n",
       "      <td>Sang On Building</td>\n",
       "      <td>22.31</td>\n",
       "      <td>114.18</td>\n",
       "      <td>Kowloon</td>\n",
       "      <td>KowloonCity</td>\n",
       "      <td>173.80</td>\n",
       "      <td>97.80</td>\n",
       "      <td>87.12</td>\n",
       "      <td>86.68</td>\n",
       "      <td>...</td>\n",
       "      <td>1.13</td>\n",
       "      <td>3.95</td>\n",
       "      <td>9.80</td>\n",
       "      <td>3.32</td>\n",
       "      <td>0.03</td>\n",
       "      <td>0.0</td>\n",
       "      <td>0.0</td>\n",
       "      <td>9.97</td>\n",
       "      <td>0.03</td>\n",
       "      <td>3.97</td>\n",
       "    </tr>\n",
       "    <tr>\n",
       "      <th>1219</th>\n",
       "      <td>(Hung Hom) Berkeley Build...(Hung Hom) Berkele...</td>\n",
       "      <td>Po On Building</td>\n",
       "      <td>22.32</td>\n",
       "      <td>114.17</td>\n",
       "      <td>Kowloon</td>\n",
       "      <td>KowloonCity</td>\n",
       "      <td>173.80</td>\n",
       "      <td>97.80</td>\n",
       "      <td>87.12</td>\n",
       "      <td>86.68</td>\n",
       "      <td>...</td>\n",
       "      <td>1.13</td>\n",
       "      <td>3.95</td>\n",
       "      <td>8.94</td>\n",
       "      <td>1.66</td>\n",
       "      <td>0.03</td>\n",
       "      <td>0.0</td>\n",
       "      <td>0.0</td>\n",
       "      <td>9.97</td>\n",
       "      <td>0.03</td>\n",
       "      <td>3.87</td>\n",
       "    </tr>\n",
       "    <tr>\n",
       "      <th>1220</th>\n",
       "      <td>(Hung Hom) Berkeley Build...(Hung Hom) Berkele...</td>\n",
       "      <td>Lux Theatre Building (Bulkeley St</td>\n",
       "      <td>22.31</td>\n",
       "      <td>114.19</td>\n",
       "      <td>Kowloon</td>\n",
       "      <td>KowloonCity</td>\n",
       "      <td>173.80</td>\n",
       "      <td>97.80</td>\n",
       "      <td>87.12</td>\n",
       "      <td>86.68</td>\n",
       "      <td>...</td>\n",
       "      <td>1.13</td>\n",
       "      <td>3.95</td>\n",
       "      <td>9.80</td>\n",
       "      <td>3.32</td>\n",
       "      <td>0.03</td>\n",
       "      <td>0.0</td>\n",
       "      <td>0.0</td>\n",
       "      <td>9.97</td>\n",
       "      <td>0.03</td>\n",
       "      <td>3.89</td>\n",
       "    </tr>\n",
       "    <tr>\n",
       "      <th>1226</th>\n",
       "      <td>(Hung Hom) Fok Lin Buildi...(Hung Hom) Fok Lin...</td>\n",
       "      <td>(Hung Hom) Fok Lin Building</td>\n",
       "      <td>22.31</td>\n",
       "      <td>114.18</td>\n",
       "      <td>Kowloon</td>\n",
       "      <td>KowloonCity</td>\n",
       "      <td>176.33</td>\n",
       "      <td>92.11</td>\n",
       "      <td>90.23</td>\n",
       "      <td>86.10</td>\n",
       "      <td>...</td>\n",
       "      <td>0.79</td>\n",
       "      <td>4.16</td>\n",
       "      <td>10.00</td>\n",
       "      <td>3.27</td>\n",
       "      <td>0.03</td>\n",
       "      <td>0.0</td>\n",
       "      <td>0.0</td>\n",
       "      <td>9.97</td>\n",
       "      <td>0.03</td>\n",
       "      <td>3.81</td>\n",
       "    </tr>\n",
       "    <tr>\n",
       "      <th>...</th>\n",
       "      <td>...</td>\n",
       "      <td>...</td>\n",
       "      <td>...</td>\n",
       "      <td>...</td>\n",
       "      <td>...</td>\n",
       "      <td>...</td>\n",
       "      <td>...</td>\n",
       "      <td>...</td>\n",
       "      <td>...</td>\n",
       "      <td>...</td>\n",
       "      <td>...</td>\n",
       "      <td>...</td>\n",
       "      <td>...</td>\n",
       "      <td>...</td>\n",
       "      <td>...</td>\n",
       "      <td>...</td>\n",
       "      <td>...</td>\n",
       "      <td>...</td>\n",
       "      <td>...</td>\n",
       "      <td>...</td>\n",
       "      <td>...</td>\n",
       "    </tr>\n",
       "    <tr>\n",
       "      <th>6344</th>\n",
       "      <td>(Prince Edward) Prince Ed...(Prince Edward) Pr...</td>\n",
       "      <td>Boundary Street</td>\n",
       "      <td>22.32</td>\n",
       "      <td>114.17</td>\n",
       "      <td>Kowloon</td>\n",
       "      <td>YauTsimMong</td>\n",
       "      <td>267.17</td>\n",
       "      <td>153.67</td>\n",
       "      <td>124.83</td>\n",
       "      <td>142.34</td>\n",
       "      <td>...</td>\n",
       "      <td>2.79</td>\n",
       "      <td>4.19</td>\n",
       "      <td>5.70</td>\n",
       "      <td>2.16</td>\n",
       "      <td>0.08</td>\n",
       "      <td>0.0</td>\n",
       "      <td>0.0</td>\n",
       "      <td>9.92</td>\n",
       "      <td>0.08</td>\n",
       "      <td>3.25</td>\n",
       "    </tr>\n",
       "    <tr>\n",
       "      <th>6346</th>\n",
       "      <td>(Prince Edward) Prince Ed...(Prince Edward) Pr...</td>\n",
       "      <td>Boundary Street</td>\n",
       "      <td>22.32</td>\n",
       "      <td>114.17</td>\n",
       "      <td>Kowloon</td>\n",
       "      <td>YauTsimMong</td>\n",
       "      <td>243.00</td>\n",
       "      <td>145.29</td>\n",
       "      <td>104.70</td>\n",
       "      <td>138.30</td>\n",
       "      <td>...</td>\n",
       "      <td>2.26</td>\n",
       "      <td>4.13</td>\n",
       "      <td>5.64</td>\n",
       "      <td>2.37</td>\n",
       "      <td>0.06</td>\n",
       "      <td>0.0</td>\n",
       "      <td>0.0</td>\n",
       "      <td>9.94</td>\n",
       "      <td>0.06</td>\n",
       "      <td>3.36</td>\n",
       "    </tr>\n",
       "    <tr>\n",
       "      <th>6350</th>\n",
       "      <td>(Prince Edward) Prince Ed...(Prince Edward) Pr...</td>\n",
       "      <td>Boundary Street</td>\n",
       "      <td>22.32</td>\n",
       "      <td>114.17</td>\n",
       "      <td>Kowloon</td>\n",
       "      <td>YauTsimMong</td>\n",
       "      <td>267.17</td>\n",
       "      <td>153.67</td>\n",
       "      <td>124.83</td>\n",
       "      <td>142.34</td>\n",
       "      <td>...</td>\n",
       "      <td>2.79</td>\n",
       "      <td>4.19</td>\n",
       "      <td>5.70</td>\n",
       "      <td>2.16</td>\n",
       "      <td>0.08</td>\n",
       "      <td>0.0</td>\n",
       "      <td>0.0</td>\n",
       "      <td>9.92</td>\n",
       "      <td>0.08</td>\n",
       "      <td>3.25</td>\n",
       "    </tr>\n",
       "    <tr>\n",
       "      <th>6352</th>\n",
       "      <td>(Prince Edward) Prince Ed...(Prince Edward) Pr...</td>\n",
       "      <td>Boundary Street</td>\n",
       "      <td>22.32</td>\n",
       "      <td>114.17</td>\n",
       "      <td>Kowloon</td>\n",
       "      <td>YauTsimMong</td>\n",
       "      <td>243.00</td>\n",
       "      <td>145.29</td>\n",
       "      <td>104.70</td>\n",
       "      <td>138.30</td>\n",
       "      <td>...</td>\n",
       "      <td>2.26</td>\n",
       "      <td>4.13</td>\n",
       "      <td>5.64</td>\n",
       "      <td>2.37</td>\n",
       "      <td>0.06</td>\n",
       "      <td>0.0</td>\n",
       "      <td>0.0</td>\n",
       "      <td>9.94</td>\n",
       "      <td>0.06</td>\n",
       "      <td>3.36</td>\n",
       "    </tr>\n",
       "    <tr>\n",
       "      <th>6353</th>\n",
       "      <td>(Prince Edward) Prince Ed...(Prince Edward) Pr...</td>\n",
       "      <td>Arran Street Pre-war to 1960's private residen...</td>\n",
       "      <td>22.32</td>\n",
       "      <td>114.17</td>\n",
       "      <td>Kowloon</td>\n",
       "      <td>YauTsimMong</td>\n",
       "      <td>267.17</td>\n",
       "      <td>153.67</td>\n",
       "      <td>124.83</td>\n",
       "      <td>142.34</td>\n",
       "      <td>...</td>\n",
       "      <td>2.79</td>\n",
       "      <td>4.19</td>\n",
       "      <td>5.70</td>\n",
       "      <td>2.16</td>\n",
       "      <td>0.08</td>\n",
       "      <td>0.0</td>\n",
       "      <td>0.0</td>\n",
       "      <td>9.92</td>\n",
       "      <td>0.08</td>\n",
       "      <td>3.25</td>\n",
       "    </tr>\n",
       "  </tbody>\n",
       "</table>\n",
       "<p>63 rows × 35 columns</p>\n",
       "</div>"
      ],
      "text/plain": [
       "                           District/Area/Building Group  \\\n",
       "1214  (Hung Hom) Berkeley Build...(Hung Hom) Berkele...   \n",
       "1217  (Hung Hom) Berkeley Build...(Hung Hom) Berkele...   \n",
       "1219  (Hung Hom) Berkeley Build...(Hung Hom) Berkele...   \n",
       "1220  (Hung Hom) Berkeley Build...(Hung Hom) Berkele...   \n",
       "1226  (Hung Hom) Fok Lin Buildi...(Hung Hom) Fok Lin...   \n",
       "...                                                 ...   \n",
       "6344  (Prince Edward) Prince Ed...(Prince Edward) Pr...   \n",
       "6346  (Prince Edward) Prince Ed...(Prince Edward) Pr...   \n",
       "6350  (Prince Edward) Prince Ed...(Prince Edward) Pr...   \n",
       "6352  (Prince Edward) Prince Ed...(Prince Edward) Pr...   \n",
       "6353  (Prince Edward) Prince Ed...(Prince Edward) Pr...   \n",
       "\n",
       "                                               Building    lat     lon  \\\n",
       "1214                       (Hung Hom) Berkeley Building  22.31  114.19   \n",
       "1217                                   Sang On Building  22.31  114.18   \n",
       "1219                                     Po On Building  22.32  114.17   \n",
       "1220                  Lux Theatre Building (Bulkeley St  22.31  114.19   \n",
       "1226                        (Hung Hom) Fok Lin Building  22.31  114.18   \n",
       "...                                                 ...    ...     ...   \n",
       "6344                                    Boundary Street  22.32  114.17   \n",
       "6346                                    Boundary Street  22.32  114.17   \n",
       "6350                                    Boundary Street  22.32  114.17   \n",
       "6352                                    Boundary Street  22.32  114.17   \n",
       "6353  Arran Street Pre-war to 1960's private residen...  22.32  114.17   \n",
       "\n",
       "       Region     District  TotalPopulation  Working population    Male  \\\n",
       "1214  Kowloon  KowloonCity           173.80               97.80   87.12   \n",
       "1217  Kowloon  KowloonCity           173.80               97.80   87.12   \n",
       "1219  Kowloon  KowloonCity           173.80               97.80   87.12   \n",
       "1220  Kowloon  KowloonCity           173.80               97.80   87.12   \n",
       "1226  Kowloon  KowloonCity           176.33               92.11   90.23   \n",
       "...       ...          ...              ...                 ...     ...   \n",
       "6344  Kowloon  YauTsimMong           267.17              153.67  124.83   \n",
       "6346  Kowloon  YauTsimMong           243.00              145.29  104.70   \n",
       "6350  Kowloon  YauTsimMong           267.17              153.67  124.83   \n",
       "6352  Kowloon  YauTsimMong           243.00              145.29  104.70   \n",
       "6353  Kowloon  YauTsimMong           267.17              153.67  124.83   \n",
       "\n",
       "      Female  ...  SDG9  SDG10  SDG11  SDG12  SDG13  SDG14  SDG15  SDG16  \\\n",
       "1214   86.68  ...  1.13   3.95   9.80   3.32   0.03    0.0    0.0   9.97   \n",
       "1217   86.68  ...  1.13   3.95   9.80   3.32   0.03    0.0    0.0   9.97   \n",
       "1219   86.68  ...  1.13   3.95   8.94   1.66   0.03    0.0    0.0   9.97   \n",
       "1220   86.68  ...  1.13   3.95   9.80   3.32   0.03    0.0    0.0   9.97   \n",
       "1226   86.10  ...  0.79   4.16  10.00   3.27   0.03    0.0    0.0   9.97   \n",
       "...      ...  ...   ...    ...    ...    ...    ...    ...    ...    ...   \n",
       "6344  142.34  ...  2.79   4.19   5.70   2.16   0.08    0.0    0.0   9.92   \n",
       "6346  138.30  ...  2.26   4.13   5.64   2.37   0.06    0.0    0.0   9.94   \n",
       "6350  142.34  ...  2.79   4.19   5.70   2.16   0.08    0.0    0.0   9.92   \n",
       "6352  138.30  ...  2.26   4.13   5.64   2.37   0.06    0.0    0.0   9.94   \n",
       "6353  142.34  ...  2.79   4.19   5.70   2.16   0.08    0.0    0.0   9.92   \n",
       "\n",
       "      SDG17  Overall SDG Score  \n",
       "1214   0.03               3.93  \n",
       "1217   0.03               3.97  \n",
       "1219   0.03               3.87  \n",
       "1220   0.03               3.89  \n",
       "1226   0.03               3.81  \n",
       "...     ...                ...  \n",
       "6344   0.08               3.25  \n",
       "6346   0.06               3.36  \n",
       "6350   0.08               3.25  \n",
       "6352   0.06               3.36  \n",
       "6353   0.08               3.25  \n",
       "\n",
       "[63 rows x 35 columns]"
      ]
     },
     "execution_count": 142,
     "metadata": {},
     "output_type": "execute_result"
    }
   ],
   "source": [
    "df5"
   ]
  },
  {
   "cell_type": "code",
   "execution_count": 143,
   "id": "6b254306",
   "metadata": {},
   "outputs": [],
   "source": [
    "df5 = df_final[df_final['Building'] == 'Sang On Building']"
   ]
  },
  {
   "cell_type": "code",
   "execution_count": 144,
   "id": "32373153",
   "metadata": {},
   "outputs": [
    {
     "data": {
      "text/plain": [
       "1217    86.68\n",
       "Name: Female, dtype: float64"
      ]
     },
     "execution_count": 144,
     "metadata": {},
     "output_type": "execute_result"
    }
   ],
   "source": [
    "df5['Female']"
   ]
  },
  {
   "cell_type": "code",
   "execution_count": 145,
   "id": "098084ad",
   "metadata": {},
   "outputs": [
    {
     "data": {
      "text/html": [
       "<div>\n",
       "<style scoped>\n",
       "    .dataframe tbody tr th:only-of-type {\n",
       "        vertical-align: middle;\n",
       "    }\n",
       "\n",
       "    .dataframe tbody tr th {\n",
       "        vertical-align: top;\n",
       "    }\n",
       "\n",
       "    .dataframe thead th {\n",
       "        text-align: right;\n",
       "    }\n",
       "</style>\n",
       "<table border=\"1\" class=\"dataframe\">\n",
       "  <thead>\n",
       "    <tr style=\"text-align: right;\">\n",
       "      <th></th>\n",
       "      <th>District/Area/Building Group</th>\n",
       "      <th>Building</th>\n",
       "      <th>lat</th>\n",
       "      <th>lon</th>\n",
       "      <th>Region</th>\n",
       "      <th>District</th>\n",
       "      <th>TotalPopulation</th>\n",
       "      <th>Working population</th>\n",
       "      <th>Male</th>\n",
       "      <th>Female</th>\n",
       "      <th>...</th>\n",
       "      <th>SDG9</th>\n",
       "      <th>SDG10</th>\n",
       "      <th>SDG11</th>\n",
       "      <th>SDG12</th>\n",
       "      <th>SDG13</th>\n",
       "      <th>SDG14</th>\n",
       "      <th>SDG15</th>\n",
       "      <th>SDG16</th>\n",
       "      <th>SDG17</th>\n",
       "      <th>Overall SDG Score</th>\n",
       "    </tr>\n",
       "  </thead>\n",
       "  <tbody>\n",
       "    <tr>\n",
       "      <th>1217</th>\n",
       "      <td>(Hung Hom) Berkeley Build...(Hung Hom) Berkele...</td>\n",
       "      <td>Sang On Building</td>\n",
       "      <td>22.31</td>\n",
       "      <td>114.18</td>\n",
       "      <td>Kowloon</td>\n",
       "      <td>KowloonCity</td>\n",
       "      <td>173.8</td>\n",
       "      <td>97.8</td>\n",
       "      <td>87.12</td>\n",
       "      <td>86.68</td>\n",
       "      <td>...</td>\n",
       "      <td>1.13</td>\n",
       "      <td>3.95</td>\n",
       "      <td>9.8</td>\n",
       "      <td>3.32</td>\n",
       "      <td>0.03</td>\n",
       "      <td>0.0</td>\n",
       "      <td>0.0</td>\n",
       "      <td>9.97</td>\n",
       "      <td>0.03</td>\n",
       "      <td>3.97</td>\n",
       "    </tr>\n",
       "  </tbody>\n",
       "</table>\n",
       "<p>1 rows × 35 columns</p>\n",
       "</div>"
      ],
      "text/plain": [
       "                           District/Area/Building Group          Building  \\\n",
       "1217  (Hung Hom) Berkeley Build...(Hung Hom) Berkele...  Sang On Building   \n",
       "\n",
       "        lat     lon   Region     District  TotalPopulation  \\\n",
       "1217  22.31  114.18  Kowloon  KowloonCity            173.8   \n",
       "\n",
       "      Working population   Male  Female  ...  SDG9  SDG10  SDG11  SDG12  \\\n",
       "1217                97.8  87.12   86.68  ...  1.13   3.95    9.8   3.32   \n",
       "\n",
       "      SDG13  SDG14  SDG15  SDG16  SDG17  Overall SDG Score  \n",
       "1217   0.03    0.0    0.0   9.97   0.03               3.97  \n",
       "\n",
       "[1 rows x 35 columns]"
      ]
     },
     "execution_count": 145,
     "metadata": {},
     "output_type": "execute_result"
    }
   ],
   "source": [
    "df5"
   ]
  },
  {
   "cell_type": "code",
   "execution_count": 146,
   "id": "7d120c3f",
   "metadata": {},
   "outputs": [],
   "source": [
    "df5.to_csv('B1.csv', index = False)"
   ]
  },
  {
   "cell_type": "code",
   "execution_count": 147,
   "id": "12beb0be",
   "metadata": {},
   "outputs": [],
   "source": [
    "df5 = pd.read_csv('B1.csv')"
   ]
  },
  {
   "cell_type": "code",
   "execution_count": 148,
   "id": "a80a4703",
   "metadata": {},
   "outputs": [
    {
     "data": {
      "text/html": [
       "<div>\n",
       "<style scoped>\n",
       "    .dataframe tbody tr th:only-of-type {\n",
       "        vertical-align: middle;\n",
       "    }\n",
       "\n",
       "    .dataframe tbody tr th {\n",
       "        vertical-align: top;\n",
       "    }\n",
       "\n",
       "    .dataframe thead th {\n",
       "        text-align: right;\n",
       "    }\n",
       "</style>\n",
       "<table border=\"1\" class=\"dataframe\">\n",
       "  <thead>\n",
       "    <tr style=\"text-align: right;\">\n",
       "      <th></th>\n",
       "      <th>District/Area/Building Group</th>\n",
       "      <th>Building</th>\n",
       "      <th>lat</th>\n",
       "      <th>lon</th>\n",
       "      <th>Region</th>\n",
       "      <th>District</th>\n",
       "      <th>TotalPopulation</th>\n",
       "      <th>Working population</th>\n",
       "      <th>Male</th>\n",
       "      <th>Female</th>\n",
       "      <th>...</th>\n",
       "      <th>SDG9</th>\n",
       "      <th>SDG10</th>\n",
       "      <th>SDG11</th>\n",
       "      <th>SDG12</th>\n",
       "      <th>SDG13</th>\n",
       "      <th>SDG14</th>\n",
       "      <th>SDG15</th>\n",
       "      <th>SDG16</th>\n",
       "      <th>SDG17</th>\n",
       "      <th>Overall SDG Score</th>\n",
       "    </tr>\n",
       "  </thead>\n",
       "  <tbody>\n",
       "    <tr>\n",
       "      <th>0</th>\n",
       "      <td>(Hung Hom) Berkeley Build...(Hung Hom) Berkele...</td>\n",
       "      <td>Sang On Building</td>\n",
       "      <td>22.31</td>\n",
       "      <td>114.18</td>\n",
       "      <td>Kowloon</td>\n",
       "      <td>KowloonCity</td>\n",
       "      <td>173.8</td>\n",
       "      <td>97.8</td>\n",
       "      <td>87.12</td>\n",
       "      <td>86.68</td>\n",
       "      <td>...</td>\n",
       "      <td>1.13</td>\n",
       "      <td>3.95</td>\n",
       "      <td>9.8</td>\n",
       "      <td>3.32</td>\n",
       "      <td>0.03</td>\n",
       "      <td>0.0</td>\n",
       "      <td>0.0</td>\n",
       "      <td>9.97</td>\n",
       "      <td>0.03</td>\n",
       "      <td>3.97</td>\n",
       "    </tr>\n",
       "  </tbody>\n",
       "</table>\n",
       "<p>1 rows × 35 columns</p>\n",
       "</div>"
      ],
      "text/plain": [
       "                        District/Area/Building Group          Building    lat  \\\n",
       "0  (Hung Hom) Berkeley Build...(Hung Hom) Berkele...  Sang On Building  22.31   \n",
       "\n",
       "      lon   Region     District  TotalPopulation  Working population   Male  \\\n",
       "0  114.18  Kowloon  KowloonCity            173.8                97.8  87.12   \n",
       "\n",
       "   Female  ...  SDG9  SDG10  SDG11  SDG12  SDG13  SDG14  SDG15  SDG16  SDG17  \\\n",
       "0   86.68  ...  1.13   3.95    9.8   3.32   0.03    0.0    0.0   9.97   0.03   \n",
       "\n",
       "   Overall SDG Score  \n",
       "0               3.97  \n",
       "\n",
       "[1 rows x 35 columns]"
      ]
     },
     "execution_count": 148,
     "metadata": {},
     "output_type": "execute_result"
    }
   ],
   "source": [
    "df5"
   ]
  },
  {
   "cell_type": "code",
   "execution_count": 149,
   "id": "319b17c5",
   "metadata": {},
   "outputs": [
    {
     "data": {
      "text/plain": [
       "1.511253043104683"
      ]
     },
     "execution_count": 149,
     "metadata": {},
     "output_type": "execute_result"
    }
   ],
   "source": [
    "df_final['Overall SDG Score'].mean()"
   ]
  },
  {
   "cell_type": "code",
   "execution_count": 150,
   "id": "95b5fd52",
   "metadata": {},
   "outputs": [],
   "source": [
    "df = df[df['District'] == 'KwunTong']"
   ]
  },
  {
   "cell_type": "code",
   "execution_count": 151,
   "id": "bbfb775e",
   "metadata": {},
   "outputs": [
    {
     "data": {
      "text/plain": [
       "0.30070615034168563"
      ]
     },
     "execution_count": 151,
     "metadata": {},
     "output_type": "execute_result"
    }
   ],
   "source": [
    "df['WasteManagementScore'].mean()"
   ]
  },
  {
   "cell_type": "code",
   "execution_count": 152,
   "id": "16db3f0c",
   "metadata": {},
   "outputs": [],
   "source": [
    "df_mean = df_final.groupby(by = 'District').mean()"
   ]
  },
  {
   "cell_type": "code",
   "execution_count": 153,
   "id": "2db016a0",
   "metadata": {},
   "outputs": [],
   "source": [
    "df_mean.to_excel('MeanSDG_V1.xlsx')"
   ]
  },
  {
   "cell_type": "code",
   "execution_count": 154,
   "id": "cfc4efab",
   "metadata": {},
   "outputs": [],
   "source": [
    "df_group = df_final.groupby(by = 'District').mean().round(2)"
   ]
  },
  {
   "cell_type": "code",
   "execution_count": 155,
   "id": "9ebe8a99",
   "metadata": {},
   "outputs": [],
   "source": [
    "df_group.to_csv('Group1.csv')"
   ]
  },
  {
   "cell_type": "code",
   "execution_count": 156,
   "id": "ab6c04fe",
   "metadata": {},
   "outputs": [],
   "source": [
    "Region = df_final.groupby(by = 'Region').mean().round(2)"
   ]
  },
  {
   "cell_type": "code",
   "execution_count": 157,
   "id": "65b4696c",
   "metadata": {},
   "outputs": [],
   "source": [
    "Region.to_csv('region.csv')"
   ]
  },
  {
   "cell_type": "code",
   "execution_count": 181,
   "id": "36da864c",
   "metadata": {},
   "outputs": [
    {
     "data": {
      "text/plain": [
       "4.214382070743234"
      ]
     },
     "execution_count": 181,
     "metadata": {},
     "output_type": "execute_result"
    }
   ],
   "source": [
    "df_final['SDG10'].mean()"
   ]
  },
  {
   "cell_type": "code",
   "execution_count": 176,
   "id": "301d9d7d",
   "metadata": {},
   "outputs": [
    {
     "data": {
      "text/html": [
       "<div>\n",
       "<style scoped>\n",
       "    .dataframe tbody tr th:only-of-type {\n",
       "        vertical-align: middle;\n",
       "    }\n",
       "\n",
       "    .dataframe tbody tr th {\n",
       "        vertical-align: top;\n",
       "    }\n",
       "\n",
       "    .dataframe thead th {\n",
       "        text-align: right;\n",
       "    }\n",
       "</style>\n",
       "<table border=\"1\" class=\"dataframe\">\n",
       "  <thead>\n",
       "    <tr style=\"text-align: right;\">\n",
       "      <th></th>\n",
       "      <th>lat</th>\n",
       "      <th>lon</th>\n",
       "      <th>TotalPopulation</th>\n",
       "      <th>Working population</th>\n",
       "      <th>Male</th>\n",
       "      <th>Female</th>\n",
       "      <th>Income</th>\n",
       "      <th>WasteManagementScore</th>\n",
       "      <th>HospitalScore</th>\n",
       "      <th>SchoolScore</th>\n",
       "      <th>...</th>\n",
       "      <th>SDG9</th>\n",
       "      <th>SDG10</th>\n",
       "      <th>SDG11</th>\n",
       "      <th>SDG12</th>\n",
       "      <th>SDG13</th>\n",
       "      <th>SDG14</th>\n",
       "      <th>SDG15</th>\n",
       "      <th>SDG16</th>\n",
       "      <th>SDG17</th>\n",
       "      <th>Overall SDG Score</th>\n",
       "    </tr>\n",
       "    <tr>\n",
       "      <th>District</th>\n",
       "      <th></th>\n",
       "      <th></th>\n",
       "      <th></th>\n",
       "      <th></th>\n",
       "      <th></th>\n",
       "      <th></th>\n",
       "      <th></th>\n",
       "      <th></th>\n",
       "      <th></th>\n",
       "      <th></th>\n",
       "      <th></th>\n",
       "      <th></th>\n",
       "      <th></th>\n",
       "      <th></th>\n",
       "      <th></th>\n",
       "      <th></th>\n",
       "      <th></th>\n",
       "      <th></th>\n",
       "      <th></th>\n",
       "      <th></th>\n",
       "      <th></th>\n",
       "    </tr>\n",
       "  </thead>\n",
       "  <tbody>\n",
       "    <tr>\n",
       "      <th>CentralandWestern</th>\n",
       "      <td>23.12</td>\n",
       "      <td>100.52</td>\n",
       "      <td>451.16</td>\n",
       "      <td>260.81</td>\n",
       "      <td>201.40</td>\n",
       "      <td>249.76</td>\n",
       "      <td>50905.56</td>\n",
       "      <td>0.06</td>\n",
       "      <td>2.16</td>\n",
       "      <td>1.15</td>\n",
       "      <td>...</td>\n",
       "      <td>0.90</td>\n",
       "      <td>4.22</td>\n",
       "      <td>1.31</td>\n",
       "      <td>0.06</td>\n",
       "      <td>0.16</td>\n",
       "      <td>0.01</td>\n",
       "      <td>0.01</td>\n",
       "      <td>9.84</td>\n",
       "      <td>0.16</td>\n",
       "      <td>1.36</td>\n",
       "    </tr>\n",
       "    <tr>\n",
       "      <th>Eastern</th>\n",
       "      <td>23.55</td>\n",
       "      <td>96.32</td>\n",
       "      <td>802.56</td>\n",
       "      <td>429.52</td>\n",
       "      <td>361.30</td>\n",
       "      <td>441.26</td>\n",
       "      <td>34501.23</td>\n",
       "      <td>0.03</td>\n",
       "      <td>1.04</td>\n",
       "      <td>1.07</td>\n",
       "      <td>...</td>\n",
       "      <td>1.48</td>\n",
       "      <td>4.22</td>\n",
       "      <td>1.48</td>\n",
       "      <td>0.03</td>\n",
       "      <td>0.32</td>\n",
       "      <td>0.02</td>\n",
       "      <td>0.02</td>\n",
       "      <td>9.68</td>\n",
       "      <td>0.32</td>\n",
       "      <td>1.21</td>\n",
       "    </tr>\n",
       "    <tr>\n",
       "      <th>Islands</th>\n",
       "      <td>24.51</td>\n",
       "      <td>94.40</td>\n",
       "      <td>682.94</td>\n",
       "      <td>343.79</td>\n",
       "      <td>321.32</td>\n",
       "      <td>361.62</td>\n",
       "      <td>33136.44</td>\n",
       "      <td>0.20</td>\n",
       "      <td>0.82</td>\n",
       "      <td>0.46</td>\n",
       "      <td>...</td>\n",
       "      <td>2.39</td>\n",
       "      <td>4.21</td>\n",
       "      <td>0.97</td>\n",
       "      <td>0.20</td>\n",
       "      <td>0.26</td>\n",
       "      <td>0.04</td>\n",
       "      <td>0.04</td>\n",
       "      <td>9.74</td>\n",
       "      <td>0.26</td>\n",
       "      <td>1.17</td>\n",
       "    </tr>\n",
       "    <tr>\n",
       "      <th>KowloonCity</th>\n",
       "      <td>23.37</td>\n",
       "      <td>104.55</td>\n",
       "      <td>687.40</td>\n",
       "      <td>355.19</td>\n",
       "      <td>312.44</td>\n",
       "      <td>374.96</td>\n",
       "      <td>34886.21</td>\n",
       "      <td>0.47</td>\n",
       "      <td>2.52</td>\n",
       "      <td>1.49</td>\n",
       "      <td>...</td>\n",
       "      <td>1.85</td>\n",
       "      <td>4.19</td>\n",
       "      <td>3.71</td>\n",
       "      <td>0.47</td>\n",
       "      <td>0.27</td>\n",
       "      <td>0.08</td>\n",
       "      <td>0.08</td>\n",
       "      <td>9.73</td>\n",
       "      <td>0.27</td>\n",
       "      <td>2.04</td>\n",
       "    </tr>\n",
       "    <tr>\n",
       "      <th>KwaiTsing</th>\n",
       "      <td>22.77</td>\n",
       "      <td>109.48</td>\n",
       "      <td>1489.84</td>\n",
       "      <td>739.23</td>\n",
       "      <td>697.24</td>\n",
       "      <td>792.60</td>\n",
       "      <td>23595.89</td>\n",
       "      <td>0.00</td>\n",
       "      <td>0.57</td>\n",
       "      <td>0.17</td>\n",
       "      <td>...</td>\n",
       "      <td>2.67</td>\n",
       "      <td>4.32</td>\n",
       "      <td>2.51</td>\n",
       "      <td>0.00</td>\n",
       "      <td>0.63</td>\n",
       "      <td>0.00</td>\n",
       "      <td>0.00</td>\n",
       "      <td>9.37</td>\n",
       "      <td>0.63</td>\n",
       "      <td>1.52</td>\n",
       "    </tr>\n",
       "    <tr>\n",
       "      <th>KwunTong</th>\n",
       "      <td>23.15</td>\n",
       "      <td>106.35</td>\n",
       "      <td>1186.50</td>\n",
       "      <td>578.04</td>\n",
       "      <td>551.89</td>\n",
       "      <td>634.60</td>\n",
       "      <td>24486.38</td>\n",
       "      <td>0.30</td>\n",
       "      <td>1.13</td>\n",
       "      <td>0.53</td>\n",
       "      <td>...</td>\n",
       "      <td>2.44</td>\n",
       "      <td>4.13</td>\n",
       "      <td>2.44</td>\n",
       "      <td>0.30</td>\n",
       "      <td>0.49</td>\n",
       "      <td>0.03</td>\n",
       "      <td>0.03</td>\n",
       "      <td>9.51</td>\n",
       "      <td>0.49</td>\n",
       "      <td>1.53</td>\n",
       "    </tr>\n",
       "    <tr>\n",
       "      <th>North</th>\n",
       "      <td>22.58</td>\n",
       "      <td>112.13</td>\n",
       "      <td>2008.68</td>\n",
       "      <td>960.43</td>\n",
       "      <td>937.07</td>\n",
       "      <td>1071.61</td>\n",
       "      <td>25840.83</td>\n",
       "      <td>0.02</td>\n",
       "      <td>0.22</td>\n",
       "      <td>0.13</td>\n",
       "      <td>...</td>\n",
       "      <td>2.74</td>\n",
       "      <td>4.31</td>\n",
       "      <td>1.64</td>\n",
       "      <td>0.02</td>\n",
       "      <td>0.87</td>\n",
       "      <td>0.00</td>\n",
       "      <td>0.00</td>\n",
       "      <td>9.13</td>\n",
       "      <td>0.87</td>\n",
       "      <td>1.53</td>\n",
       "    </tr>\n",
       "    <tr>\n",
       "      <th>SaiKung</th>\n",
       "      <td>22.67</td>\n",
       "      <td>110.81</td>\n",
       "      <td>1942.32</td>\n",
       "      <td>1026.48</td>\n",
       "      <td>897.54</td>\n",
       "      <td>1044.79</td>\n",
       "      <td>30796.95</td>\n",
       "      <td>0.21</td>\n",
       "      <td>0.22</td>\n",
       "      <td>0.22</td>\n",
       "      <td>...</td>\n",
       "      <td>2.24</td>\n",
       "      <td>4.43</td>\n",
       "      <td>1.54</td>\n",
       "      <td>0.21</td>\n",
       "      <td>0.84</td>\n",
       "      <td>0.12</td>\n",
       "      <td>0.12</td>\n",
       "      <td>9.16</td>\n",
       "      <td>0.84</td>\n",
       "      <td>1.58</td>\n",
       "    </tr>\n",
       "    <tr>\n",
       "      <th>ShaTin</th>\n",
       "      <td>22.48</td>\n",
       "      <td>108.79</td>\n",
       "      <td>1363.37</td>\n",
       "      <td>697.18</td>\n",
       "      <td>620.16</td>\n",
       "      <td>743.21</td>\n",
       "      <td>36253.10</td>\n",
       "      <td>0.02</td>\n",
       "      <td>0.35</td>\n",
       "      <td>0.29</td>\n",
       "      <td>...</td>\n",
       "      <td>2.05</td>\n",
       "      <td>4.31</td>\n",
       "      <td>2.17</td>\n",
       "      <td>0.02</td>\n",
       "      <td>0.58</td>\n",
       "      <td>0.03</td>\n",
       "      <td>0.03</td>\n",
       "      <td>9.42</td>\n",
       "      <td>0.58</td>\n",
       "      <td>1.39</td>\n",
       "    </tr>\n",
       "    <tr>\n",
       "      <th>ShamShuiPo</th>\n",
       "      <td>22.69</td>\n",
       "      <td>110.35</td>\n",
       "      <td>1495.77</td>\n",
       "      <td>762.20</td>\n",
       "      <td>714.19</td>\n",
       "      <td>781.57</td>\n",
       "      <td>21475.10</td>\n",
       "      <td>0.06</td>\n",
       "      <td>0.96</td>\n",
       "      <td>0.85</td>\n",
       "      <td>...</td>\n",
       "      <td>2.73</td>\n",
       "      <td>4.17</td>\n",
       "      <td>1.29</td>\n",
       "      <td>0.06</td>\n",
       "      <td>0.63</td>\n",
       "      <td>0.02</td>\n",
       "      <td>0.02</td>\n",
       "      <td>9.37</td>\n",
       "      <td>0.63</td>\n",
       "      <td>1.47</td>\n",
       "    </tr>\n",
       "    <tr>\n",
       "      <th>Southern</th>\n",
       "      <td>23.47</td>\n",
       "      <td>103.58</td>\n",
       "      <td>1067.23</td>\n",
       "      <td>555.78</td>\n",
       "      <td>478.74</td>\n",
       "      <td>588.49</td>\n",
       "      <td>51710.19</td>\n",
       "      <td>0.02</td>\n",
       "      <td>0.55</td>\n",
       "      <td>0.37</td>\n",
       "      <td>...</td>\n",
       "      <td>1.63</td>\n",
       "      <td>4.30</td>\n",
       "      <td>3.11</td>\n",
       "      <td>0.02</td>\n",
       "      <td>0.44</td>\n",
       "      <td>0.00</td>\n",
       "      <td>0.00</td>\n",
       "      <td>9.56</td>\n",
       "      <td>0.44</td>\n",
       "      <td>1.65</td>\n",
       "    </tr>\n",
       "    <tr>\n",
       "      <th>TaiPo</th>\n",
       "      <td>22.65</td>\n",
       "      <td>110.92</td>\n",
       "      <td>1297.78</td>\n",
       "      <td>649.40</td>\n",
       "      <td>596.30</td>\n",
       "      <td>701.48</td>\n",
       "      <td>26964.80</td>\n",
       "      <td>0.08</td>\n",
       "      <td>0.48</td>\n",
       "      <td>0.70</td>\n",
       "      <td>...</td>\n",
       "      <td>2.68</td>\n",
       "      <td>4.18</td>\n",
       "      <td>2.13</td>\n",
       "      <td>0.08</td>\n",
       "      <td>0.55</td>\n",
       "      <td>0.05</td>\n",
       "      <td>0.05</td>\n",
       "      <td>9.45</td>\n",
       "      <td>0.55</td>\n",
       "      <td>1.44</td>\n",
       "    </tr>\n",
       "    <tr>\n",
       "      <th>TsuenWan</th>\n",
       "      <td>22.77</td>\n",
       "      <td>110.93</td>\n",
       "      <td>927.86</td>\n",
       "      <td>483.11</td>\n",
       "      <td>432.85</td>\n",
       "      <td>495.01</td>\n",
       "      <td>25122.19</td>\n",
       "      <td>0.03</td>\n",
       "      <td>0.94</td>\n",
       "      <td>0.56</td>\n",
       "      <td>...</td>\n",
       "      <td>3.57</td>\n",
       "      <td>4.19</td>\n",
       "      <td>1.83</td>\n",
       "      <td>0.03</td>\n",
       "      <td>0.38</td>\n",
       "      <td>0.02</td>\n",
       "      <td>0.02</td>\n",
       "      <td>9.62</td>\n",
       "      <td>0.38</td>\n",
       "      <td>1.48</td>\n",
       "    </tr>\n",
       "    <tr>\n",
       "      <th>TuenMun</th>\n",
       "      <td>23.24</td>\n",
       "      <td>104.35</td>\n",
       "      <td>1438.69</td>\n",
       "      <td>720.67</td>\n",
       "      <td>668.63</td>\n",
       "      <td>770.07</td>\n",
       "      <td>25975.61</td>\n",
       "      <td>0.81</td>\n",
       "      <td>0.25</td>\n",
       "      <td>0.19</td>\n",
       "      <td>...</td>\n",
       "      <td>2.65</td>\n",
       "      <td>4.20</td>\n",
       "      <td>2.69</td>\n",
       "      <td>0.81</td>\n",
       "      <td>0.61</td>\n",
       "      <td>0.29</td>\n",
       "      <td>0.29</td>\n",
       "      <td>9.39</td>\n",
       "      <td>0.61</td>\n",
       "      <td>1.67</td>\n",
       "    </tr>\n",
       "    <tr>\n",
       "      <th>WanChai</th>\n",
       "      <td>23.16</td>\n",
       "      <td>100.76</td>\n",
       "      <td>450.77</td>\n",
       "      <td>263.52</td>\n",
       "      <td>197.17</td>\n",
       "      <td>253.60</td>\n",
       "      <td>44477.67</td>\n",
       "      <td>0.08</td>\n",
       "      <td>2.02</td>\n",
       "      <td>1.45</td>\n",
       "      <td>...</td>\n",
       "      <td>1.20</td>\n",
       "      <td>4.20</td>\n",
       "      <td>1.69</td>\n",
       "      <td>0.08</td>\n",
       "      <td>0.16</td>\n",
       "      <td>0.14</td>\n",
       "      <td>0.14</td>\n",
       "      <td>9.84</td>\n",
       "      <td>0.16</td>\n",
       "      <td>1.48</td>\n",
       "    </tr>\n",
       "    <tr>\n",
       "      <th>WongTaiSin</th>\n",
       "      <td>22.58</td>\n",
       "      <td>110.37</td>\n",
       "      <td>1138.30</td>\n",
       "      <td>556.87</td>\n",
       "      <td>528.39</td>\n",
       "      <td>609.91</td>\n",
       "      <td>24371.93</td>\n",
       "      <td>0.01</td>\n",
       "      <td>1.37</td>\n",
       "      <td>0.47</td>\n",
       "      <td>...</td>\n",
       "      <td>2.38</td>\n",
       "      <td>4.19</td>\n",
       "      <td>1.97</td>\n",
       "      <td>0.01</td>\n",
       "      <td>0.47</td>\n",
       "      <td>0.00</td>\n",
       "      <td>0.00</td>\n",
       "      <td>9.53</td>\n",
       "      <td>0.47</td>\n",
       "      <td>1.41</td>\n",
       "    </tr>\n",
       "    <tr>\n",
       "      <th>YauTsimMong</th>\n",
       "      <td>23.40</td>\n",
       "      <td>98.74</td>\n",
       "      <td>459.68</td>\n",
       "      <td>242.44</td>\n",
       "      <td>212.28</td>\n",
       "      <td>247.40</td>\n",
       "      <td>22818.24</td>\n",
       "      <td>0.32</td>\n",
       "      <td>2.84</td>\n",
       "      <td>1.43</td>\n",
       "      <td>...</td>\n",
       "      <td>2.12</td>\n",
       "      <td>4.17</td>\n",
       "      <td>1.74</td>\n",
       "      <td>0.32</td>\n",
       "      <td>0.16</td>\n",
       "      <td>0.02</td>\n",
       "      <td>0.02</td>\n",
       "      <td>9.84</td>\n",
       "      <td>0.16</td>\n",
       "      <td>1.58</td>\n",
       "    </tr>\n",
       "    <tr>\n",
       "      <th>YuenLong</th>\n",
       "      <td>23.05</td>\n",
       "      <td>106.75</td>\n",
       "      <td>1415.58</td>\n",
       "      <td>693.02</td>\n",
       "      <td>659.67</td>\n",
       "      <td>755.91</td>\n",
       "      <td>23789.60</td>\n",
       "      <td>0.12</td>\n",
       "      <td>0.35</td>\n",
       "      <td>0.59</td>\n",
       "      <td>...</td>\n",
       "      <td>2.99</td>\n",
       "      <td>4.24</td>\n",
       "      <td>1.84</td>\n",
       "      <td>0.12</td>\n",
       "      <td>0.60</td>\n",
       "      <td>0.10</td>\n",
       "      <td>0.10</td>\n",
       "      <td>9.40</td>\n",
       "      <td>0.60</td>\n",
       "      <td>1.49</td>\n",
       "    </tr>\n",
       "  </tbody>\n",
       "</table>\n",
       "<p>18 rows × 31 columns</p>\n",
       "</div>"
      ],
      "text/plain": [
       "                     lat     lon  TotalPopulation  Working population    Male  \\\n",
       "District                                                                        \n",
       "CentralandWestern  23.12  100.52           451.16              260.81  201.40   \n",
       "Eastern            23.55   96.32           802.56              429.52  361.30   \n",
       "Islands            24.51   94.40           682.94              343.79  321.32   \n",
       "KowloonCity        23.37  104.55           687.40              355.19  312.44   \n",
       "KwaiTsing          22.77  109.48          1489.84              739.23  697.24   \n",
       "KwunTong           23.15  106.35          1186.50              578.04  551.89   \n",
       "North              22.58  112.13          2008.68              960.43  937.07   \n",
       "SaiKung            22.67  110.81          1942.32             1026.48  897.54   \n",
       "ShaTin             22.48  108.79          1363.37              697.18  620.16   \n",
       "ShamShuiPo         22.69  110.35          1495.77              762.20  714.19   \n",
       "Southern           23.47  103.58          1067.23              555.78  478.74   \n",
       "TaiPo              22.65  110.92          1297.78              649.40  596.30   \n",
       "TsuenWan           22.77  110.93           927.86              483.11  432.85   \n",
       "TuenMun            23.24  104.35          1438.69              720.67  668.63   \n",
       "WanChai            23.16  100.76           450.77              263.52  197.17   \n",
       "WongTaiSin         22.58  110.37          1138.30              556.87  528.39   \n",
       "YauTsimMong        23.40   98.74           459.68              242.44  212.28   \n",
       "YuenLong           23.05  106.75          1415.58              693.02  659.67   \n",
       "\n",
       "                    Female    Income  WasteManagementScore  HospitalScore  \\\n",
       "District                                                                    \n",
       "CentralandWestern   249.76  50905.56                  0.06           2.16   \n",
       "Eastern             441.26  34501.23                  0.03           1.04   \n",
       "Islands             361.62  33136.44                  0.20           0.82   \n",
       "KowloonCity         374.96  34886.21                  0.47           2.52   \n",
       "KwaiTsing           792.60  23595.89                  0.00           0.57   \n",
       "KwunTong            634.60  24486.38                  0.30           1.13   \n",
       "North              1071.61  25840.83                  0.02           0.22   \n",
       "SaiKung            1044.79  30796.95                  0.21           0.22   \n",
       "ShaTin              743.21  36253.10                  0.02           0.35   \n",
       "ShamShuiPo          781.57  21475.10                  0.06           0.96   \n",
       "Southern            588.49  51710.19                  0.02           0.55   \n",
       "TaiPo               701.48  26964.80                  0.08           0.48   \n",
       "TsuenWan            495.01  25122.19                  0.03           0.94   \n",
       "TuenMun             770.07  25975.61                  0.81           0.25   \n",
       "WanChai             253.60  44477.67                  0.08           2.02   \n",
       "WongTaiSin          609.91  24371.93                  0.01           1.37   \n",
       "YauTsimMong         247.40  22818.24                  0.32           2.84   \n",
       "YuenLong            755.91  23789.60                  0.12           0.35   \n",
       "\n",
       "                   SchoolScore  ...  SDG9  SDG10  SDG11  SDG12  SDG13  SDG14  \\\n",
       "District                        ...                                            \n",
       "CentralandWestern         1.15  ...  0.90   4.22   1.31   0.06   0.16   0.01   \n",
       "Eastern                   1.07  ...  1.48   4.22   1.48   0.03   0.32   0.02   \n",
       "Islands                   0.46  ...  2.39   4.21   0.97   0.20   0.26   0.04   \n",
       "KowloonCity               1.49  ...  1.85   4.19   3.71   0.47   0.27   0.08   \n",
       "KwaiTsing                 0.17  ...  2.67   4.32   2.51   0.00   0.63   0.00   \n",
       "KwunTong                  0.53  ...  2.44   4.13   2.44   0.30   0.49   0.03   \n",
       "North                     0.13  ...  2.74   4.31   1.64   0.02   0.87   0.00   \n",
       "SaiKung                   0.22  ...  2.24   4.43   1.54   0.21   0.84   0.12   \n",
       "ShaTin                    0.29  ...  2.05   4.31   2.17   0.02   0.58   0.03   \n",
       "ShamShuiPo                0.85  ...  2.73   4.17   1.29   0.06   0.63   0.02   \n",
       "Southern                  0.37  ...  1.63   4.30   3.11   0.02   0.44   0.00   \n",
       "TaiPo                     0.70  ...  2.68   4.18   2.13   0.08   0.55   0.05   \n",
       "TsuenWan                  0.56  ...  3.57   4.19   1.83   0.03   0.38   0.02   \n",
       "TuenMun                   0.19  ...  2.65   4.20   2.69   0.81   0.61   0.29   \n",
       "WanChai                   1.45  ...  1.20   4.20   1.69   0.08   0.16   0.14   \n",
       "WongTaiSin                0.47  ...  2.38   4.19   1.97   0.01   0.47   0.00   \n",
       "YauTsimMong               1.43  ...  2.12   4.17   1.74   0.32   0.16   0.02   \n",
       "YuenLong                  0.59  ...  2.99   4.24   1.84   0.12   0.60   0.10   \n",
       "\n",
       "                   SDG15  SDG16  SDG17  Overall SDG Score  \n",
       "District                                                   \n",
       "CentralandWestern   0.01   9.84   0.16               1.36  \n",
       "Eastern             0.02   9.68   0.32               1.21  \n",
       "Islands             0.04   9.74   0.26               1.17  \n",
       "KowloonCity         0.08   9.73   0.27               2.04  \n",
       "KwaiTsing           0.00   9.37   0.63               1.52  \n",
       "KwunTong            0.03   9.51   0.49               1.53  \n",
       "North               0.00   9.13   0.87               1.53  \n",
       "SaiKung             0.12   9.16   0.84               1.58  \n",
       "ShaTin              0.03   9.42   0.58               1.39  \n",
       "ShamShuiPo          0.02   9.37   0.63               1.47  \n",
       "Southern            0.00   9.56   0.44               1.65  \n",
       "TaiPo               0.05   9.45   0.55               1.44  \n",
       "TsuenWan            0.02   9.62   0.38               1.48  \n",
       "TuenMun             0.29   9.39   0.61               1.67  \n",
       "WanChai             0.14   9.84   0.16               1.48  \n",
       "WongTaiSin          0.00   9.53   0.47               1.41  \n",
       "YauTsimMong         0.02   9.84   0.16               1.58  \n",
       "YuenLong            0.10   9.40   0.60               1.49  \n",
       "\n",
       "[18 rows x 31 columns]"
      ]
     },
     "execution_count": 176,
     "metadata": {},
     "output_type": "execute_result"
    }
   ],
   "source": [
    "df_group"
   ]
  },
  {
   "cell_type": "code",
   "execution_count": 159,
   "id": "908f58d8",
   "metadata": {},
   "outputs": [
    {
     "data": {
      "text/plain": [
       "0       3.77\n",
       "1       3.77\n",
       "2       3.87\n",
       "3       3.85\n",
       "4       3.80\n",
       "        ... \n",
       "6978    3.79\n",
       "6979    3.84\n",
       "6980    3.84\n",
       "6981    3.80\n",
       "6982    3.85\n",
       "Name: SDG1, Length: 6983, dtype: float64"
      ]
     },
     "execution_count": 159,
     "metadata": {},
     "output_type": "execute_result"
    }
   ],
   "source": [
    "df_final['SDG1']"
   ]
  },
  {
   "cell_type": "code",
   "execution_count": 160,
   "id": "ed4c03d7",
   "metadata": {},
   "outputs": [],
   "source": [
    "def gini_coefficient(x):\n",
    "    \"\"\"Compute Gini coefficient of array of values\"\"\"\n",
    "    diffsum = 0\n",
    "    for i, xi in enumerate(x[:-1], 1):\n",
    "        diffsum += np.sum(np.abs(xi - x[i:]))\n",
    "    return diffsum / (len(x)**2 * np.mean(x))"
   ]
  },
  {
   "cell_type": "code",
   "execution_count": 161,
   "id": "f20214cf",
   "metadata": {},
   "outputs": [],
   "source": [
    "df_gini = pd.DataFrame(index = [0])"
   ]
  },
  {
   "cell_type": "code",
   "execution_count": 162,
   "id": "b2449dad",
   "metadata": {},
   "outputs": [],
   "source": [
    "df_gini['SDG1'] = None\n",
    "df_gini['SDG2'] = None\n",
    "df_gini['SDG3'] = None\n",
    "df_gini['SDG4'] = None\n",
    "df_gini['SDG5'] = None\n",
    "df_gini['SDG6'] = None\n",
    "df_gini['SDG7'] = None\n",
    "df_gini['SDG8'] = None\n",
    "df_gini['SDG9'] = None\n",
    "df_gini['SDG10'] = None\n",
    "df_gini['SDG11'] = None\n",
    "df_gini['SDG12'] = None\n",
    "df_gini['SDG13'] = None\n",
    "df_gini['SDG14'] = None\n",
    "df_gini['SDG15'] = None\n",
    "df_gini['SDG16'] = None\n",
    "df_gini['SDG17'] = None"
   ]
  },
  {
   "cell_type": "code",
   "execution_count": 163,
   "id": "1c739218",
   "metadata": {},
   "outputs": [],
   "source": [
    "df_gini['SDG1'].iloc[0] = gini_coefficient(np.array(list(df_final['SDG1'])))\n",
    "df_gini['SDG2'].iloc[0] = gini_coefficient(np.array(list(df_final['SDG2'])))\n",
    "df_gini['SDG3'].iloc[0] = gini_coefficient(np.array(list(df_final['SDG3'])))\n",
    "df_gini['SDG4'].iloc[0] = gini_coefficient(np.array(list(df_final['SDG4'])))\n",
    "df_gini['SDG5'].iloc[0] = gini_coefficient(np.array(list(df_final['SDG5'])))\n",
    "df_gini['SDG6'].iloc[0] = gini_coefficient(np.array(list(df_final['SDG6'])))\n",
    "df_gini['SDG7'].iloc[0] = gini_coefficient(np.array(list(df_final['SDG7'])))\n",
    "df_gini['SDG8'].iloc[0] = gini_coefficient(np.array(list(df_final['SDG8'])))\n",
    "df_gini['SDG9'].iloc[0] = gini_coefficient(np.array(list(df_final['SDG9'])))\n",
    "df_gini['SDG10'].iloc[0] = gini_coefficient(np.array(list(df_final['SDG10'])))\n",
    "df_gini['SDG11'].iloc[0] = gini_coefficient(np.array(list(df_final['SDG11'])))\n",
    "df_gini['SDG12'].iloc[0] = gini_coefficient(np.array(list(df_final['SDG12'])))\n",
    "df_gini['SDG13'].iloc[0] = gini_coefficient(np.array(list(df_final['SDG13'])))\n",
    "df_gini['SDG14'].iloc[0] = gini_coefficient(np.array(list(df_final['SDG14'])))\n",
    "df_gini['SDG15'].iloc[0] = gini_coefficient(np.array(list(df_final['SDG15'])))\n",
    "df_gini['SDG16'].iloc[0] = gini_coefficient(np.array(list(df_final['SDG16'])))\n",
    "df_gini['SDG17'].iloc[0] = gini_coefficient(np.array(list(df_final['SDG17'])))"
   ]
  },
  {
   "cell_type": "code",
   "execution_count": 164,
   "id": "c021870f",
   "metadata": {},
   "outputs": [],
   "source": [
    "for i in df_gini.columns:\n",
    "    try:\n",
    "        df_gini[i] = df_gini[i].astype(float)\n",
    "        df_gini[i] = round(df_gini[i],2)\n",
    "    except:\n",
    "        print('Error')"
   ]
  },
  {
   "cell_type": "code",
   "execution_count": 165,
   "id": "ab85ec7e",
   "metadata": {},
   "outputs": [],
   "source": [
    "df_regiongini = pd.DataFrame(index = [0,1,2])"
   ]
  },
  {
   "cell_type": "code",
   "execution_count": 166,
   "id": "7b4bfaee",
   "metadata": {},
   "outputs": [
    {
     "data": {
      "text/plain": [
       "Kowloon           2878\n",
       "NewTerritories    2327\n",
       "HongKong          1778\n",
       "Name: Region, dtype: int64"
      ]
     },
     "execution_count": 166,
     "metadata": {},
     "output_type": "execute_result"
    }
   ],
   "source": [
    "df_final['Region'].value_counts()"
   ]
  },
  {
   "cell_type": "code",
   "execution_count": 167,
   "id": "1aa24473",
   "metadata": {},
   "outputs": [],
   "source": [
    "kowloon = df_final[df_final['Region'] == 'Kowloon']\n",
    "nt = df_final[df_final['Region'] == 'NewTerritories']\n",
    "hk = df_final[df_final['Region'] == 'HongKong']"
   ]
  },
  {
   "cell_type": "code",
   "execution_count": 168,
   "id": "c2399425",
   "metadata": {},
   "outputs": [],
   "source": [
    "df_regiongini['Region'] = None\n",
    "df_regiongini['SDG1'] = None\n",
    "df_regiongini['SDG2'] = None\n",
    "df_regiongini['SDG3'] = None\n",
    "df_regiongini['SDG4'] = None\n",
    "df_regiongini['SDG5'] = None\n",
    "df_regiongini['SDG6'] = None\n",
    "df_regiongini['SDG7'] = None\n",
    "df_regiongini['SDG8'] = None\n",
    "df_regiongini['SDG9'] = None\n",
    "df_regiongini['SDG10'] = None\n",
    "df_regiongini['SDG11'] = None\n",
    "df_regiongini['SDG12'] = None\n",
    "df_regiongini['SDG13'] = None\n",
    "df_regiongini['SDG14'] = None\n",
    "df_regiongini['SDG15'] = None\n",
    "df_regiongini['SDG16'] = None\n",
    "df_regiongini['SDG17'] = None"
   ]
  },
  {
   "cell_type": "code",
   "execution_count": 169,
   "id": "2f4477fb",
   "metadata": {},
   "outputs": [],
   "source": [
    "df_regiongini['Region'].iloc[0] = 'Kowloon'\n",
    "df_regiongini['SDG1'].iloc[0] = gini_coefficient(np.array(list(kowloon['SDG1'])))\n",
    "df_regiongini['SDG2'].iloc[0] = gini_coefficient(np.array(list(kowloon['SDG2'])))\n",
    "df_regiongini['SDG3'].iloc[0] = gini_coefficient(np.array(list(kowloon['SDG3'])))\n",
    "df_regiongini['SDG4'].iloc[0] = gini_coefficient(np.array(list(kowloon['SDG4'])))\n",
    "df_regiongini['SDG5'].iloc[0] = gini_coefficient(np.array(list(kowloon['SDG5'])))\n",
    "df_regiongini['SDG6'].iloc[0] = gini_coefficient(np.array(list(kowloon['SDG6'])))\n",
    "df_regiongini['SDG7'].iloc[0] = gini_coefficient(np.array(list(kowloon['SDG7'])))\n",
    "df_regiongini['SDG8'].iloc[0] = gini_coefficient(np.array(list(kowloon['SDG8'])))\n",
    "df_regiongini['SDG9'].iloc[0] = gini_coefficient(np.array(list(kowloon['SDG9'])))\n",
    "df_regiongini['SDG10'].iloc[0] = gini_coefficient(np.array(list(kowloon['SDG10'])))\n",
    "df_regiongini['SDG11'].iloc[0] = gini_coefficient(np.array(list(kowloon['SDG11'])))\n",
    "df_regiongini['SDG12'].iloc[0] = gini_coefficient(np.array(list(kowloon['SDG12'])))\n",
    "df_regiongini['SDG13'].iloc[0] = gini_coefficient(np.array(list(kowloon['SDG13'])))\n",
    "df_regiongini['SDG14'].iloc[0] = gini_coefficient(np.array(list(kowloon['SDG14'])))\n",
    "df_regiongini['SDG15'].iloc[0] = gini_coefficient(np.array(list(kowloon['SDG15'])))\n",
    "df_regiongini['SDG16'].iloc[0] = gini_coefficient(np.array(list(kowloon['SDG16'])))\n",
    "df_regiongini['SDG17'].iloc[0] = gini_coefficient(np.array(list(kowloon['SDG17'])))"
   ]
  },
  {
   "cell_type": "code",
   "execution_count": 170,
   "id": "94a3f959",
   "metadata": {},
   "outputs": [],
   "source": [
    "df_regiongini['Region'].iloc[1] = 'New Territories'\n",
    "df_regiongini['SDG1'].iloc[1] = gini_coefficient(np.array(list(nt['SDG1'])))\n",
    "df_regiongini['SDG2'].iloc[1] = gini_coefficient(np.array(list(nt['SDG2'])))\n",
    "df_regiongini['SDG3'].iloc[1] = gini_coefficient(np.array(list(nt['SDG3'])))\n",
    "df_regiongini['SDG4'].iloc[1] = gini_coefficient(np.array(list(nt['SDG4'])))\n",
    "df_regiongini['SDG5'].iloc[1] = gini_coefficient(np.array(list(nt['SDG5'])))\n",
    "df_regiongini['SDG6'].iloc[1] = gini_coefficient(np.array(list(nt['SDG6'])))\n",
    "df_regiongini['SDG7'].iloc[1] = gini_coefficient(np.array(list(nt['SDG7'])))\n",
    "df_regiongini['SDG8'].iloc[1] = gini_coefficient(np.array(list(nt['SDG8'])))\n",
    "df_regiongini['SDG9'].iloc[1] = gini_coefficient(np.array(list(nt['SDG9'])))\n",
    "df_regiongini['SDG10'].iloc[1] = gini_coefficient(np.array(list(nt['SDG10'])))\n",
    "df_regiongini['SDG11'].iloc[1] = gini_coefficient(np.array(list(nt['SDG11'])))\n",
    "df_regiongini['SDG12'].iloc[1] = gini_coefficient(np.array(list(nt['SDG12'])))\n",
    "df_regiongini['SDG13'].iloc[1] = gini_coefficient(np.array(list(nt['SDG13'])))\n",
    "df_regiongini['SDG14'].iloc[1] = gini_coefficient(np.array(list(nt['SDG14'])))\n",
    "df_regiongini['SDG15'].iloc[1] = gini_coefficient(np.array(list(nt['SDG15'])))\n",
    "df_regiongini['SDG16'].iloc[1] = gini_coefficient(np.array(list(nt['SDG16'])))\n",
    "df_regiongini['SDG17'].iloc[1] = gini_coefficient(np.array(list(nt['SDG17'])))"
   ]
  },
  {
   "cell_type": "code",
   "execution_count": 171,
   "id": "a9416629",
   "metadata": {},
   "outputs": [],
   "source": [
    "df_regiongini['Region'].iloc[2] = 'Hong Kong Island'\n",
    "df_regiongini['SDG1'].iloc[2] = gini_coefficient(np.array(list(hk['SDG1'])))\n",
    "df_regiongini['SDG2'].iloc[2] = gini_coefficient(np.array(list(hk['SDG2'])))\n",
    "df_regiongini['SDG3'].iloc[2] = gini_coefficient(np.array(list(hk['SDG3'])))\n",
    "df_regiongini['SDG4'].iloc[2] = gini_coefficient(np.array(list(hk['SDG4'])))\n",
    "df_regiongini['SDG5'].iloc[2] = gini_coefficient(np.array(list(hk['SDG5'])))\n",
    "df_regiongini['SDG6'].iloc[2] = gini_coefficient(np.array(list(hk['SDG6'])))\n",
    "df_regiongini['SDG7'].iloc[2] = gini_coefficient(np.array(list(hk['SDG7'])))\n",
    "df_regiongini['SDG8'].iloc[2] = gini_coefficient(np.array(list(hk['SDG8'])))\n",
    "df_regiongini['SDG9'].iloc[2] = gini_coefficient(np.array(list(hk['SDG9'])))\n",
    "df_regiongini['SDG10'].iloc[2] = gini_coefficient(np.array(list(hk['SDG10'])))\n",
    "df_regiongini['SDG11'].iloc[2] = gini_coefficient(np.array(list(hk['SDG11'])))\n",
    "df_regiongini['SDG12'].iloc[2] = gini_coefficient(np.array(list(hk['SDG12'])))\n",
    "df_regiongini['SDG13'].iloc[2] = gini_coefficient(np.array(list(hk['SDG13'])))\n",
    "df_regiongini['SDG14'].iloc[2] = gini_coefficient(np.array(list(hk['SDG14'])))\n",
    "df_regiongini['SDG15'].iloc[2] = gini_coefficient(np.array(list(hk['SDG15'])))\n",
    "df_regiongini['SDG16'].iloc[2] = gini_coefficient(np.array(list(hk['SDG16'])))\n",
    "df_regiongini['SDG17'].iloc[2] = gini_coefficient(np.array(list(hk['SDG17'])))"
   ]
  },
  {
   "cell_type": "code",
   "execution_count": 172,
   "id": "44fbc587",
   "metadata": {},
   "outputs": [
    {
     "name": "stdout",
     "output_type": "stream",
     "text": [
      "Error\n"
     ]
    }
   ],
   "source": [
    "for i in df_regiongini.columns:\n",
    "    try:\n",
    "        df_regiongini[i] = df_regiongini[i].astype(float)\n",
    "        df_regiongini[i] = round(df_regiongini[i],2)\n",
    "    except:\n",
    "        print('Error')"
   ]
  },
  {
   "cell_type": "code",
   "execution_count": 173,
   "id": "a3b9ac70",
   "metadata": {},
   "outputs": [
    {
     "data": {
      "text/html": [
       "<div>\n",
       "<style scoped>\n",
       "    .dataframe tbody tr th:only-of-type {\n",
       "        vertical-align: middle;\n",
       "    }\n",
       "\n",
       "    .dataframe tbody tr th {\n",
       "        vertical-align: top;\n",
       "    }\n",
       "\n",
       "    .dataframe thead th {\n",
       "        text-align: right;\n",
       "    }\n",
       "</style>\n",
       "<table border=\"1\" class=\"dataframe\">\n",
       "  <thead>\n",
       "    <tr style=\"text-align: right;\">\n",
       "      <th></th>\n",
       "      <th>Region</th>\n",
       "      <th>SDG1</th>\n",
       "      <th>SDG2</th>\n",
       "      <th>SDG3</th>\n",
       "      <th>SDG4</th>\n",
       "      <th>SDG5</th>\n",
       "      <th>SDG6</th>\n",
       "      <th>SDG7</th>\n",
       "      <th>SDG8</th>\n",
       "      <th>SDG9</th>\n",
       "      <th>SDG10</th>\n",
       "      <th>SDG11</th>\n",
       "      <th>SDG12</th>\n",
       "      <th>SDG13</th>\n",
       "      <th>SDG14</th>\n",
       "      <th>SDG15</th>\n",
       "      <th>SDG16</th>\n",
       "      <th>SDG17</th>\n",
       "    </tr>\n",
       "  </thead>\n",
       "  <tbody>\n",
       "    <tr>\n",
       "      <th>0</th>\n",
       "      <td>Kowloon</td>\n",
       "      <td>0.10</td>\n",
       "      <td>0.32</td>\n",
       "      <td>0.37</td>\n",
       "      <td>0.30</td>\n",
       "      <td>0.51</td>\n",
       "      <td>0.51</td>\n",
       "      <td>0.0</td>\n",
       "      <td>0.14</td>\n",
       "      <td>0.25</td>\n",
       "      <td>0.06</td>\n",
       "      <td>0.34</td>\n",
       "      <td>0.85</td>\n",
       "      <td>0.51</td>\n",
       "      <td>0.99</td>\n",
       "      <td>0.99</td>\n",
       "      <td>0.02</td>\n",
       "      <td>0.51</td>\n",
       "    </tr>\n",
       "    <tr>\n",
       "      <th>1</th>\n",
       "      <td>New Territories</td>\n",
       "      <td>0.05</td>\n",
       "      <td>0.29</td>\n",
       "      <td>0.31</td>\n",
       "      <td>0.31</td>\n",
       "      <td>0.48</td>\n",
       "      <td>0.46</td>\n",
       "      <td>0.0</td>\n",
       "      <td>0.17</td>\n",
       "      <td>0.24</td>\n",
       "      <td>0.07</td>\n",
       "      <td>0.26</td>\n",
       "      <td>0.89</td>\n",
       "      <td>0.46</td>\n",
       "      <td>0.96</td>\n",
       "      <td>0.96</td>\n",
       "      <td>0.03</td>\n",
       "      <td>0.46</td>\n",
       "    </tr>\n",
       "    <tr>\n",
       "      <th>2</th>\n",
       "      <td>Hong Kong Island</td>\n",
       "      <td>0.09</td>\n",
       "      <td>0.50</td>\n",
       "      <td>0.38</td>\n",
       "      <td>0.33</td>\n",
       "      <td>0.55</td>\n",
       "      <td>0.56</td>\n",
       "      <td>0.0</td>\n",
       "      <td>0.15</td>\n",
       "      <td>0.33</td>\n",
       "      <td>0.03</td>\n",
       "      <td>0.29</td>\n",
       "      <td>0.97</td>\n",
       "      <td>0.56</td>\n",
       "      <td>0.99</td>\n",
       "      <td>0.99</td>\n",
       "      <td>0.01</td>\n",
       "      <td>0.56</td>\n",
       "    </tr>\n",
       "  </tbody>\n",
       "</table>\n",
       "</div>"
      ],
      "text/plain": [
       "             Region  SDG1  SDG2  SDG3  SDG4  SDG5  SDG6  SDG7  SDG8  SDG9  \\\n",
       "0           Kowloon  0.10  0.32  0.37  0.30  0.51  0.51   0.0  0.14  0.25   \n",
       "1   New Territories  0.05  0.29  0.31  0.31  0.48  0.46   0.0  0.17  0.24   \n",
       "2  Hong Kong Island  0.09  0.50  0.38  0.33  0.55  0.56   0.0  0.15  0.33   \n",
       "\n",
       "   SDG10  SDG11  SDG12  SDG13  SDG14  SDG15  SDG16  SDG17  \n",
       "0   0.06   0.34   0.85   0.51   0.99   0.99   0.02   0.51  \n",
       "1   0.07   0.26   0.89   0.46   0.96   0.96   0.03   0.46  \n",
       "2   0.03   0.29   0.97   0.56   0.99   0.99   0.01   0.56  "
      ]
     },
     "execution_count": 173,
     "metadata": {},
     "output_type": "execute_result"
    }
   ],
   "source": [
    "df_regiongini"
   ]
  },
  {
   "cell_type": "code",
   "execution_count": 174,
   "id": "d621e44f",
   "metadata": {},
   "outputs": [],
   "source": [
    "df_regiongini.to_csv('df_regiongini.csv', index = False)"
   ]
  },
  {
   "cell_type": "code",
   "execution_count": null,
   "id": "aea91224",
   "metadata": {},
   "outputs": [],
   "source": []
  }
 ],
 "metadata": {
  "kernelspec": {
   "display_name": "Python 3 (ipykernel)",
   "language": "python",
   "name": "python3"
  },
  "language_info": {
   "codemirror_mode": {
    "name": "ipython",
    "version": 3
   },
   "file_extension": ".py",
   "mimetype": "text/x-python",
   "name": "python",
   "nbconvert_exporter": "python",
   "pygments_lexer": "ipython3",
   "version": "3.11.5"
  }
 },
 "nbformat": 4,
 "nbformat_minor": 5
}
