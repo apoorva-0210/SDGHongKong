{
 "cells": [
  {
   "cell_type": "code",
   "execution_count": 5,
   "id": "7da8e678",
   "metadata": {},
   "outputs": [],
   "source": [
    "import numpy as np\n",
    "import pandas as pd\n",
    "import warnings\n",
    "warnings.filterwarnings(\"ignore\")"
   ]
  },
  {
   "cell_type": "code",
   "execution_count": 6,
   "id": "07497ed7",
   "metadata": {},
   "outputs": [],
   "source": [
    "df = pd.read_csv('CensusBase_SDGV1.csv')"
   ]
  },
  {
   "cell_type": "code",
   "execution_count": 24,
   "id": "6accb970",
   "metadata": {},
   "outputs": [
    {
     "data": {
      "text/html": [
       "<div>\n",
       "<style scoped>\n",
       "    .dataframe tbody tr th:only-of-type {\n",
       "        vertical-align: middle;\n",
       "    }\n",
       "\n",
       "    .dataframe tbody tr th {\n",
       "        vertical-align: top;\n",
       "    }\n",
       "\n",
       "    .dataframe thead th {\n",
       "        text-align: right;\n",
       "    }\n",
       "</style>\n",
       "<table border=\"1\" class=\"dataframe\">\n",
       "  <thead>\n",
       "    <tr style=\"text-align: right;\">\n",
       "      <th></th>\n",
       "      <th>Building</th>\n",
       "      <th>lat</th>\n",
       "      <th>lon</th>\n",
       "      <th>SchoolScore</th>\n",
       "      <th>HospitalScore</th>\n",
       "      <th>PoliceScore</th>\n",
       "      <th>WasteManagementScore</th>\n",
       "      <th>ElderlyCareScore</th>\n",
       "      <th>ChildCareScore</th>\n",
       "      <th>TotalScore</th>\n",
       "      <th>...</th>\n",
       "      <th>Region</th>\n",
       "      <th>District</th>\n",
       "      <th>TotalPopulation</th>\n",
       "      <th>length</th>\n",
       "      <th>Income</th>\n",
       "      <th>1-3</th>\n",
       "      <th>4</th>\n",
       "      <th>5+</th>\n",
       "      <th>Sex ratio</th>\n",
       "      <th>Import/export, wholesale and retail trades, accommodation and food services</th>\n",
       "    </tr>\n",
       "  </thead>\n",
       "  <tbody>\n",
       "    <tr>\n",
       "      <th>0</th>\n",
       "      <td>Providence Peak</td>\n",
       "      <td>22.432130</td>\n",
       "      <td>114.202489</td>\n",
       "      <td>0.05</td>\n",
       "      <td>0.01</td>\n",
       "      <td>0.09</td>\n",
       "      <td>0.0</td>\n",
       "      <td>0.0</td>\n",
       "      <td>0.0</td>\n",
       "      <td>0.05</td>\n",
       "      <td>...</td>\n",
       "      <td>NewTerritories</td>\n",
       "      <td>TaiPo</td>\n",
       "      <td>2115.33</td>\n",
       "      <td>3</td>\n",
       "      <td>61320.0</td>\n",
       "      <td>46.0%</td>\n",
       "      <td>23.1%</td>\n",
       "      <td>31.0%</td>\n",
       "      <td>760</td>\n",
       "      <td>28.3%</td>\n",
       "    </tr>\n",
       "    <tr>\n",
       "      <th>1</th>\n",
       "      <td>(Sha Tau Kok) residential buildings</td>\n",
       "      <td>22.531577</td>\n",
       "      <td>114.203240</td>\n",
       "      <td>0.01</td>\n",
       "      <td>0.04</td>\n",
       "      <td>0.12</td>\n",
       "      <td>0.0</td>\n",
       "      <td>0.0</td>\n",
       "      <td>0.0</td>\n",
       "      <td>0.06</td>\n",
       "      <td>...</td>\n",
       "      <td>NewTerritories</td>\n",
       "      <td>North</td>\n",
       "      <td>1523.50</td>\n",
       "      <td>2</td>\n",
       "      <td>16230.0</td>\n",
       "      <td>44.5%</td>\n",
       "      <td>28.9%</td>\n",
       "      <td>26.6%</td>\n",
       "      <td>942</td>\n",
       "      <td>26.1%</td>\n",
       "    </tr>\n",
       "    <tr>\n",
       "      <th>2</th>\n",
       "      <td>(Yuen Long Southeast) Tower 1-5, The Reach (Sh...</td>\n",
       "      <td>22.437429</td>\n",
       "      <td>114.027660</td>\n",
       "      <td>0.27</td>\n",
       "      <td>0.17</td>\n",
       "      <td>0.00</td>\n",
       "      <td>0.0</td>\n",
       "      <td>0.0</td>\n",
       "      <td>0.0</td>\n",
       "      <td>0.17</td>\n",
       "      <td>...</td>\n",
       "      <td>NewTerritories</td>\n",
       "      <td>YuenLong</td>\n",
       "      <td>1841.00</td>\n",
       "      <td>1</td>\n",
       "      <td>34000.0</td>\n",
       "      <td>89.8%</td>\n",
       "      <td>10.2%</td>\n",
       "      <td>0.0%</td>\n",
       "      <td>698</td>\n",
       "      <td>31.4%</td>\n",
       "    </tr>\n",
       "    <tr>\n",
       "      <th>3</th>\n",
       "      <td>(Yuen Long Southeast) Tower 10-13, The Reach (...</td>\n",
       "      <td>22.437429</td>\n",
       "      <td>114.027660</td>\n",
       "      <td>0.24</td>\n",
       "      <td>0.15</td>\n",
       "      <td>0.00</td>\n",
       "      <td>0.0</td>\n",
       "      <td>0.0</td>\n",
       "      <td>0.0</td>\n",
       "      <td>0.15</td>\n",
       "      <td>...</td>\n",
       "      <td>NewTerritories</td>\n",
       "      <td>YuenLong</td>\n",
       "      <td>2076.00</td>\n",
       "      <td>1</td>\n",
       "      <td>38060.0</td>\n",
       "      <td>77.4%</td>\n",
       "      <td>17.5%</td>\n",
       "      <td>5.1%</td>\n",
       "      <td>829</td>\n",
       "      <td>20.9%</td>\n",
       "    </tr>\n",
       "    <tr>\n",
       "      <th>4</th>\n",
       "      <td>(Yuen Long Southeast) Grand Del Sol (Fung Cheu...</td>\n",
       "      <td>22.440560</td>\n",
       "      <td>114.032987</td>\n",
       "      <td>0.11</td>\n",
       "      <td>0.08</td>\n",
       "      <td>0.00</td>\n",
       "      <td>0.0</td>\n",
       "      <td>0.0</td>\n",
       "      <td>0.0</td>\n",
       "      <td>0.07</td>\n",
       "      <td>...</td>\n",
       "      <td>NewTerritories</td>\n",
       "      <td>YuenLong</td>\n",
       "      <td>3696.00</td>\n",
       "      <td>1</td>\n",
       "      <td>50850.0</td>\n",
       "      <td>51.2%</td>\n",
       "      <td>29.3%</td>\n",
       "      <td>19.6%</td>\n",
       "      <td>815</td>\n",
       "      <td>23.3%</td>\n",
       "    </tr>\n",
       "  </tbody>\n",
       "</table>\n",
       "<p>5 rows × 21 columns</p>\n",
       "</div>"
      ],
      "text/plain": [
       "                                            Building        lat         lon  \\\n",
       "0                                    Providence Peak  22.432130  114.202489   \n",
       "1                (Sha Tau Kok) residential buildings  22.531577  114.203240   \n",
       "2  (Yuen Long Southeast) Tower 1-5, The Reach (Sh...  22.437429  114.027660   \n",
       "3  (Yuen Long Southeast) Tower 10-13, The Reach (...  22.437429  114.027660   \n",
       "4  (Yuen Long Southeast) Grand Del Sol (Fung Cheu...  22.440560  114.032987   \n",
       "\n",
       "   SchoolScore  HospitalScore  PoliceScore  WasteManagementScore  \\\n",
       "0         0.05           0.01         0.09                   0.0   \n",
       "1         0.01           0.04         0.12                   0.0   \n",
       "2         0.27           0.17         0.00                   0.0   \n",
       "3         0.24           0.15         0.00                   0.0   \n",
       "4         0.11           0.08         0.00                   0.0   \n",
       "\n",
       "   ElderlyCareScore  ChildCareScore  TotalScore  ...          Region  \\\n",
       "0               0.0             0.0        0.05  ...  NewTerritories   \n",
       "1               0.0             0.0        0.06  ...  NewTerritories   \n",
       "2               0.0             0.0        0.17  ...  NewTerritories   \n",
       "3               0.0             0.0        0.15  ...  NewTerritories   \n",
       "4               0.0             0.0        0.07  ...  NewTerritories   \n",
       "\n",
       "   District TotalPopulation  length   Income    1-3      4     5+ Sex ratio  \\\n",
       "0     TaiPo         2115.33       3  61320.0  46.0%  23.1%  31.0%       760   \n",
       "1     North         1523.50       2  16230.0  44.5%  28.9%  26.6%       942   \n",
       "2  YuenLong         1841.00       1  34000.0  89.8%  10.2%   0.0%       698   \n",
       "3  YuenLong         2076.00       1  38060.0  77.4%  17.5%   5.1%       829   \n",
       "4  YuenLong         3696.00       1  50850.0  51.2%  29.3%  19.6%       815   \n",
       "\n",
       "  Import/export, wholesale and retail trades, accommodation and food services  \n",
       "0                                              28.3%                           \n",
       "1                                              26.1%                           \n",
       "2                                              31.4%                           \n",
       "3                                              20.9%                           \n",
       "4                                              23.3%                           \n",
       "\n",
       "[5 rows x 21 columns]"
      ]
     },
     "execution_count": 24,
     "metadata": {},
     "output_type": "execute_result"
    }
   ],
   "source": [
    "df.head(5)"
   ]
  },
  {
   "cell_type": "code",
   "execution_count": 8,
   "id": "c2ec8fee",
   "metadata": {},
   "outputs": [],
   "source": [
    "for i in df.index:\n",
    "    df['Building'][i] = df['Building'].iloc[i].strip()"
   ]
  },
  {
   "cell_type": "code",
   "execution_count": 9,
   "id": "428d0e62",
   "metadata": {},
   "outputs": [],
   "source": [
    "#df.columns"
   ]
  },
  {
   "cell_type": "code",
   "execution_count": 10,
   "id": "c5d38f58",
   "metadata": {},
   "outputs": [],
   "source": [
    "sdg1 = df.copy()"
   ]
  },
  {
   "cell_type": "code",
   "execution_count": 11,
   "id": "980c941a",
   "metadata": {},
   "outputs": [],
   "source": [
    "sdg1 = sdg1[['District/Area/Building Group', 'Building', 'lat', 'lon', 'Region', 'District', 'TotalPopulation', 'Income',\n",
    "            '1-3', '4', '5+', 'Sex ratio',]]"
   ]
  },
  {
   "cell_type": "code",
   "execution_count": 12,
   "id": "ab6f2f92",
   "metadata": {},
   "outputs": [],
   "source": [
    "sdg1['1.1.1'] = None\n",
    "sdg1['1.2.1'] = None\n",
    "sdg1['1.4.1'] = None\n",
    "sdg1['1.a.2'] = None"
   ]
  },
  {
   "cell_type": "code",
   "execution_count": 13,
   "id": "c60dcb60",
   "metadata": {},
   "outputs": [],
   "source": [
    "#sdg1['Sex ratio'].replace({',':''}, inplace = True)"
   ]
  },
  {
   "cell_type": "code",
   "execution_count": 14,
   "id": "a70cd417",
   "metadata": {},
   "outputs": [],
   "source": [
    "for i in sdg1.index:\n",
    "    inc = sdg1['Income'].iloc[i]\n",
    "    pop = sdg1['TotalPopulation'].sum()\n",
    "    if inc<=500:\n",
    "        a = (sdg1['TotalPopulation'].iloc[i]/pop)*100\n",
    "        sdg1['1.1.1'].iloc[i] = 0 - a\n",
    "    else:\n",
    "        sdg1['1.1.1'].iloc[i] = 0"
   ]
  },
  {
   "cell_type": "code",
   "execution_count": 15,
   "id": "3b151df0",
   "metadata": {},
   "outputs": [],
   "source": [
    "for i in sdg1.index:\n",
    "    sdg1['1-3'].iloc[i] = sdg1['1-3'].iloc[i][: -1]\n",
    "    sdg1['4'].iloc[i] = sdg1['4'].iloc[i][: -1]\n",
    "    sdg1['5+'].iloc[i] = sdg1['5+'].iloc[i][: -1]"
   ]
  },
  {
   "cell_type": "code",
   "execution_count": 16,
   "id": "ff4af882",
   "metadata": {},
   "outputs": [],
   "source": [
    "sdg1['Sex ratio']=sdg1['Sex ratio'].str.replace(',','')"
   ]
  },
  {
   "cell_type": "code",
   "execution_count": 17,
   "id": "e3c27597",
   "metadata": {},
   "outputs": [
    {
     "name": "stdout",
     "output_type": "stream",
     "text": [
      "Error\n",
      "Error\n",
      "Error\n",
      "Error\n"
     ]
    }
   ],
   "source": [
    "for i in sdg1.columns:\n",
    "    try:\n",
    "        sdg1[i] = sdg1[i].astype(float)\n",
    "    except:\n",
    "        print('Error')"
   ]
  },
  {
   "cell_type": "code",
   "execution_count": 18,
   "id": "ad3d2299",
   "metadata": {},
   "outputs": [],
   "source": [
    "for i in sdg1.index:\n",
    "    inc = sdg1['Income'].iloc[i]\n",
    "    val = 0\n",
    "    if inc <= 10000:\n",
    "        a = sdg1['TotalPopulation'].iloc[i] * sdg1['1-3'].iloc[i]\n",
    "        a = a/sdg1['TotalPopulation'].sum()\n",
    "        val = val+a\n",
    "        if inc <= 20800:\n",
    "            a = sdg1['TotalPopulation'].iloc[i] * sdg1['4'].iloc[i]\n",
    "            a = a/sdg1['TotalPopulation'].sum()\n",
    "            val = val+a\n",
    "            if inc <= 21000:\n",
    "                a = sdg1['TotalPopulation'].iloc[i] * sdg1['5+'].iloc[i]\n",
    "                a = a/sdg1['TotalPopulation'].sum()\n",
    "                val = val+a\n",
    "    sdg1['1.2.1'].iloc[i] = 0-val"
   ]
  },
  {
   "cell_type": "code",
   "execution_count": 19,
   "id": "8bbb559f",
   "metadata": {},
   "outputs": [],
   "source": [
    "sdg1['Male'] = (sdg1['Sex ratio'] * sdg1['TotalPopulation'])/1000\n",
    "sdg1['Female'] = sdg1['TotalPopulation'] - sdg1['Male']\n",
    "sdg1['Male'] = sdg1['Male'].round(2)\n",
    "sdg1['Female'] = sdg1['Female'].round(2)"
   ]
  },
  {
   "cell_type": "code",
   "execution_count": 20,
   "id": "79e3c63e",
   "metadata": {},
   "outputs": [],
   "source": [
    "sdg1.drop(columns= ['Sex ratio'], inplace = True)"
   ]
  },
  {
   "cell_type": "code",
   "execution_count": 25,
   "id": "3c367240",
   "metadata": {},
   "outputs": [],
   "source": [
    "sdg1['1.a.2'] = df['SchoolScore'] + df['HospitalScore']"
   ]
  },
  {
   "cell_type": "code",
   "execution_count": 26,
   "id": "3bebb371",
   "metadata": {},
   "outputs": [],
   "source": [
    "sdg1['1.4.1'] = df['TotalScore']"
   ]
  },
  {
   "cell_type": "code",
   "execution_count": 27,
   "id": "ef55909c",
   "metadata": {},
   "outputs": [],
   "source": [
    "sdg1 = sdg1[['District/Area/Building Group', 'Building', 'lat', 'lon', 'Region',\n",
    "       'District', 'TotalPopulation', 'Male', 'Female', 'Income', '1-3', '4', '5+', '1.1.1',\n",
    "       '1.2.1', '1.4.1', '1.a.2']]"
   ]
  },
  {
   "cell_type": "code",
   "execution_count": 28,
   "id": "1a473be9",
   "metadata": {},
   "outputs": [
    {
     "data": {
      "text/plain": [
       "(6983, 17)"
      ]
     },
     "execution_count": 28,
     "metadata": {},
     "output_type": "execute_result"
    }
   ],
   "source": [
    "sdg1.shape"
   ]
  },
  {
   "cell_type": "code",
   "execution_count": 29,
   "id": "3d5d5c2b",
   "metadata": {},
   "outputs": [],
   "source": [
    "sdg1['SDG1'] = sdg1['1.1.1'] + sdg1['1.2.1'] + sdg1['1.4.1'] + sdg1['1.a.2']"
   ]
  },
  {
   "cell_type": "code",
   "execution_count": 30,
   "id": "e7d2975d",
   "metadata": {},
   "outputs": [],
   "source": [
    "sdg1 = sdg1[['Building', 'Male', 'Female', '1-3', '4', '5+', '1.1.1', '1.2.1', '1.4.1', '1.a.2', 'SDG1']]"
   ]
  },
  {
   "cell_type": "code",
   "execution_count": 31,
   "id": "a9254712",
   "metadata": {},
   "outputs": [],
   "source": [
    "df = pd.merge(df, sdg1, on = 'Building', how='inner')"
   ]
  },
  {
   "cell_type": "code",
   "execution_count": null,
   "id": "372630e5",
   "metadata": {},
   "outputs": [],
   "source": [
    "df.drop_duplicates(subset = ['Building', 'lat', 'lon'], inplace = True)"
   ]
  },
  {
   "cell_type": "code",
   "execution_count": null,
   "id": "37b0de90",
   "metadata": {},
   "outputs": [],
   "source": [
    "df = df.reset_index()\n",
    "df.drop(columns=['index'], inplace = True)"
   ]
  },
  {
   "cell_type": "code",
   "execution_count": null,
   "id": "33d2b6fc",
   "metadata": {},
   "outputs": [],
   "source": [
    "df"
   ]
  },
  {
   "cell_type": "code",
   "execution_count": null,
   "id": "3afe9310",
   "metadata": {},
   "outputs": [],
   "source": [
    "sdg2 = df.copy()"
   ]
  },
  {
   "cell_type": "code",
   "execution_count": null,
   "id": "ed9a089a",
   "metadata": {},
   "outputs": [],
   "source": [
    "sdg2 = sdg2[['Building', 'District/Area/Building Group', 'lat', 'lon', 'Region',\n",
    "       'District', 'TotalPopulation', 'length', 'Income', 'Address']]"
   ]
  },
  {
   "cell_type": "code",
   "execution_count": null,
   "id": "734e1046",
   "metadata": {},
   "outputs": [],
   "source": [
    "sdg2['2.3.2'] = None\n",
    "sdg2['SDG2'] = None"
   ]
  },
  {
   "cell_type": "code",
   "execution_count": null,
   "id": "ef362820",
   "metadata": {},
   "outputs": [],
   "source": [
    "df2 = pd.read_csv('CentamapDistrictRegion.csv')"
   ]
  },
  {
   "cell_type": "code",
   "execution_count": null,
   "id": "6870f59e",
   "metadata": {},
   "outputs": [],
   "source": [
    "df2 = df2[['District/Area/Building Group', 'Import/export, wholesale and retail trades, accommodation and food services']]"
   ]
  },
  {
   "cell_type": "code",
   "execution_count": null,
   "id": "2d08891b",
   "metadata": {},
   "outputs": [],
   "source": [
    "sdg2 = pd.merge(df2, sdg2, on = 'District/Area/Building Group', how='inner')"
   ]
  },
  {
   "cell_type": "code",
   "execution_count": null,
   "id": "9ddc460d",
   "metadata": {},
   "outputs": [],
   "source": [
    "for i in sdg2.index:\n",
    "    sdg2['Import/export, wholesale and retail trades, accommodation and food services'].iloc[i] = sdg2['Import/export, wholesale and retail trades, accommodation and food services'].iloc[i][: -1]"
   ]
  },
  {
   "cell_type": "code",
   "execution_count": null,
   "id": "6b377d34",
   "metadata": {},
   "outputs": [],
   "source": [
    "for i in sdg2.columns:\n",
    "    try:\n",
    "        sdg2[i] = sdg2[i].astype(float)\n",
    "    except:\n",
    "        print('Error')"
   ]
  },
  {
   "cell_type": "code",
   "execution_count": null,
   "id": "ec42bcfd",
   "metadata": {},
   "outputs": [],
   "source": [
    "for i in sdg2.index:\n",
    "    inc = sdg2['Income'].iloc[i]\n",
    "    food = sdg2['Import/export, wholesale and retail trades, accommodation and food services'].iloc[i]\n",
    "    food = food/100\n",
    "    pop = sdg2['TotalPopulation'].iloc[i]\n",
    "    foodpop = food*pop\n",
    "    a = (inc * foodpop)/pop\n",
    "    sdg2['2.3.2'].iloc[i] = a\n",
    "    sdg2['SDG2'].iloc[i] = a"
   ]
  },
  {
   "cell_type": "code",
   "execution_count": null,
   "id": "9fcf29ae",
   "metadata": {},
   "outputs": [],
   "source": [
    "sdg2 = sdg2[['Building', '2.3.2', 'SDG2']]"
   ]
  },
  {
   "cell_type": "code",
   "execution_count": null,
   "id": "bcea4ed3",
   "metadata": {},
   "outputs": [],
   "source": [
    "df = pd.merge(df, sdg2, left_index=True, right_index=True, how='inner')"
   ]
  },
  {
   "cell_type": "code",
   "execution_count": null,
   "id": "34b25388",
   "metadata": {},
   "outputs": [],
   "source": [
    "df"
   ]
  },
  {
   "cell_type": "code",
   "execution_count": null,
   "id": "e01a43d7",
   "metadata": {},
   "outputs": [],
   "source": [
    "df.rename(columns = {'Building_x' : 'Building'}, inplace = True)\n",
    "df.drop(columns = ['Building_y'], inplace = True)"
   ]
  }
 ],
 "metadata": {
  "kernelspec": {
   "display_name": "Python 3",
   "language": "python",
   "name": "python3"
  },
  "language_info": {
   "codemirror_mode": {
    "name": "ipython",
    "version": 3
   },
   "file_extension": ".py",
   "mimetype": "text/x-python",
   "name": "python",
   "nbconvert_exporter": "python",
   "pygments_lexer": "ipython3",
   "version": "3.8.8"
  }
 },
 "nbformat": 4,
 "nbformat_minor": 5
}
