{
 "cells": [
  {
   "cell_type": "code",
   "execution_count": 22,
   "id": "92eb89b4",
   "metadata": {},
   "outputs": [],
   "source": [
    "import pandas as pd"
   ]
  },
  {
   "cell_type": "code",
   "execution_count": 23,
   "id": "0fb1126f",
   "metadata": {},
   "outputs": [],
   "source": [
    "df = pd.read_csv('SDG_Score.csv')"
   ]
  },
  {
   "cell_type": "code",
   "execution_count": 24,
   "id": "00dcb7e0",
   "metadata": {},
   "outputs": [
    {
     "data": {
      "text/plain": [
       "Index(['District/Area/Building Group', 'Building', 'lat', 'lon', 'Region',\n",
       "       'District', 'TotalPopulation', 'Working population', 'Male', 'Female',\n",
       "       'Income', 'WasteManagementScore', 'HospitalScore', 'SchoolScore',\n",
       "       'PoliceScore', 'ElderlyCareScore', 'ChildCareScore', 'SDG1', 'SDG2',\n",
       "       'SDG3', 'SDG4', 'SDG5', 'SDG6', 'SDG7', 'SDG8', 'SDG9', 'SDG10',\n",
       "       'SDG11', 'SDG12', 'SDG13', 'SDG14', 'SDG15', 'SDG16', 'SDG17',\n",
       "       'Overall SDG Score'],\n",
       "      dtype='object')"
      ]
     },
     "execution_count": 24,
     "metadata": {},
     "output_type": "execute_result"
    }
   ],
   "source": [
    "df.columns"
   ]
  },
  {
   "cell_type": "code",
   "execution_count": 25,
   "id": "ffb92925",
   "metadata": {},
   "outputs": [],
   "source": [
    "df = df[['District/Area/Building Group', 'Building', 'Region', 'District', 'Male', 'Female','SDG1', 'SDG2',\n",
    "       'SDG3', 'SDG4', 'SDG5', 'SDG6', 'SDG7', 'SDG8', 'SDG9', 'SDG10',\n",
    "       'SDG11', 'SDG12', 'SDG13', 'SDG14', 'SDG15', 'SDG16', 'SDG17',\n",
    "       'Overall SDG Score']]"
   ]
  },
  {
   "cell_type": "code",
   "execution_count": 26,
   "id": "9bcbdf21",
   "metadata": {},
   "outputs": [],
   "source": [
    "df_dis = df.copy()"
   ]
  },
  {
   "cell_type": "code",
   "execution_count": 27,
   "id": "479b8761",
   "metadata": {},
   "outputs": [
    {
     "name": "stdout",
     "output_type": "stream",
     "text": [
      "Error\n",
      "Error\n",
      "Error\n",
      "Error\n"
     ]
    }
   ],
   "source": [
    "for i in df_dis.columns:\n",
    "    try:\n",
    "        df_dis[i] = df_dis[i].astype(float)\n",
    "    except:\n",
    "        print('Error')"
   ]
  },
  {
   "cell_type": "code",
   "execution_count": 28,
   "id": "8b9ef6fc",
   "metadata": {},
   "outputs": [
    {
     "name": "stderr",
     "output_type": "stream",
     "text": [
      "C:\\Users\\Apoorva\\AppData\\Local\\Temp\\ipykernel_94728\\2042473771.py:1: FutureWarning: The default value of numeric_only in DataFrameGroupBy.mean is deprecated. In a future version, numeric_only will default to False. Either specify numeric_only or select only columns which should be valid for the function.\n",
      "  df_dis = df_dis.groupby(by = 'District').mean()\n"
     ]
    }
   ],
   "source": [
    "df_dis = df_dis.groupby(by = 'District').mean()"
   ]
  },
  {
   "cell_type": "code",
   "execution_count": 29,
   "id": "360d3908",
   "metadata": {},
   "outputs": [],
   "source": [
    "for i in df_dis.columns:\n",
    "    try:\n",
    "        df_dis[i] = df_dis[i].round(2)\n",
    "    except:\n",
    "        print('Error')"
   ]
  },
  {
   "cell_type": "code",
   "execution_count": 33,
   "id": "1c216ad6",
   "metadata": {},
   "outputs": [],
   "source": [
    "df_dis = df_dis.reset_index()"
   ]
  },
  {
   "cell_type": "code",
   "execution_count": 34,
   "id": "4d55a4c2",
   "metadata": {},
   "outputs": [
    {
     "data": {
      "text/plain": [
       "Index(['District', 'Male', 'Female', 'SDG1', 'SDG2', 'SDG3', 'SDG4', 'SDG5',\n",
       "       'SDG6', 'SDG7', 'SDG8', 'SDG9', 'SDG10', 'SDG11', 'SDG12', 'SDG13',\n",
       "       'SDG14', 'SDG15', 'SDG16', 'SDG17', 'Overall SDG Score'],\n",
       "      dtype='object')"
      ]
     },
     "execution_count": 34,
     "metadata": {},
     "output_type": "execute_result"
    }
   ],
   "source": [
    "df_dis.columns"
   ]
  },
  {
   "cell_type": "code",
   "execution_count": 36,
   "id": "a5cbff01",
   "metadata": {},
   "outputs": [],
   "source": [
    "df_dis = df_dis[['District', 'Male', 'Female']]"
   ]
  },
  {
   "cell_type": "code",
   "execution_count": 37,
   "id": "99a97ed5",
   "metadata": {},
   "outputs": [],
   "source": [
    "df_dis.to_excel('District_gender.xlsx', index = False)"
   ]
  },
  {
   "cell_type": "code",
   "execution_count": null,
   "id": "06d02d45",
   "metadata": {},
   "outputs": [],
   "source": []
  },
  {
   "cell_type": "code",
   "execution_count": null,
   "id": "6ac4f1b7",
   "metadata": {},
   "outputs": [],
   "source": []
  },
  {
   "cell_type": "code",
   "execution_count": null,
   "id": "cf31cd93",
   "metadata": {},
   "outputs": [],
   "source": []
  },
  {
   "cell_type": "code",
   "execution_count": null,
   "id": "c6d83e24",
   "metadata": {},
   "outputs": [],
   "source": []
  },
  {
   "cell_type": "code",
   "execution_count": null,
   "id": "4513f4ed",
   "metadata": {},
   "outputs": [],
   "source": []
  },
  {
   "cell_type": "code",
   "execution_count": null,
   "id": "35f7d21c",
   "metadata": {},
   "outputs": [],
   "source": []
  },
  {
   "cell_type": "code",
   "execution_count": 7,
   "id": "e3efb669",
   "metadata": {},
   "outputs": [],
   "source": [
    "df.to_excel('genderanalysis.xlsx')"
   ]
  },
  {
   "cell_type": "code",
   "execution_count": null,
   "id": "f4e53b4a",
   "metadata": {},
   "outputs": [],
   "source": []
  }
 ],
 "metadata": {
  "kernelspec": {
   "display_name": "Python 3 (ipykernel)",
   "language": "python",
   "name": "python3"
  },
  "language_info": {
   "codemirror_mode": {
    "name": "ipython",
    "version": 3
   },
   "file_extension": ".py",
   "mimetype": "text/x-python",
   "name": "python",
   "nbconvert_exporter": "python",
   "pygments_lexer": "ipython3",
   "version": "3.11.5"
  }
 },
 "nbformat": 4,
 "nbformat_minor": 5
}
